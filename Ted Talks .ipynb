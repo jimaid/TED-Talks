{
 "cells": [
  {
   "cell_type": "markdown",
   "metadata": {
    "toc": true
   },
   "source": [
    "<h1>Table of Contents<span class=\"tocSkip\"></span></h1>\n",
    "<div class=\"toc\"><ul class=\"toc-item\"><li><span><a href=\"#Project-Description\" data-toc-modified-id=\"Project-Description-1\"><span class=\"toc-item-num\">1&nbsp;&nbsp;</span>Project Description</a></span></li><li><span><a href=\"#Introduction-to-the-TED-talk-dataset\" data-toc-modified-id=\"Introduction-to-the-TED-talk-dataset-2\"><span class=\"toc-item-num\">2&nbsp;&nbsp;</span>Introduction to the TED talk dataset</a></span></li><li><span><a href=\"#Which-Talk-Provoked-the-Most-Online-Discussions?\" data-toc-modified-id=\"Which-Talk-Provoked-the-Most-Online-Discussions?-3\"><span class=\"toc-item-num\">3&nbsp;&nbsp;</span>Which Talk Provoked the Most Online Discussions?</a></span><ul class=\"toc-item\"><li><span><a href=\"#Lessons-learned-in-finding-which-talk-provoked-the-most-online-discussions\" data-toc-modified-id=\"Lessons-learned-in-finding-which-talk-provoked-the-most-online-discussions-3.1\"><span class=\"toc-item-num\">3.1&nbsp;&nbsp;</span>Lessons learned in finding which talk provoked the most online discussions</a></span></li></ul></li><li><span><a href=\"#Visualize-The-Distribution-of-Comments\" data-toc-modified-id=\"Visualize-The-Distribution-of-Comments-4\"><span class=\"toc-item-num\">4&nbsp;&nbsp;</span>Visualize The Distribution of Comments</a></span><ul class=\"toc-item\"><li><span><a href=\"#Lessons-learned-in-Visualizing-The-Distribution-of-Comments\" data-toc-modified-id=\"Lessons-learned-in-Visualizing-The-Distribution-of-Comments-4.1\"><span class=\"toc-item-num\">4.1&nbsp;&nbsp;</span>Lessons learned in Visualizing The Distribution of Comments</a></span></li></ul></li><li><span><a href=\"#Plot-the-number-of-talks-that-took-place-each-year\" data-toc-modified-id=\"Plot-the-number-of-talks-that-took-place-each-year-5\"><span class=\"toc-item-num\">5&nbsp;&nbsp;</span>Plot the number of talks that took place each year</a></span><ul class=\"toc-item\"><li><span><a href=\"#Lessons-learned-Plotting-the-number-of-talks-that-took-place-each-year\" data-toc-modified-id=\"Lessons-learned-Plotting-the-number-of-talks-that-took-place-each-year-5.1\"><span class=\"toc-item-num\">5.1&nbsp;&nbsp;</span>Lessons learned Plotting the number of talks that took place each year</a></span></li></ul></li><li><span><a href=\"#What-Were-The-Best-Events-In-TED-History-to-Attend?\" data-toc-modified-id=\"What-Were-The-Best-Events-In-TED-History-to-Attend?-6\"><span class=\"toc-item-num\">6&nbsp;&nbsp;</span>What Were The Best Events In TED History to Attend?</a></span><ul class=\"toc-item\"><li><span><a href=\"#Lessons-on-What-Were-The-Best-Events-in-TED-History\" data-toc-modified-id=\"Lessons-on-What-Were-The-Best-Events-in-TED-History-6.1\"><span class=\"toc-item-num\">6.1&nbsp;&nbsp;</span>Lessons on What Were The Best Events in TED History</a></span></li></ul></li><li><span><a href=\"#Unpack-the-Ratings-data\" data-toc-modified-id=\"Unpack-the-Ratings-data-7\"><span class=\"toc-item-num\">7&nbsp;&nbsp;</span>Unpack the Ratings data</a></span><ul class=\"toc-item\"><li><span><a href=\"#Lessons-learned-in-Unpacking-the-Ratings-data\" data-toc-modified-id=\"Lessons-learned-in-Unpacking-the-Ratings-data-7.1\"><span class=\"toc-item-num\">7.1&nbsp;&nbsp;</span>Lessons learned in Unpacking the Ratings data</a></span></li></ul></li><li><span><a href=\"#Total-Number-of-Ratings-Received-By-Each-Talk\" data-toc-modified-id=\"Total-Number-of-Ratings-Received-By-Each-Talk-8\"><span class=\"toc-item-num\">8&nbsp;&nbsp;</span>Total Number of Ratings Received By Each Talk</a></span></li><li><span><a href=\"#Which-Occupations-Delivered-the-Funniest-TED-Talks-on-Average\" data-toc-modified-id=\"Which-Occupations-Delivered-the-Funniest-TED-Talks-on-Average-9\"><span class=\"toc-item-num\">9&nbsp;&nbsp;</span>Which Occupations Delivered the Funniest TED Talks on Average</a></span><ul class=\"toc-item\"><li><span><a href=\"#Analyze-the-funny-rate-by-occupation\" data-toc-modified-id=\"Analyze-the-funny-rate-by-occupation-9.1\"><span class=\"toc-item-num\">9.1&nbsp;&nbsp;</span>Analyze the funny rate by occupation</a></span></li><li><span><a href=\"#Focus-on-occupations-that-are-well-represented-in-the-data\" data-toc-modified-id=\"Focus-on-occupations-that-are-well-represented-in-the-data-9.2\"><span class=\"toc-item-num\">9.2&nbsp;&nbsp;</span>Focus on occupations that are well-represented in the data</a></span></li><li><span><a href=\"#Lessons-on-Which-occupations-Deliver-the-funniest-TED-talks-on-average?\" data-toc-modified-id=\"Lessons-on-Which-occupations-Deliver-the-funniest-TED-talks-on-average?-9.3\"><span class=\"toc-item-num\">9.3&nbsp;&nbsp;</span>Lessons on Which occupations Deliver the funniest TED talks on average?</a></span></li></ul></li></ul></div>"
   ]
  },
  {
   "cell_type": "markdown",
   "metadata": {},
   "source": [
    "# Project Description\n",
    "![title](ted.jpg)\n",
    "<p>The pandas library is a powerful tool for multiple phases of the data science workflow, including data cleaning, visualization, and exploratory data analysis. However, the size and complexity of the pandas library makes it challenging to discover the best way to accomplish any given task.</p>\n",
    "\n",
    "<p>In this tutorial project, I'll be using pandas to answer questions about a real-world TED-talk dataset. Through each of the questions(Chapters) below, I'll be making sense of the data i sourced from the <strong>Kaggle</strong> website featuring all TED-talks up till September 2017.<p>TED Conferences LLC (Technology, Entertainment, Design) is a media organization that posts talks online for free distribution under the slogan \"ideas worth spreading.\" TED was conceived by Richard Saul Wurman in February 1984 as a conference; it has been held annually since 1990</p></p> <p><strong>So for this project, I will be walking through the following:</strong></p><p>1. Introduction to the TED talk dataset</p>\n",
    "<p>2. Which talks provoke the most online discussion?</p>\n",
    "<p>3. Visualize the distribution of comments</p>\n",
    "<p>4. Plot the number of talks that took place each year</p>\n",
    "<p>5. What were the \"best\" events in TED history to attend?</p>\n",
    "<p>6. Unpack the ratings data</p>\n",
    "<p>7. Count the total number of ratings received by each talk</p>\n",
    "<p>8. Which occupations deliver the funniest TED talks on average?</p>"
   ]
  },
  {
   "cell_type": "markdown",
   "metadata": {},
   "source": [
    "# Introduction to the TED talk dataset"
   ]
  },
  {
   "cell_type": "code",
   "execution_count": 1,
   "metadata": {},
   "outputs": [],
   "source": [
    "#import all relevant libraries\n",
    "import numpy as np\n",
    "import pandas as pd\n",
    "from matplotlib import pyplot as plt\n",
    "%matplotlib inline"
   ]
  },
  {
   "cell_type": "code",
   "execution_count": 2,
   "metadata": {
    "scrolled": true
   },
   "outputs": [
    {
     "data": {
      "text/html": [
       "<div>\n",
       "<style scoped>\n",
       "    .dataframe tbody tr th:only-of-type {\n",
       "        vertical-align: middle;\n",
       "    }\n",
       "\n",
       "    .dataframe tbody tr th {\n",
       "        vertical-align: top;\n",
       "    }\n",
       "\n",
       "    .dataframe thead th {\n",
       "        text-align: right;\n",
       "    }\n",
       "</style>\n",
       "<table border=\"1\" class=\"dataframe\">\n",
       "  <thead>\n",
       "    <tr style=\"text-align: right;\">\n",
       "      <th></th>\n",
       "      <th>comments</th>\n",
       "      <th>description</th>\n",
       "      <th>duration</th>\n",
       "      <th>event</th>\n",
       "      <th>film_date</th>\n",
       "      <th>languages</th>\n",
       "      <th>main_speaker</th>\n",
       "      <th>name</th>\n",
       "      <th>num_speaker</th>\n",
       "      <th>published_date</th>\n",
       "      <th>ratings</th>\n",
       "      <th>related_talks</th>\n",
       "      <th>speaker_occupation</th>\n",
       "      <th>tags</th>\n",
       "      <th>title</th>\n",
       "      <th>url</th>\n",
       "      <th>views</th>\n",
       "    </tr>\n",
       "  </thead>\n",
       "  <tbody>\n",
       "    <tr>\n",
       "      <th>0</th>\n",
       "      <td>4553</td>\n",
       "      <td>Sir Ken Robinson makes an entertaining and pro...</td>\n",
       "      <td>1164</td>\n",
       "      <td>TED2006</td>\n",
       "      <td>1140825600</td>\n",
       "      <td>60</td>\n",
       "      <td>Ken Robinson</td>\n",
       "      <td>Ken Robinson: Do schools kill creativity?</td>\n",
       "      <td>1</td>\n",
       "      <td>1151367060</td>\n",
       "      <td>[{'id': 7, 'name': 'Funny', 'count': 19645}, {...</td>\n",
       "      <td>[{'id': 865, 'hero': 'https://pe.tedcdn.com/im...</td>\n",
       "      <td>Author/educator</td>\n",
       "      <td>['children', 'creativity', 'culture', 'dance',...</td>\n",
       "      <td>Do schools kill creativity?</td>\n",
       "      <td>https://www.ted.com/talks/ken_robinson_says_sc...</td>\n",
       "      <td>47227110</td>\n",
       "    </tr>\n",
       "    <tr>\n",
       "      <th>1</th>\n",
       "      <td>265</td>\n",
       "      <td>With the same humor and humanity he exuded in ...</td>\n",
       "      <td>977</td>\n",
       "      <td>TED2006</td>\n",
       "      <td>1140825600</td>\n",
       "      <td>43</td>\n",
       "      <td>Al Gore</td>\n",
       "      <td>Al Gore: Averting the climate crisis</td>\n",
       "      <td>1</td>\n",
       "      <td>1151367060</td>\n",
       "      <td>[{'id': 7, 'name': 'Funny', 'count': 544}, {'i...</td>\n",
       "      <td>[{'id': 243, 'hero': 'https://pe.tedcdn.com/im...</td>\n",
       "      <td>Climate advocate</td>\n",
       "      <td>['alternative energy', 'cars', 'climate change...</td>\n",
       "      <td>Averting the climate crisis</td>\n",
       "      <td>https://www.ted.com/talks/al_gore_on_averting_...</td>\n",
       "      <td>3200520</td>\n",
       "    </tr>\n",
       "    <tr>\n",
       "      <th>2</th>\n",
       "      <td>124</td>\n",
       "      <td>New York Times columnist David Pogue takes aim...</td>\n",
       "      <td>1286</td>\n",
       "      <td>TED2006</td>\n",
       "      <td>1140739200</td>\n",
       "      <td>26</td>\n",
       "      <td>David Pogue</td>\n",
       "      <td>David Pogue: Simplicity sells</td>\n",
       "      <td>1</td>\n",
       "      <td>1151367060</td>\n",
       "      <td>[{'id': 7, 'name': 'Funny', 'count': 964}, {'i...</td>\n",
       "      <td>[{'id': 1725, 'hero': 'https://pe.tedcdn.com/i...</td>\n",
       "      <td>Technology columnist</td>\n",
       "      <td>['computers', 'entertainment', 'interface desi...</td>\n",
       "      <td>Simplicity sells</td>\n",
       "      <td>https://www.ted.com/talks/david_pogue_says_sim...</td>\n",
       "      <td>1636292</td>\n",
       "    </tr>\n",
       "    <tr>\n",
       "      <th>3</th>\n",
       "      <td>200</td>\n",
       "      <td>In an emotionally charged talk, MacArthur-winn...</td>\n",
       "      <td>1116</td>\n",
       "      <td>TED2006</td>\n",
       "      <td>1140912000</td>\n",
       "      <td>35</td>\n",
       "      <td>Majora Carter</td>\n",
       "      <td>Majora Carter: Greening the ghetto</td>\n",
       "      <td>1</td>\n",
       "      <td>1151367060</td>\n",
       "      <td>[{'id': 3, 'name': 'Courageous', 'count': 760}...</td>\n",
       "      <td>[{'id': 1041, 'hero': 'https://pe.tedcdn.com/i...</td>\n",
       "      <td>Activist for environmental justice</td>\n",
       "      <td>['MacArthur grant', 'activism', 'business', 'c...</td>\n",
       "      <td>Greening the ghetto</td>\n",
       "      <td>https://www.ted.com/talks/majora_carter_s_tale...</td>\n",
       "      <td>1697550</td>\n",
       "    </tr>\n",
       "    <tr>\n",
       "      <th>4</th>\n",
       "      <td>593</td>\n",
       "      <td>You've never seen data presented like this. Wi...</td>\n",
       "      <td>1190</td>\n",
       "      <td>TED2006</td>\n",
       "      <td>1140566400</td>\n",
       "      <td>48</td>\n",
       "      <td>Hans Rosling</td>\n",
       "      <td>Hans Rosling: The best stats you've ever seen</td>\n",
       "      <td>1</td>\n",
       "      <td>1151440680</td>\n",
       "      <td>[{'id': 9, 'name': 'Ingenious', 'count': 3202}...</td>\n",
       "      <td>[{'id': 2056, 'hero': 'https://pe.tedcdn.com/i...</td>\n",
       "      <td>Global health expert; data visionary</td>\n",
       "      <td>['Africa', 'Asia', 'Google', 'demo', 'economic...</td>\n",
       "      <td>The best stats you've ever seen</td>\n",
       "      <td>https://www.ted.com/talks/hans_rosling_shows_t...</td>\n",
       "      <td>12005869</td>\n",
       "    </tr>\n",
       "    <tr>\n",
       "      <th>5</th>\n",
       "      <td>672</td>\n",
       "      <td>Tony Robbins discusses the \"invisible forces\" ...</td>\n",
       "      <td>1305</td>\n",
       "      <td>TED2006</td>\n",
       "      <td>1138838400</td>\n",
       "      <td>36</td>\n",
       "      <td>Tony Robbins</td>\n",
       "      <td>Tony Robbins: Why we do what we do</td>\n",
       "      <td>1</td>\n",
       "      <td>1151440680</td>\n",
       "      <td>[{'id': 7, 'name': 'Funny', 'count': 1102}, {'...</td>\n",
       "      <td>[{'id': 229, 'hero': 'https://pe.tedcdn.com/im...</td>\n",
       "      <td>Life coach; expert in leadership psychology</td>\n",
       "      <td>['business', 'culture', 'entertainment', 'goal...</td>\n",
       "      <td>Why we do what we do</td>\n",
       "      <td>https://www.ted.com/talks/tony_robbins_asks_wh...</td>\n",
       "      <td>20685401</td>\n",
       "    </tr>\n",
       "    <tr>\n",
       "      <th>6</th>\n",
       "      <td>919</td>\n",
       "      <td>When two young Mormon missionaries knock on Ju...</td>\n",
       "      <td>992</td>\n",
       "      <td>TED2006</td>\n",
       "      <td>1140739200</td>\n",
       "      <td>31</td>\n",
       "      <td>Julia Sweeney</td>\n",
       "      <td>Julia Sweeney: Letting go of God</td>\n",
       "      <td>1</td>\n",
       "      <td>1152490260</td>\n",
       "      <td>[{'id': 3, 'name': 'Courageous', 'count': 477}...</td>\n",
       "      <td>[{'id': 22, 'hero': 'https://pe.tedcdn.com/ima...</td>\n",
       "      <td>Actor, comedian, playwright</td>\n",
       "      <td>['Christianity', 'God', 'atheism', 'comedy', '...</td>\n",
       "      <td>Letting go of God</td>\n",
       "      <td>https://www.ted.com/talks/julia_sweeney_on_let...</td>\n",
       "      <td>3769987</td>\n",
       "    </tr>\n",
       "    <tr>\n",
       "      <th>7</th>\n",
       "      <td>46</td>\n",
       "      <td>Architect Joshua Prince-Ramus takes the audien...</td>\n",
       "      <td>1198</td>\n",
       "      <td>TED2006</td>\n",
       "      <td>1140652800</td>\n",
       "      <td>19</td>\n",
       "      <td>Joshua Prince-Ramus</td>\n",
       "      <td>Joshua Prince-Ramus: Behind the design of Seat...</td>\n",
       "      <td>1</td>\n",
       "      <td>1152490260</td>\n",
       "      <td>[{'id': 9, 'name': 'Ingenious', 'count': 195},...</td>\n",
       "      <td>[{'id': 750, 'hero': 'https://pe.tedcdn.com/im...</td>\n",
       "      <td>Architect</td>\n",
       "      <td>['architecture', 'collaboration', 'culture', '...</td>\n",
       "      <td>Behind the design of Seattle's library</td>\n",
       "      <td>https://www.ted.com/talks/joshua_prince_ramus_...</td>\n",
       "      <td>967741</td>\n",
       "    </tr>\n",
       "    <tr>\n",
       "      <th>8</th>\n",
       "      <td>852</td>\n",
       "      <td>Philosopher Dan Dennett calls for religion -- ...</td>\n",
       "      <td>1485</td>\n",
       "      <td>TED2006</td>\n",
       "      <td>1138838400</td>\n",
       "      <td>32</td>\n",
       "      <td>Dan Dennett</td>\n",
       "      <td>Dan Dennett: Let's teach religion -- all relig...</td>\n",
       "      <td>1</td>\n",
       "      <td>1153181460</td>\n",
       "      <td>[{'id': 3, 'name': 'Courageous', 'count': 562}...</td>\n",
       "      <td>[{'id': 71, 'hero': 'https://pe.tedcdn.com/ima...</td>\n",
       "      <td>Philosopher, cognitive scientist</td>\n",
       "      <td>['God', 'TED Brain Trust', 'atheism', 'brain',...</td>\n",
       "      <td>Let's teach religion -- all religion -- in sch...</td>\n",
       "      <td>https://www.ted.com/talks/dan_dennett_s_respon...</td>\n",
       "      <td>2567958</td>\n",
       "    </tr>\n",
       "    <tr>\n",
       "      <th>9</th>\n",
       "      <td>900</td>\n",
       "      <td>Pastor Rick Warren, author of \"The Purpose-Dri...</td>\n",
       "      <td>1262</td>\n",
       "      <td>TED2006</td>\n",
       "      <td>1140825600</td>\n",
       "      <td>31</td>\n",
       "      <td>Rick Warren</td>\n",
       "      <td>Rick Warren: A life of purpose</td>\n",
       "      <td>1</td>\n",
       "      <td>1153181460</td>\n",
       "      <td>[{'id': 21, 'name': 'Unconvincing', 'count': 8...</td>\n",
       "      <td>[{'id': 94, 'hero': 'https://pe.tedcdn.com/ima...</td>\n",
       "      <td>Pastor, author</td>\n",
       "      <td>['Christianity', 'God', 'culture', 'happiness'...</td>\n",
       "      <td>A life of purpose</td>\n",
       "      <td>https://www.ted.com/talks/rick_warren_on_a_lif...</td>\n",
       "      <td>3095993</td>\n",
       "    </tr>\n",
       "  </tbody>\n",
       "</table>\n",
       "</div>"
      ],
      "text/plain": [
       "   comments                                        description  duration  \\\n",
       "0      4553  Sir Ken Robinson makes an entertaining and pro...      1164   \n",
       "1       265  With the same humor and humanity he exuded in ...       977   \n",
       "2       124  New York Times columnist David Pogue takes aim...      1286   \n",
       "3       200  In an emotionally charged talk, MacArthur-winn...      1116   \n",
       "4       593  You've never seen data presented like this. Wi...      1190   \n",
       "5       672  Tony Robbins discusses the \"invisible forces\" ...      1305   \n",
       "6       919  When two young Mormon missionaries knock on Ju...       992   \n",
       "7        46  Architect Joshua Prince-Ramus takes the audien...      1198   \n",
       "8       852  Philosopher Dan Dennett calls for religion -- ...      1485   \n",
       "9       900  Pastor Rick Warren, author of \"The Purpose-Dri...      1262   \n",
       "\n",
       "     event   film_date  languages         main_speaker  \\\n",
       "0  TED2006  1140825600         60         Ken Robinson   \n",
       "1  TED2006  1140825600         43              Al Gore   \n",
       "2  TED2006  1140739200         26          David Pogue   \n",
       "3  TED2006  1140912000         35        Majora Carter   \n",
       "4  TED2006  1140566400         48         Hans Rosling   \n",
       "5  TED2006  1138838400         36         Tony Robbins   \n",
       "6  TED2006  1140739200         31        Julia Sweeney   \n",
       "7  TED2006  1140652800         19  Joshua Prince-Ramus   \n",
       "8  TED2006  1138838400         32          Dan Dennett   \n",
       "9  TED2006  1140825600         31          Rick Warren   \n",
       "\n",
       "                                                name  num_speaker  \\\n",
       "0          Ken Robinson: Do schools kill creativity?            1   \n",
       "1               Al Gore: Averting the climate crisis            1   \n",
       "2                      David Pogue: Simplicity sells            1   \n",
       "3                 Majora Carter: Greening the ghetto            1   \n",
       "4      Hans Rosling: The best stats you've ever seen            1   \n",
       "5                 Tony Robbins: Why we do what we do            1   \n",
       "6                   Julia Sweeney: Letting go of God            1   \n",
       "7  Joshua Prince-Ramus: Behind the design of Seat...            1   \n",
       "8  Dan Dennett: Let's teach religion -- all relig...            1   \n",
       "9                     Rick Warren: A life of purpose            1   \n",
       "\n",
       "   published_date                                            ratings  \\\n",
       "0      1151367060  [{'id': 7, 'name': 'Funny', 'count': 19645}, {...   \n",
       "1      1151367060  [{'id': 7, 'name': 'Funny', 'count': 544}, {'i...   \n",
       "2      1151367060  [{'id': 7, 'name': 'Funny', 'count': 964}, {'i...   \n",
       "3      1151367060  [{'id': 3, 'name': 'Courageous', 'count': 760}...   \n",
       "4      1151440680  [{'id': 9, 'name': 'Ingenious', 'count': 3202}...   \n",
       "5      1151440680  [{'id': 7, 'name': 'Funny', 'count': 1102}, {'...   \n",
       "6      1152490260  [{'id': 3, 'name': 'Courageous', 'count': 477}...   \n",
       "7      1152490260  [{'id': 9, 'name': 'Ingenious', 'count': 195},...   \n",
       "8      1153181460  [{'id': 3, 'name': 'Courageous', 'count': 562}...   \n",
       "9      1153181460  [{'id': 21, 'name': 'Unconvincing', 'count': 8...   \n",
       "\n",
       "                                       related_talks  \\\n",
       "0  [{'id': 865, 'hero': 'https://pe.tedcdn.com/im...   \n",
       "1  [{'id': 243, 'hero': 'https://pe.tedcdn.com/im...   \n",
       "2  [{'id': 1725, 'hero': 'https://pe.tedcdn.com/i...   \n",
       "3  [{'id': 1041, 'hero': 'https://pe.tedcdn.com/i...   \n",
       "4  [{'id': 2056, 'hero': 'https://pe.tedcdn.com/i...   \n",
       "5  [{'id': 229, 'hero': 'https://pe.tedcdn.com/im...   \n",
       "6  [{'id': 22, 'hero': 'https://pe.tedcdn.com/ima...   \n",
       "7  [{'id': 750, 'hero': 'https://pe.tedcdn.com/im...   \n",
       "8  [{'id': 71, 'hero': 'https://pe.tedcdn.com/ima...   \n",
       "9  [{'id': 94, 'hero': 'https://pe.tedcdn.com/ima...   \n",
       "\n",
       "                            speaker_occupation  \\\n",
       "0                              Author/educator   \n",
       "1                             Climate advocate   \n",
       "2                         Technology columnist   \n",
       "3           Activist for environmental justice   \n",
       "4         Global health expert; data visionary   \n",
       "5  Life coach; expert in leadership psychology   \n",
       "6                  Actor, comedian, playwright   \n",
       "7                                    Architect   \n",
       "8             Philosopher, cognitive scientist   \n",
       "9                               Pastor, author   \n",
       "\n",
       "                                                tags  \\\n",
       "0  ['children', 'creativity', 'culture', 'dance',...   \n",
       "1  ['alternative energy', 'cars', 'climate change...   \n",
       "2  ['computers', 'entertainment', 'interface desi...   \n",
       "3  ['MacArthur grant', 'activism', 'business', 'c...   \n",
       "4  ['Africa', 'Asia', 'Google', 'demo', 'economic...   \n",
       "5  ['business', 'culture', 'entertainment', 'goal...   \n",
       "6  ['Christianity', 'God', 'atheism', 'comedy', '...   \n",
       "7  ['architecture', 'collaboration', 'culture', '...   \n",
       "8  ['God', 'TED Brain Trust', 'atheism', 'brain',...   \n",
       "9  ['Christianity', 'God', 'culture', 'happiness'...   \n",
       "\n",
       "                                               title  \\\n",
       "0                        Do schools kill creativity?   \n",
       "1                        Averting the climate crisis   \n",
       "2                                   Simplicity sells   \n",
       "3                                Greening the ghetto   \n",
       "4                    The best stats you've ever seen   \n",
       "5                               Why we do what we do   \n",
       "6                                  Letting go of God   \n",
       "7             Behind the design of Seattle's library   \n",
       "8  Let's teach religion -- all religion -- in sch...   \n",
       "9                                  A life of purpose   \n",
       "\n",
       "                                                 url     views  \n",
       "0  https://www.ted.com/talks/ken_robinson_says_sc...  47227110  \n",
       "1  https://www.ted.com/talks/al_gore_on_averting_...   3200520  \n",
       "2  https://www.ted.com/talks/david_pogue_says_sim...   1636292  \n",
       "3  https://www.ted.com/talks/majora_carter_s_tale...   1697550  \n",
       "4  https://www.ted.com/talks/hans_rosling_shows_t...  12005869  \n",
       "5  https://www.ted.com/talks/tony_robbins_asks_wh...  20685401  \n",
       "6  https://www.ted.com/talks/julia_sweeney_on_let...   3769987  \n",
       "7  https://www.ted.com/talks/joshua_prince_ramus_...    967741  \n",
       "8  https://www.ted.com/talks/dan_dennett_s_respon...   2567958  \n",
       "9  https://www.ted.com/talks/rick_warren_on_a_lif...   3095993  "
      ]
     },
     "execution_count": 2,
     "metadata": {},
     "output_type": "execute_result"
    }
   ],
   "source": [
    "ted=pd.read_csv('ted_main.csv')\n",
    "ted.head(10)"
   ]
  },
  {
   "cell_type": "code",
   "execution_count": 3,
   "metadata": {
    "scrolled": true
   },
   "outputs": [
    {
     "data": {
      "text/plain": [
       "comments               int64\n",
       "description           object\n",
       "duration               int64\n",
       "event                 object\n",
       "film_date              int64\n",
       "languages              int64\n",
       "main_speaker          object\n",
       "name                  object\n",
       "num_speaker            int64\n",
       "published_date         int64\n",
       "ratings               object\n",
       "related_talks         object\n",
       "speaker_occupation    object\n",
       "tags                  object\n",
       "title                 object\n",
       "url                   object\n",
       "views                  int64\n",
       "dtype: object"
      ]
     },
     "execution_count": 3,
     "metadata": {},
     "output_type": "execute_result"
    }
   ],
   "source": [
    "ted.dtypes"
   ]
  },
  {
   "cell_type": "markdown",
   "metadata": {},
   "source": [
    "there are a mix of both integers and objetcs in the rows and columns of the dataset"
   ]
  },
  {
   "cell_type": "code",
   "execution_count": 4,
   "metadata": {},
   "outputs": [
    {
     "data": {
      "text/plain": [
       "(2550, 17)"
      ]
     },
     "execution_count": 4,
     "metadata": {},
     "output_type": "execute_result"
    }
   ],
   "source": [
    "ted.shape"
   ]
  },
  {
   "cell_type": "markdown",
   "metadata": {},
   "source": [
    "<p>The dataset has <strong>2550</strong> rows and <strong>17</strong> columns every row represents a unique TED talk. The columns are the duration, name of speaker, date of publication, rating etc...</p>"
   ]
  },
  {
   "cell_type": "code",
   "execution_count": 5,
   "metadata": {},
   "outputs": [
    {
     "data": {
      "text/plain": [
       "Index(['comments', 'description', 'duration', 'event', 'film_date',\n",
       "       'languages', 'main_speaker', 'name', 'num_speaker', 'published_date',\n",
       "       'ratings', 'related_talks', 'speaker_occupation', 'tags', 'title',\n",
       "       'url', 'views'],\n",
       "      dtype='object')"
      ]
     },
     "execution_count": 5,
     "metadata": {},
     "output_type": "execute_result"
    }
   ],
   "source": [
    "ted.columns"
   ]
  },
  {
   "cell_type": "code",
   "execution_count": 6,
   "metadata": {
    "scrolled": true
   },
   "outputs": [
    {
     "data": {
      "text/plain": [
       "comments              0\n",
       "description           0\n",
       "duration              0\n",
       "event                 0\n",
       "film_date             0\n",
       "languages             0\n",
       "main_speaker          0\n",
       "name                  0\n",
       "num_speaker           0\n",
       "published_date        0\n",
       "ratings               0\n",
       "related_talks         0\n",
       "speaker_occupation    6\n",
       "tags                  0\n",
       "title                 0\n",
       "url                   0\n",
       "views                 0\n",
       "dtype: int64"
      ]
     },
     "execution_count": 6,
     "metadata": {},
     "output_type": "execute_result"
    }
   ],
   "source": [
    "ted.isna().sum()"
   ]
  },
  {
   "cell_type": "markdown",
   "metadata": {},
   "source": [
    "<p>the <strong>.isna$()$</strong> method checks the dataset and reports on all the missing values in the columns. The <strong>.sum$()$</strong> method adds along the 0-axis and returns a value for each. A truth statement is 1 and a false statement is regarded as 0.</p><p>A check on our dataset shows that the <strong>'Speaker_occupation'</strong> column has <strong>6</strong> missing values. All other columns have no missing values.</p><p>It is important to check any dataset for all missing values before you start with the proper analysis</p>"
   ]
  },
  {
   "cell_type": "markdown",
   "metadata": {},
   "source": [
    "# Which Talk Provoked the Most Online Discussions?"
   ]
  },
  {
   "cell_type": "markdown",
   "metadata": {},
   "source": [
    "<p>One way of determining which of the talks excited the most discussions is to look at a few of the columns and what they say. Columns like 'views', 'comments' and 'ratings' may give us a bit of an insight to how popular a particular talk was online.</p>\n",
    "\n",
    "<p>So I will go ahead and check for the TED Talk with the most comment and that may give us a clue as to which of them actually had the most online interactions.</p><p>I will call the <strong>.tail$()$</strong> method on the 'comments' which i will sort using the <strong>.sort_values$()$</strong> method </p>"
   ]
  },
  {
   "cell_type": "code",
   "execution_count": 7,
   "metadata": {
    "scrolled": true
   },
   "outputs": [
    {
     "data": {
      "text/html": [
       "<div>\n",
       "<style scoped>\n",
       "    .dataframe tbody tr th:only-of-type {\n",
       "        vertical-align: middle;\n",
       "    }\n",
       "\n",
       "    .dataframe tbody tr th {\n",
       "        vertical-align: top;\n",
       "    }\n",
       "\n",
       "    .dataframe thead th {\n",
       "        text-align: right;\n",
       "    }\n",
       "</style>\n",
       "<table border=\"1\" class=\"dataframe\">\n",
       "  <thead>\n",
       "    <tr style=\"text-align: right;\">\n",
       "      <th></th>\n",
       "      <th>comments</th>\n",
       "      <th>description</th>\n",
       "      <th>duration</th>\n",
       "      <th>event</th>\n",
       "      <th>film_date</th>\n",
       "      <th>languages</th>\n",
       "      <th>main_speaker</th>\n",
       "      <th>name</th>\n",
       "      <th>num_speaker</th>\n",
       "      <th>published_date</th>\n",
       "      <th>ratings</th>\n",
       "      <th>related_talks</th>\n",
       "      <th>speaker_occupation</th>\n",
       "      <th>tags</th>\n",
       "      <th>title</th>\n",
       "      <th>url</th>\n",
       "      <th>views</th>\n",
       "    </tr>\n",
       "  </thead>\n",
       "  <tbody>\n",
       "    <tr>\n",
       "      <th>1787</th>\n",
       "      <td>2673</td>\n",
       "      <td>Our consciousness is a fundamental aspect of o...</td>\n",
       "      <td>1117</td>\n",
       "      <td>TED2014</td>\n",
       "      <td>1395100800</td>\n",
       "      <td>33</td>\n",
       "      <td>David Chalmers</td>\n",
       "      <td>David Chalmers: How do you explain consciousness?</td>\n",
       "      <td>1</td>\n",
       "      <td>1405350484</td>\n",
       "      <td>[{'id': 25, 'name': 'OK', 'count': 280}, {'id'...</td>\n",
       "      <td>[{'id': 1308, 'hero': 'https://pe.tedcdn.com/i...</td>\n",
       "      <td>Philosopher</td>\n",
       "      <td>['brain', 'consciousness', 'neuroscience', 'ph...</td>\n",
       "      <td>How do you explain consciousness?</td>\n",
       "      <td>https://www.ted.com/talks/david_chalmers_how_d...</td>\n",
       "      <td>2162764</td>\n",
       "    </tr>\n",
       "    <tr>\n",
       "      <th>201</th>\n",
       "      <td>2877</td>\n",
       "      <td>Jill Bolte Taylor got a research opportunity f...</td>\n",
       "      <td>1099</td>\n",
       "      <td>TED2008</td>\n",
       "      <td>1204070400</td>\n",
       "      <td>49</td>\n",
       "      <td>Jill Bolte Taylor</td>\n",
       "      <td>Jill Bolte Taylor: My stroke of insight</td>\n",
       "      <td>1</td>\n",
       "      <td>1205284200</td>\n",
       "      <td>[{'id': 22, 'name': 'Fascinating', 'count': 14...</td>\n",
       "      <td>[{'id': 184, 'hero': 'https://pe.tedcdn.com/im...</td>\n",
       "      <td>Neuroanatomist</td>\n",
       "      <td>['biology', 'brain', 'consciousness', 'global ...</td>\n",
       "      <td>My stroke of insight</td>\n",
       "      <td>https://www.ted.com/talks/jill_bolte_taylor_s_...</td>\n",
       "      <td>21190883</td>\n",
       "    </tr>\n",
       "    <tr>\n",
       "      <th>644</th>\n",
       "      <td>3356</td>\n",
       "      <td>Questions of good and evil, right and wrong ar...</td>\n",
       "      <td>1386</td>\n",
       "      <td>TED2010</td>\n",
       "      <td>1265846400</td>\n",
       "      <td>39</td>\n",
       "      <td>Sam Harris</td>\n",
       "      <td>Sam Harris: Science can answer moral questions</td>\n",
       "      <td>1</td>\n",
       "      <td>1269249180</td>\n",
       "      <td>[{'id': 8, 'name': 'Informative', 'count': 923...</td>\n",
       "      <td>[{'id': 666, 'hero': 'https://pe.tedcdn.com/im...</td>\n",
       "      <td>Neuroscientist, philosopher</td>\n",
       "      <td>['culture', 'evolutionary psychology', 'global...</td>\n",
       "      <td>Science can answer moral questions</td>\n",
       "      <td>https://www.ted.com/talks/sam_harris_science_c...</td>\n",
       "      <td>3433437</td>\n",
       "    </tr>\n",
       "    <tr>\n",
       "      <th>0</th>\n",
       "      <td>4553</td>\n",
       "      <td>Sir Ken Robinson makes an entertaining and pro...</td>\n",
       "      <td>1164</td>\n",
       "      <td>TED2006</td>\n",
       "      <td>1140825600</td>\n",
       "      <td>60</td>\n",
       "      <td>Ken Robinson</td>\n",
       "      <td>Ken Robinson: Do schools kill creativity?</td>\n",
       "      <td>1</td>\n",
       "      <td>1151367060</td>\n",
       "      <td>[{'id': 7, 'name': 'Funny', 'count': 19645}, {...</td>\n",
       "      <td>[{'id': 865, 'hero': 'https://pe.tedcdn.com/im...</td>\n",
       "      <td>Author/educator</td>\n",
       "      <td>['children', 'creativity', 'culture', 'dance',...</td>\n",
       "      <td>Do schools kill creativity?</td>\n",
       "      <td>https://www.ted.com/talks/ken_robinson_says_sc...</td>\n",
       "      <td>47227110</td>\n",
       "    </tr>\n",
       "    <tr>\n",
       "      <th>96</th>\n",
       "      <td>6404</td>\n",
       "      <td>Richard Dawkins urges all atheists to openly s...</td>\n",
       "      <td>1750</td>\n",
       "      <td>TED2002</td>\n",
       "      <td>1012608000</td>\n",
       "      <td>42</td>\n",
       "      <td>Richard Dawkins</td>\n",
       "      <td>Richard Dawkins: Militant atheism</td>\n",
       "      <td>1</td>\n",
       "      <td>1176689220</td>\n",
       "      <td>[{'id': 3, 'name': 'Courageous', 'count': 3236...</td>\n",
       "      <td>[{'id': 86, 'hero': 'https://pe.tedcdn.com/ima...</td>\n",
       "      <td>Evolutionary biologist</td>\n",
       "      <td>['God', 'atheism', 'culture', 'religion', 'sci...</td>\n",
       "      <td>Militant atheism</td>\n",
       "      <td>https://www.ted.com/talks/richard_dawkins_on_m...</td>\n",
       "      <td>4374792</td>\n",
       "    </tr>\n",
       "  </tbody>\n",
       "</table>\n",
       "</div>"
      ],
      "text/plain": [
       "      comments                                        description  duration  \\\n",
       "1787      2673  Our consciousness is a fundamental aspect of o...      1117   \n",
       "201       2877  Jill Bolte Taylor got a research opportunity f...      1099   \n",
       "644       3356  Questions of good and evil, right and wrong ar...      1386   \n",
       "0         4553  Sir Ken Robinson makes an entertaining and pro...      1164   \n",
       "96        6404  Richard Dawkins urges all atheists to openly s...      1750   \n",
       "\n",
       "        event   film_date  languages       main_speaker  \\\n",
       "1787  TED2014  1395100800         33     David Chalmers   \n",
       "201   TED2008  1204070400         49  Jill Bolte Taylor   \n",
       "644   TED2010  1265846400         39         Sam Harris   \n",
       "0     TED2006  1140825600         60       Ken Robinson   \n",
       "96    TED2002  1012608000         42    Richard Dawkins   \n",
       "\n",
       "                                                   name  num_speaker  \\\n",
       "1787  David Chalmers: How do you explain consciousness?            1   \n",
       "201             Jill Bolte Taylor: My stroke of insight            1   \n",
       "644      Sam Harris: Science can answer moral questions            1   \n",
       "0             Ken Robinson: Do schools kill creativity?            1   \n",
       "96                    Richard Dawkins: Militant atheism            1   \n",
       "\n",
       "      published_date                                            ratings  \\\n",
       "1787      1405350484  [{'id': 25, 'name': 'OK', 'count': 280}, {'id'...   \n",
       "201       1205284200  [{'id': 22, 'name': 'Fascinating', 'count': 14...   \n",
       "644       1269249180  [{'id': 8, 'name': 'Informative', 'count': 923...   \n",
       "0         1151367060  [{'id': 7, 'name': 'Funny', 'count': 19645}, {...   \n",
       "96        1176689220  [{'id': 3, 'name': 'Courageous', 'count': 3236...   \n",
       "\n",
       "                                          related_talks  \\\n",
       "1787  [{'id': 1308, 'hero': 'https://pe.tedcdn.com/i...   \n",
       "201   [{'id': 184, 'hero': 'https://pe.tedcdn.com/im...   \n",
       "644   [{'id': 666, 'hero': 'https://pe.tedcdn.com/im...   \n",
       "0     [{'id': 865, 'hero': 'https://pe.tedcdn.com/im...   \n",
       "96    [{'id': 86, 'hero': 'https://pe.tedcdn.com/ima...   \n",
       "\n",
       "               speaker_occupation  \\\n",
       "1787                  Philosopher   \n",
       "201                Neuroanatomist   \n",
       "644   Neuroscientist, philosopher   \n",
       "0                 Author/educator   \n",
       "96         Evolutionary biologist   \n",
       "\n",
       "                                                   tags  \\\n",
       "1787  ['brain', 'consciousness', 'neuroscience', 'ph...   \n",
       "201   ['biology', 'brain', 'consciousness', 'global ...   \n",
       "644   ['culture', 'evolutionary psychology', 'global...   \n",
       "0     ['children', 'creativity', 'culture', 'dance',...   \n",
       "96    ['God', 'atheism', 'culture', 'religion', 'sci...   \n",
       "\n",
       "                                   title  \\\n",
       "1787   How do you explain consciousness?   \n",
       "201                 My stroke of insight   \n",
       "644   Science can answer moral questions   \n",
       "0            Do schools kill creativity?   \n",
       "96                      Militant atheism   \n",
       "\n",
       "                                                    url     views  \n",
       "1787  https://www.ted.com/talks/david_chalmers_how_d...   2162764  \n",
       "201   https://www.ted.com/talks/jill_bolte_taylor_s_...  21190883  \n",
       "644   https://www.ted.com/talks/sam_harris_science_c...   3433437  \n",
       "0     https://www.ted.com/talks/ken_robinson_says_sc...  47227110  \n",
       "96    https://www.ted.com/talks/richard_dawkins_on_m...   4374792  "
      ]
     },
     "execution_count": 7,
     "metadata": {},
     "output_type": "execute_result"
    }
   ],
   "source": [
    "ted.sort_values('comments').tail()"
   ]
  },
  {
   "cell_type": "markdown",
   "metadata": {},
   "source": [
    "From the comments, it can be seen that the <strong>Richard Dawkins: Militant atheism</strong> talk which was delivered in <strong>2002</strong> had the most comments and could possibly be the talk which generated the most Online Discussions.</p><p><strong>But there is a problem:</strong></p><p>The comments could most possibly be because of the length of time the video has been online and may not necessarily be a true reflection of the online buzz it purports. Another factor that makes relying on only comments a bit iffy is the fact that there may possibly be nested sub-comments in the form of private conversations between a few people. This inflates the total number of comments and does not tell the full story.</p><p>Generating massive online discussions involve getting a lot more people to be engaged by watching and discussing the topic online. In this light, it is imperative I tweak our result a little bit and rope in another dimension. <strong>The comments per view</strong></p><p>If a lot of people watch the video and don't comment, that may be indicative of disinterest in the subject and likewise, if a few people watch and there are a lot more comments, it could be indicative of only a few people interested in the subject and having private conversations in the comments</p><p>I am going to create a new column called <strong>comments_per_view</strong></p>"
   ]
  },
  {
   "cell_type": "code",
   "execution_count": 8,
   "metadata": {},
   "outputs": [],
   "source": [
    "ted['comments_per_view']=ted.comments/ted.views"
   ]
  },
  {
   "cell_type": "markdown",
   "metadata": {},
   "source": [
    "Now I will go ahead and sort it based on the comments per view"
   ]
  },
  {
   "cell_type": "code",
   "execution_count": 9,
   "metadata": {
    "scrolled": true
   },
   "outputs": [
    {
     "data": {
      "text/html": [
       "<div>\n",
       "<style scoped>\n",
       "    .dataframe tbody tr th:only-of-type {\n",
       "        vertical-align: middle;\n",
       "    }\n",
       "\n",
       "    .dataframe tbody tr th {\n",
       "        vertical-align: top;\n",
       "    }\n",
       "\n",
       "    .dataframe thead th {\n",
       "        text-align: right;\n",
       "    }\n",
       "</style>\n",
       "<table border=\"1\" class=\"dataframe\">\n",
       "  <thead>\n",
       "    <tr style=\"text-align: right;\">\n",
       "      <th></th>\n",
       "      <th>comments</th>\n",
       "      <th>description</th>\n",
       "      <th>duration</th>\n",
       "      <th>event</th>\n",
       "      <th>film_date</th>\n",
       "      <th>languages</th>\n",
       "      <th>main_speaker</th>\n",
       "      <th>name</th>\n",
       "      <th>num_speaker</th>\n",
       "      <th>published_date</th>\n",
       "      <th>ratings</th>\n",
       "      <th>related_talks</th>\n",
       "      <th>speaker_occupation</th>\n",
       "      <th>tags</th>\n",
       "      <th>title</th>\n",
       "      <th>url</th>\n",
       "      <th>views</th>\n",
       "      <th>comments_per_view</th>\n",
       "    </tr>\n",
       "  </thead>\n",
       "  <tbody>\n",
       "    <tr>\n",
       "      <th>954</th>\n",
       "      <td>2492</td>\n",
       "      <td>Janet Echelman found her true voice as an arti...</td>\n",
       "      <td>566</td>\n",
       "      <td>TED2011</td>\n",
       "      <td>1299110400</td>\n",
       "      <td>35</td>\n",
       "      <td>Janet Echelman</td>\n",
       "      <td>Janet Echelman: Taking imagination seriously</td>\n",
       "      <td>1</td>\n",
       "      <td>1307489760</td>\n",
       "      <td>[{'id': 23, 'name': 'Jaw-dropping', 'count': 3...</td>\n",
       "      <td>[{'id': 453, 'hero': 'https://pe.tedcdn.com/im...</td>\n",
       "      <td>Artist</td>\n",
       "      <td>['art', 'cities', 'culture', 'data', 'design',...</td>\n",
       "      <td>Taking imagination seriously</td>\n",
       "      <td>https://www.ted.com/talks/janet_echelman\\n</td>\n",
       "      <td>1832930</td>\n",
       "      <td>0.001360</td>\n",
       "    </tr>\n",
       "    <tr>\n",
       "      <th>694</th>\n",
       "      <td>1502</td>\n",
       "      <td>Filmmaker Sharmeen Obaid-Chinoy takes on a ter...</td>\n",
       "      <td>489</td>\n",
       "      <td>TED2010</td>\n",
       "      <td>1265760000</td>\n",
       "      <td>32</td>\n",
       "      <td>Sharmeen Obaid-Chinoy</td>\n",
       "      <td>Sharmeen Obaid-Chinoy: Inside a school for sui...</td>\n",
       "      <td>1</td>\n",
       "      <td>1274865960</td>\n",
       "      <td>[{'id': 23, 'name': 'Jaw-dropping', 'count': 3...</td>\n",
       "      <td>[{'id': 171, 'hero': 'https://pe.tedcdn.com/im...</td>\n",
       "      <td>Filmmaker</td>\n",
       "      <td>['TED Fellows', 'children', 'culture', 'film',...</td>\n",
       "      <td>Inside a school for suicide bombers</td>\n",
       "      <td>https://www.ted.com/talks/sharmeen_obaid_chino...</td>\n",
       "      <td>1057238</td>\n",
       "      <td>0.001421</td>\n",
       "    </tr>\n",
       "    <tr>\n",
       "      <th>96</th>\n",
       "      <td>6404</td>\n",
       "      <td>Richard Dawkins urges all atheists to openly s...</td>\n",
       "      <td>1750</td>\n",
       "      <td>TED2002</td>\n",
       "      <td>1012608000</td>\n",
       "      <td>42</td>\n",
       "      <td>Richard Dawkins</td>\n",
       "      <td>Richard Dawkins: Militant atheism</td>\n",
       "      <td>1</td>\n",
       "      <td>1176689220</td>\n",
       "      <td>[{'id': 3, 'name': 'Courageous', 'count': 3236...</td>\n",
       "      <td>[{'id': 86, 'hero': 'https://pe.tedcdn.com/ima...</td>\n",
       "      <td>Evolutionary biologist</td>\n",
       "      <td>['God', 'atheism', 'culture', 'religion', 'sci...</td>\n",
       "      <td>Militant atheism</td>\n",
       "      <td>https://www.ted.com/talks/richard_dawkins_on_m...</td>\n",
       "      <td>4374792</td>\n",
       "      <td>0.001464</td>\n",
       "    </tr>\n",
       "    <tr>\n",
       "      <th>803</th>\n",
       "      <td>834</td>\n",
       "      <td>David Bismark demos a new system for voting th...</td>\n",
       "      <td>422</td>\n",
       "      <td>TEDGlobal 2010</td>\n",
       "      <td>1279065600</td>\n",
       "      <td>36</td>\n",
       "      <td>David Bismark</td>\n",
       "      <td>David Bismark: E-voting without fraud</td>\n",
       "      <td>1</td>\n",
       "      <td>1288685640</td>\n",
       "      <td>[{'id': 25, 'name': 'OK', 'count': 111}, {'id'...</td>\n",
       "      <td>[{'id': 803, 'hero': 'https://pe.tedcdn.com/im...</td>\n",
       "      <td>Voting system designer</td>\n",
       "      <td>['culture', 'democracy', 'design', 'global iss...</td>\n",
       "      <td>E-voting without fraud</td>\n",
       "      <td>https://www.ted.com/talks/david_bismark_e_voti...</td>\n",
       "      <td>543551</td>\n",
       "      <td>0.001534</td>\n",
       "    </tr>\n",
       "    <tr>\n",
       "      <th>744</th>\n",
       "      <td>649</td>\n",
       "      <td>Hours before New York lawmakers rejected a key...</td>\n",
       "      <td>453</td>\n",
       "      <td>New York State Senate</td>\n",
       "      <td>1259712000</td>\n",
       "      <td>0</td>\n",
       "      <td>Diane J. Savino</td>\n",
       "      <td>Diane J. Savino: The case for same-sex marriage</td>\n",
       "      <td>1</td>\n",
       "      <td>1282062180</td>\n",
       "      <td>[{'id': 25, 'name': 'OK', 'count': 100}, {'id'...</td>\n",
       "      <td>[{'id': 217, 'hero': 'https://pe.tedcdn.com/im...</td>\n",
       "      <td>Senator</td>\n",
       "      <td>['God', 'LGBT', 'culture', 'government', 'law'...</td>\n",
       "      <td>The case for same-sex marriage</td>\n",
       "      <td>https://www.ted.com/talks/diane_j_savino_the_c...</td>\n",
       "      <td>292395</td>\n",
       "      <td>0.002220</td>\n",
       "    </tr>\n",
       "  </tbody>\n",
       "</table>\n",
       "</div>"
      ],
      "text/plain": [
       "     comments                                        description  duration  \\\n",
       "954      2492  Janet Echelman found her true voice as an arti...       566   \n",
       "694      1502  Filmmaker Sharmeen Obaid-Chinoy takes on a ter...       489   \n",
       "96       6404  Richard Dawkins urges all atheists to openly s...      1750   \n",
       "803       834  David Bismark demos a new system for voting th...       422   \n",
       "744       649  Hours before New York lawmakers rejected a key...       453   \n",
       "\n",
       "                     event   film_date  languages           main_speaker  \\\n",
       "954                TED2011  1299110400         35         Janet Echelman   \n",
       "694                TED2010  1265760000         32  Sharmeen Obaid-Chinoy   \n",
       "96                 TED2002  1012608000         42        Richard Dawkins   \n",
       "803         TEDGlobal 2010  1279065600         36          David Bismark   \n",
       "744  New York State Senate  1259712000          0        Diane J. Savino   \n",
       "\n",
       "                                                  name  num_speaker  \\\n",
       "954       Janet Echelman: Taking imagination seriously            1   \n",
       "694  Sharmeen Obaid-Chinoy: Inside a school for sui...            1   \n",
       "96                   Richard Dawkins: Militant atheism            1   \n",
       "803              David Bismark: E-voting without fraud            1   \n",
       "744    Diane J. Savino: The case for same-sex marriage            1   \n",
       "\n",
       "     published_date                                            ratings  \\\n",
       "954      1307489760  [{'id': 23, 'name': 'Jaw-dropping', 'count': 3...   \n",
       "694      1274865960  [{'id': 23, 'name': 'Jaw-dropping', 'count': 3...   \n",
       "96       1176689220  [{'id': 3, 'name': 'Courageous', 'count': 3236...   \n",
       "803      1288685640  [{'id': 25, 'name': 'OK', 'count': 111}, {'id'...   \n",
       "744      1282062180  [{'id': 25, 'name': 'OK', 'count': 100}, {'id'...   \n",
       "\n",
       "                                         related_talks  \\\n",
       "954  [{'id': 453, 'hero': 'https://pe.tedcdn.com/im...   \n",
       "694  [{'id': 171, 'hero': 'https://pe.tedcdn.com/im...   \n",
       "96   [{'id': 86, 'hero': 'https://pe.tedcdn.com/ima...   \n",
       "803  [{'id': 803, 'hero': 'https://pe.tedcdn.com/im...   \n",
       "744  [{'id': 217, 'hero': 'https://pe.tedcdn.com/im...   \n",
       "\n",
       "         speaker_occupation  \\\n",
       "954                  Artist   \n",
       "694               Filmmaker   \n",
       "96   Evolutionary biologist   \n",
       "803  Voting system designer   \n",
       "744                 Senator   \n",
       "\n",
       "                                                  tags  \\\n",
       "954  ['art', 'cities', 'culture', 'data', 'design',...   \n",
       "694  ['TED Fellows', 'children', 'culture', 'film',...   \n",
       "96   ['God', 'atheism', 'culture', 'religion', 'sci...   \n",
       "803  ['culture', 'democracy', 'design', 'global iss...   \n",
       "744  ['God', 'LGBT', 'culture', 'government', 'law'...   \n",
       "\n",
       "                                   title  \\\n",
       "954         Taking imagination seriously   \n",
       "694  Inside a school for suicide bombers   \n",
       "96                      Militant atheism   \n",
       "803               E-voting without fraud   \n",
       "744       The case for same-sex marriage   \n",
       "\n",
       "                                                   url    views  \\\n",
       "954         https://www.ted.com/talks/janet_echelman\\n  1832930   \n",
       "694  https://www.ted.com/talks/sharmeen_obaid_chino...  1057238   \n",
       "96   https://www.ted.com/talks/richard_dawkins_on_m...  4374792   \n",
       "803  https://www.ted.com/talks/david_bismark_e_voti...   543551   \n",
       "744  https://www.ted.com/talks/diane_j_savino_the_c...   292395   \n",
       "\n",
       "     comments_per_view  \n",
       "954           0.001360  \n",
       "694           0.001421  \n",
       "96            0.001464  \n",
       "803           0.001534  \n",
       "744           0.002220  "
      ]
     },
     "execution_count": 9,
     "metadata": {},
     "output_type": "execute_result"
    }
   ],
   "source": [
    "ted.sort_values('comments_per_view').tail()"
   ]
  },
  {
   "cell_type": "markdown",
   "metadata": {},
   "source": [
    "<p>We have a new Talk at the bottom. Remember <strong>.sort_values$()$</strong> sorts everything in ascending order ( from least to greatest) so it is imperative that we call the <strong>.tail$()$</strong> method to see the greatest value which is always at the bottom.</p><p>The <strong>Diane J Savino: The Case for Same-sex marriage</strong> talk is now our talk with the most online discussions.</p><p> It had a 0.002220 comment per view (the highest in the dataset). This may be a bit tricky to put into real-world context. We have to make it a bit more interpretable by this time, inverting our earlier <strong>comments_per_views</strong> and looking for <strong>views_per_comment</strong> instead</p>"
   ]
  },
  {
   "cell_type": "code",
   "execution_count": 10,
   "metadata": {
    "scrolled": true
   },
   "outputs": [
    {
     "data": {
      "text/html": [
       "<div>\n",
       "<style scoped>\n",
       "    .dataframe tbody tr th:only-of-type {\n",
       "        vertical-align: middle;\n",
       "    }\n",
       "\n",
       "    .dataframe tbody tr th {\n",
       "        vertical-align: top;\n",
       "    }\n",
       "\n",
       "    .dataframe thead th {\n",
       "        text-align: right;\n",
       "    }\n",
       "</style>\n",
       "<table border=\"1\" class=\"dataframe\">\n",
       "  <thead>\n",
       "    <tr style=\"text-align: right;\">\n",
       "      <th></th>\n",
       "      <th>comments</th>\n",
       "      <th>description</th>\n",
       "      <th>duration</th>\n",
       "      <th>event</th>\n",
       "      <th>film_date</th>\n",
       "      <th>languages</th>\n",
       "      <th>main_speaker</th>\n",
       "      <th>name</th>\n",
       "      <th>num_speaker</th>\n",
       "      <th>published_date</th>\n",
       "      <th>ratings</th>\n",
       "      <th>related_talks</th>\n",
       "      <th>speaker_occupation</th>\n",
       "      <th>tags</th>\n",
       "      <th>title</th>\n",
       "      <th>url</th>\n",
       "      <th>views</th>\n",
       "      <th>comments_per_view</th>\n",
       "      <th>views_per_comment</th>\n",
       "    </tr>\n",
       "  </thead>\n",
       "  <tbody>\n",
       "    <tr>\n",
       "      <th>744</th>\n",
       "      <td>649</td>\n",
       "      <td>Hours before New York lawmakers rejected a key...</td>\n",
       "      <td>453</td>\n",
       "      <td>New York State Senate</td>\n",
       "      <td>1259712000</td>\n",
       "      <td>0</td>\n",
       "      <td>Diane J. Savino</td>\n",
       "      <td>Diane J. Savino: The case for same-sex marriage</td>\n",
       "      <td>1</td>\n",
       "      <td>1282062180</td>\n",
       "      <td>[{'id': 25, 'name': 'OK', 'count': 100}, {'id'...</td>\n",
       "      <td>[{'id': 217, 'hero': 'https://pe.tedcdn.com/im...</td>\n",
       "      <td>Senator</td>\n",
       "      <td>['God', 'LGBT', 'culture', 'government', 'law'...</td>\n",
       "      <td>The case for same-sex marriage</td>\n",
       "      <td>https://www.ted.com/talks/diane_j_savino_the_c...</td>\n",
       "      <td>292395</td>\n",
       "      <td>0.002220</td>\n",
       "      <td>450.531587</td>\n",
       "    </tr>\n",
       "    <tr>\n",
       "      <th>803</th>\n",
       "      <td>834</td>\n",
       "      <td>David Bismark demos a new system for voting th...</td>\n",
       "      <td>422</td>\n",
       "      <td>TEDGlobal 2010</td>\n",
       "      <td>1279065600</td>\n",
       "      <td>36</td>\n",
       "      <td>David Bismark</td>\n",
       "      <td>David Bismark: E-voting without fraud</td>\n",
       "      <td>1</td>\n",
       "      <td>1288685640</td>\n",
       "      <td>[{'id': 25, 'name': 'OK', 'count': 111}, {'id'...</td>\n",
       "      <td>[{'id': 803, 'hero': 'https://pe.tedcdn.com/im...</td>\n",
       "      <td>Voting system designer</td>\n",
       "      <td>['culture', 'democracy', 'design', 'global iss...</td>\n",
       "      <td>E-voting without fraud</td>\n",
       "      <td>https://www.ted.com/talks/david_bismark_e_voti...</td>\n",
       "      <td>543551</td>\n",
       "      <td>0.001534</td>\n",
       "      <td>651.739808</td>\n",
       "    </tr>\n",
       "    <tr>\n",
       "      <th>96</th>\n",
       "      <td>6404</td>\n",
       "      <td>Richard Dawkins urges all atheists to openly s...</td>\n",
       "      <td>1750</td>\n",
       "      <td>TED2002</td>\n",
       "      <td>1012608000</td>\n",
       "      <td>42</td>\n",
       "      <td>Richard Dawkins</td>\n",
       "      <td>Richard Dawkins: Militant atheism</td>\n",
       "      <td>1</td>\n",
       "      <td>1176689220</td>\n",
       "      <td>[{'id': 3, 'name': 'Courageous', 'count': 3236...</td>\n",
       "      <td>[{'id': 86, 'hero': 'https://pe.tedcdn.com/ima...</td>\n",
       "      <td>Evolutionary biologist</td>\n",
       "      <td>['God', 'atheism', 'culture', 'religion', 'sci...</td>\n",
       "      <td>Militant atheism</td>\n",
       "      <td>https://www.ted.com/talks/richard_dawkins_on_m...</td>\n",
       "      <td>4374792</td>\n",
       "      <td>0.001464</td>\n",
       "      <td>683.134291</td>\n",
       "    </tr>\n",
       "    <tr>\n",
       "      <th>694</th>\n",
       "      <td>1502</td>\n",
       "      <td>Filmmaker Sharmeen Obaid-Chinoy takes on a ter...</td>\n",
       "      <td>489</td>\n",
       "      <td>TED2010</td>\n",
       "      <td>1265760000</td>\n",
       "      <td>32</td>\n",
       "      <td>Sharmeen Obaid-Chinoy</td>\n",
       "      <td>Sharmeen Obaid-Chinoy: Inside a school for sui...</td>\n",
       "      <td>1</td>\n",
       "      <td>1274865960</td>\n",
       "      <td>[{'id': 23, 'name': 'Jaw-dropping', 'count': 3...</td>\n",
       "      <td>[{'id': 171, 'hero': 'https://pe.tedcdn.com/im...</td>\n",
       "      <td>Filmmaker</td>\n",
       "      <td>['TED Fellows', 'children', 'culture', 'film',...</td>\n",
       "      <td>Inside a school for suicide bombers</td>\n",
       "      <td>https://www.ted.com/talks/sharmeen_obaid_chino...</td>\n",
       "      <td>1057238</td>\n",
       "      <td>0.001421</td>\n",
       "      <td>703.886818</td>\n",
       "    </tr>\n",
       "    <tr>\n",
       "      <th>954</th>\n",
       "      <td>2492</td>\n",
       "      <td>Janet Echelman found her true voice as an arti...</td>\n",
       "      <td>566</td>\n",
       "      <td>TED2011</td>\n",
       "      <td>1299110400</td>\n",
       "      <td>35</td>\n",
       "      <td>Janet Echelman</td>\n",
       "      <td>Janet Echelman: Taking imagination seriously</td>\n",
       "      <td>1</td>\n",
       "      <td>1307489760</td>\n",
       "      <td>[{'id': 23, 'name': 'Jaw-dropping', 'count': 3...</td>\n",
       "      <td>[{'id': 453, 'hero': 'https://pe.tedcdn.com/im...</td>\n",
       "      <td>Artist</td>\n",
       "      <td>['art', 'cities', 'culture', 'data', 'design',...</td>\n",
       "      <td>Taking imagination seriously</td>\n",
       "      <td>https://www.ted.com/talks/janet_echelman\\n</td>\n",
       "      <td>1832930</td>\n",
       "      <td>0.001360</td>\n",
       "      <td>735.525682</td>\n",
       "    </tr>\n",
       "  </tbody>\n",
       "</table>\n",
       "</div>"
      ],
      "text/plain": [
       "     comments                                        description  duration  \\\n",
       "744       649  Hours before New York lawmakers rejected a key...       453   \n",
       "803       834  David Bismark demos a new system for voting th...       422   \n",
       "96       6404  Richard Dawkins urges all atheists to openly s...      1750   \n",
       "694      1502  Filmmaker Sharmeen Obaid-Chinoy takes on a ter...       489   \n",
       "954      2492  Janet Echelman found her true voice as an arti...       566   \n",
       "\n",
       "                     event   film_date  languages           main_speaker  \\\n",
       "744  New York State Senate  1259712000          0        Diane J. Savino   \n",
       "803         TEDGlobal 2010  1279065600         36          David Bismark   \n",
       "96                 TED2002  1012608000         42        Richard Dawkins   \n",
       "694                TED2010  1265760000         32  Sharmeen Obaid-Chinoy   \n",
       "954                TED2011  1299110400         35         Janet Echelman   \n",
       "\n",
       "                                                  name  num_speaker  \\\n",
       "744    Diane J. Savino: The case for same-sex marriage            1   \n",
       "803              David Bismark: E-voting without fraud            1   \n",
       "96                   Richard Dawkins: Militant atheism            1   \n",
       "694  Sharmeen Obaid-Chinoy: Inside a school for sui...            1   \n",
       "954       Janet Echelman: Taking imagination seriously            1   \n",
       "\n",
       "     published_date                                            ratings  \\\n",
       "744      1282062180  [{'id': 25, 'name': 'OK', 'count': 100}, {'id'...   \n",
       "803      1288685640  [{'id': 25, 'name': 'OK', 'count': 111}, {'id'...   \n",
       "96       1176689220  [{'id': 3, 'name': 'Courageous', 'count': 3236...   \n",
       "694      1274865960  [{'id': 23, 'name': 'Jaw-dropping', 'count': 3...   \n",
       "954      1307489760  [{'id': 23, 'name': 'Jaw-dropping', 'count': 3...   \n",
       "\n",
       "                                         related_talks  \\\n",
       "744  [{'id': 217, 'hero': 'https://pe.tedcdn.com/im...   \n",
       "803  [{'id': 803, 'hero': 'https://pe.tedcdn.com/im...   \n",
       "96   [{'id': 86, 'hero': 'https://pe.tedcdn.com/ima...   \n",
       "694  [{'id': 171, 'hero': 'https://pe.tedcdn.com/im...   \n",
       "954  [{'id': 453, 'hero': 'https://pe.tedcdn.com/im...   \n",
       "\n",
       "         speaker_occupation  \\\n",
       "744                 Senator   \n",
       "803  Voting system designer   \n",
       "96   Evolutionary biologist   \n",
       "694               Filmmaker   \n",
       "954                  Artist   \n",
       "\n",
       "                                                  tags  \\\n",
       "744  ['God', 'LGBT', 'culture', 'government', 'law'...   \n",
       "803  ['culture', 'democracy', 'design', 'global iss...   \n",
       "96   ['God', 'atheism', 'culture', 'religion', 'sci...   \n",
       "694  ['TED Fellows', 'children', 'culture', 'film',...   \n",
       "954  ['art', 'cities', 'culture', 'data', 'design',...   \n",
       "\n",
       "                                   title  \\\n",
       "744       The case for same-sex marriage   \n",
       "803               E-voting without fraud   \n",
       "96                      Militant atheism   \n",
       "694  Inside a school for suicide bombers   \n",
       "954         Taking imagination seriously   \n",
       "\n",
       "                                                   url    views  \\\n",
       "744  https://www.ted.com/talks/diane_j_savino_the_c...   292395   \n",
       "803  https://www.ted.com/talks/david_bismark_e_voti...   543551   \n",
       "96   https://www.ted.com/talks/richard_dawkins_on_m...  4374792   \n",
       "694  https://www.ted.com/talks/sharmeen_obaid_chino...  1057238   \n",
       "954         https://www.ted.com/talks/janet_echelman\\n  1832930   \n",
       "\n",
       "     comments_per_view  views_per_comment  \n",
       "744           0.002220         450.531587  \n",
       "803           0.001534         651.739808  \n",
       "96            0.001464         683.134291  \n",
       "694           0.001421         703.886818  \n",
       "954           0.001360         735.525682  "
      ]
     },
     "execution_count": 10,
     "metadata": {},
     "output_type": "execute_result"
    }
   ],
   "source": [
    "ted['views_per_comment']=ted.views/ted.comments\n",
    "ted.sort_values('views_per_comment').head()"
   ]
  },
  {
   "cell_type": "markdown",
   "metadata": {},
   "source": [
    "<p>inverting it yielded the same result. The same Talk appears to have had the most online discussion. Notice that, this time we printed the <strong>.head$()$</strong>. This is because, as i said earlier, the <strong>.sort_values$()$</strong> method returns data in an ascending order. So in this case, the least views to generate a comment is what we were looking for and we found with <strong>450.531587</strong> views per comment</p>"
   ]
  },
  {
   "cell_type": "markdown",
   "metadata": {},
   "source": [
    "## Lessons learned in finding which talk provoked the most online discussions\n",
    "<p>1. Always consider the limitations and biases of your data when analyzing it</p><p>2. Always make your solutions or results understandable</p>"
   ]
  },
  {
   "cell_type": "markdown",
   "metadata": {},
   "source": [
    "# Visualize The Distribution of Comments"
   ]
  },
  {
   "cell_type": "markdown",
   "metadata": {},
   "source": [
    "We can create a matplotlib plot by calling the <strong>.plot$()$</strong> method on which ever column we want to plot. The default settings are returned but if we place the cursor inbetween the bracket and press <strong>SHIFT+TAB</strong>, python will show some more documentation on the unique styles and modify the defaults to make it as informative as possible\n",
    "![title](Operashot.png)\n",
    "<p>We will use a histogram to visualize the comments distribution</p>"
   ]
  },
  {
   "cell_type": "code",
   "execution_count": 11,
   "metadata": {
    "scrolled": true
   },
   "outputs": [
    {
     "data": {
      "text/plain": [
       "<matplotlib.axes._subplots.AxesSubplot at 0x212ce6476a0>"
      ]
     },
     "execution_count": 11,
     "metadata": {},
     "output_type": "execute_result"
    },
    {
     "data": {
      "image/png": "[encoded data removed]",
      "text/plain": [
       "<Figure size 432x288 with 1 Axes>"
      ]
     },
     "metadata": {
      "needs_background": "light"
     },
     "output_type": "display_data"
    }
   ],
   "source": [
    "ted.comments.plot(kind='hist')"
   ]
  },
  {
   "cell_type": "markdown",
   "metadata": {},
   "source": [
    "<p>A histogram shows the frequency distribution of a single numeric variable. The way it works is that, it creates 10 equally sized bins by default between the minimum value and maximum value and shows the number of observation in each bin</p><p>What we can see however from this histogram is that the majority of Talks had between <strong>0 - 600</strong> (first bin) comments but we have to make it more intuitive. We want to zoom in on the talks and their comments.</p>\n"
   ]
  },
  {
   "cell_type": "code",
   "execution_count": 12,
   "metadata": {
    "scrolled": true
   },
   "outputs": [
    {
     "data": {
      "text/plain": [
       "<matplotlib.axes._subplots.AxesSubplot at 0x212ce957208>"
      ]
     },
     "execution_count": 12,
     "metadata": {},
     "output_type": "execute_result"
    },
    {
     "data": {
      "image/png": "[encoded data removed]",
      "text/plain": [
       "<Figure size 432x288 with 1 Axes>"
      ]
     },
     "metadata": {
      "needs_background": "light"
     },
     "output_type": "display_data"
    }
   ],
   "source": [
    "ted[ted.comments<1000].comments.plot(kind='hist')"
   ]
  },
  {
   "cell_type": "markdown",
   "metadata": {},
   "source": [
    "We have filtered out all the comments more than 1000 and focus on what the initial histogram told us. The majority of the talks had 600 or less comments and the second histogram paints a better picture. \n",
    "\n",
    "<p>There are several other methods of filtering it with pandas. </p><p><strong>.query$()$</strong></p><p><strong>.loc$[]$</strong></p>"
   ]
  },
  {
   "cell_type": "code",
   "execution_count": 13,
   "metadata": {
    "scrolled": true
   },
   "outputs": [
    {
     "data": {
      "text/plain": [
       "<matplotlib.axes._subplots.AxesSubplot at 0x212ce9df630>"
      ]
     },
     "execution_count": 13,
     "metadata": {},
     "output_type": "execute_result"
    },
    {
     "data": {
      "image/png": "[encoded data removed]",
      "text/plain": [
       "<Figure size 432x288 with 1 Axes>"
      ]
     },
     "metadata": {
      "needs_background": "light"
     },
     "output_type": "display_data"
    }
   ],
   "source": [
    "ted.query('comments<1000').comments.plot(kind='hist')"
   ]
  },
  {
   "cell_type": "code",
   "execution_count": 14,
   "metadata": {
    "scrolled": true
   },
   "outputs": [
    {
     "data": {
      "text/plain": [
       "<matplotlib.axes._subplots.AxesSubplot at 0x212cea91390>"
      ]
     },
     "execution_count": 14,
     "metadata": {},
     "output_type": "execute_result"
    },
    {
     "data": {
      "image/png": "[encoded data removed]",
      "text/plain": [
       "<Figure size 432x288 with 1 Axes>"
      ]
     },
     "metadata": {
      "needs_background": "light"
     },
     "output_type": "display_data"
    }
   ],
   "source": [
    "ted.loc[ted.comments<1000,'comments'].plot(kind='hist') #Loc lets you pick the rows and select the columns straightaway"
   ]
  },
  {
   "cell_type": "markdown",
   "metadata": {},
   "source": [
    "now we want to pick more bins so that we get a more fine-grained histogram and get a better sense of the distribution"
   ]
  },
  {
   "cell_type": "code",
   "execution_count": 15,
   "metadata": {
    "scrolled": true
   },
   "outputs": [
    {
     "data": {
      "text/plain": [
       "<matplotlib.axes._subplots.AxesSubplot at 0x212ceadd828>"
      ]
     },
     "execution_count": 15,
     "metadata": {},
     "output_type": "execute_result"
    },
    {
     "data": {
      "image/png": "[encoded data removed]",
      "text/plain": [
       "<Figure size 432x288 with 1 Axes>"
      ]
     },
     "metadata": {
      "needs_background": "light"
     },
     "output_type": "display_data"
    }
   ],
   "source": [
    "ted.query('comments<1000').comments.plot(kind='hist',bins=20) #Every bin will now represent 50 comments"
   ]
  },
  {
   "cell_type": "markdown",
   "metadata": {},
   "source": [
    "We can see the commnets distributions better now. <strong>500</strong> Talks with between <strong>0-50</strong> comments, <strong>600</strong> Talks with between <strong>50-100</strong> comments... etc"
   ]
  },
  {
   "cell_type": "code",
   "execution_count": 16,
   "metadata": {},
   "outputs": [
    {
     "data": {
      "text/plain": [
       "(32, 19)"
      ]
     },
     "execution_count": 16,
     "metadata": {},
     "output_type": "execute_result"
    }
   ],
   "source": [
    "ted.query('comments>=1000').shape"
   ]
  },
  {
   "cell_type": "markdown",
   "metadata": {},
   "source": [
    "<p>By filtering our query to reflect only talks with less than <strong>1000</strong> comments we lost some part of our data <strong>BUT</strong> it is not that much to alter the integrity of our result. We chopped off <strong>32</strong> talks out of <strong>2550</strong> talks over the period. That is pardonable.</p>"
   ]
  },
  {
   "cell_type": "markdown",
   "metadata": {},
   "source": [
    "## Lessons learned in Visualizing The Distribution of Comments\n",
    "<p>1. Choose your plot type based on the question you are answering and the data type(s) you are working with</p><p>2. Use pandas one-liners to iterate through plots quickly</p><p>3. Try modifying the plots default</p><p>4. Creating plots involves decision-making</p>"
   ]
  },
  {
   "cell_type": "markdown",
   "metadata": {},
   "source": [
    "# Plot the number of talks that took place each year\n",
    "<p>Getting the number of talks that took place each year in the first place could be tricky for this dataset. A quick look through the columns of the dataset shows that there isn't any that has the dates that each TED talk took place. The <strong>'Event'</strong> column has some dates but some of the rows in that column do not have the dates those talks took place.</p><p>We could use the <strong>.sample$()$</strong> method to verify tis. The <strong>.sample$()$</strong> method randomly returns some of the entries of the selected column </p> "
   ]
  },
  {
   "cell_type": "code",
   "execution_count": 17,
   "metadata": {},
   "outputs": [
    {
     "data": {
      "text/plain": [
       "166                         TED2007\n",
       "1540                        TED2013\n",
       "1748           TEDxMidAtlantic 2013\n",
       "2077                  TEDWomen 2015\n",
       "1186                        TED2012\n",
       "1876                    TEDMED 2014\n",
       "1281                 TEDGlobal 2012\n",
       "311                         TED2008\n",
       "1647                  TEDWomen 2013\n",
       "1259    TEDSalon London Spring 2012\n",
       "Name: event, dtype: object"
      ]
     },
     "execution_count": 17,
     "metadata": {},
     "output_type": "execute_result"
    }
   ],
   "source": [
    "ted.event.sample(10)"
   ]
  },
  {
   "cell_type": "markdown",
   "metadata": {},
   "source": [
    "<p>Some of the entries of the event column has dates attached to it and some don't. So there must be another way around this problem.</p><p>When we go to the <strong>kaggle</strong> page where we got the data, a look through through the description of the columns states that the <strong>film_date</strong> column is the <strong>Unix timestamp of the filming</strong> so that sounds like the right column to focus on</p>"
   ]
  },
  {
   "cell_type": "code",
   "execution_count": 18,
   "metadata": {},
   "outputs": [
    {
     "data": {
      "text/plain": [
       "0    1140825600\n",
       "1    1140825600\n",
       "2    1140739200\n",
       "3    1140912000\n",
       "4    1140566400\n",
       "Name: film_date, dtype: int64"
      ]
     },
     "execution_count": 18,
     "metadata": {},
     "output_type": "execute_result"
    }
   ],
   "source": [
    "ted.film_date.head()"
   ]
  },
  {
   "cell_type": "markdown",
   "metadata": {},
   "source": [
    "the output is a Unix timestamp which is not easy to interpret so I will be using Pandas'<strong> to_datetime()</strong> method to make it readable"
   ]
  },
  {
   "cell_type": "code",
   "execution_count": 19,
   "metadata": {},
   "outputs": [
    {
     "data": {
      "text/plain": [
       "0   1970-01-01 00:00:01.140825600\n",
       "1   1970-01-01 00:00:01.140825600\n",
       "2   1970-01-01 00:00:01.140739200\n",
       "3   1970-01-01 00:00:01.140912000\n",
       "4   1970-01-01 00:00:01.140566400\n",
       "5   1970-01-01 00:00:01.138838400\n",
       "6   1970-01-01 00:00:01.140739200\n",
       "7   1970-01-01 00:00:01.140652800\n",
       "8   1970-01-01 00:00:01.138838400\n",
       "9   1970-01-01 00:00:01.140825600\n",
       "Name: film_date, dtype: datetime64[ns]"
      ]
     },
     "execution_count": 19,
     "metadata": {},
     "output_type": "execute_result"
    }
   ],
   "source": [
    "pd.to_datetime(ted.film_date).head(10)"
   ]
  },
  {
   "cell_type": "markdown",
   "metadata": {},
   "source": [
    "This is okay but not satisfactory. I need to make it a lot more relateable. A look at the Pandas' to_datetime() documentation -- scrolling down to the Unix timestamp -- gives us the way to convert the Unix timestamp to a format anyone can appreciate. It requires us to add <strong>Unit = 's'</strong>"
   ]
  },
  {
   "cell_type": "code",
   "execution_count": 20,
   "metadata": {},
   "outputs": [
    {
     "data": {
      "text/plain": [
       "0   2006-02-25\n",
       "1   2006-02-25\n",
       "2   2006-02-24\n",
       "3   2006-02-26\n",
       "4   2006-02-22\n",
       "5   2006-02-02\n",
       "6   2006-02-24\n",
       "7   2006-02-23\n",
       "8   2006-02-02\n",
       "9   2006-02-25\n",
       "Name: film_date, dtype: datetime64[ns]"
      ]
     },
     "execution_count": 20,
     "metadata": {},
     "output_type": "execute_result"
    }
   ],
   "source": [
    "pd.to_datetime(ted.film_date,unit='s').head(10)"
   ]
  },
  {
   "cell_type": "markdown",
   "metadata": {},
   "source": [
    "<p><strong>Great!</strong> now we have it a format we can appreciate but how sure it is the right dates for all the events?</p>\n",
    "<p>Well, I will create a new column <strong>new_dates</strong> and randomly compare it to the events and see if the dates match</p>"
   ]
  },
  {
   "cell_type": "code",
   "execution_count": 21,
   "metadata": {},
   "outputs": [],
   "source": [
    "ted['new_dates']=pd.to_datetime(ted.film_date,unit='s')"
   ]
  },
  {
   "cell_type": "code",
   "execution_count": 22,
   "metadata": {},
   "outputs": [
    {
     "data": {
      "text/html": [
       "<div>\n",
       "<style scoped>\n",
       "    .dataframe tbody tr th:only-of-type {\n",
       "        vertical-align: middle;\n",
       "    }\n",
       "\n",
       "    .dataframe tbody tr th {\n",
       "        vertical-align: top;\n",
       "    }\n",
       "\n",
       "    .dataframe thead th {\n",
       "        text-align: right;\n",
       "    }\n",
       "</style>\n",
       "<table border=\"1\" class=\"dataframe\">\n",
       "  <thead>\n",
       "    <tr style=\"text-align: right;\">\n",
       "      <th></th>\n",
       "      <th>event</th>\n",
       "      <th>new_dates</th>\n",
       "    </tr>\n",
       "  </thead>\n",
       "  <tbody>\n",
       "    <tr>\n",
       "      <th>773</th>\n",
       "      <td>TEDGlobal 2010</td>\n",
       "      <td>2010-07-15</td>\n",
       "    </tr>\n",
       "    <tr>\n",
       "      <th>1885</th>\n",
       "      <td>TEDxNorrkoping</td>\n",
       "      <td>2014-11-11</td>\n",
       "    </tr>\n",
       "    <tr>\n",
       "      <th>301</th>\n",
       "      <td>TED2003</td>\n",
       "      <td>2003-02-28</td>\n",
       "    </tr>\n",
       "    <tr>\n",
       "      <th>16</th>\n",
       "      <td>TED2004</td>\n",
       "      <td>2004-02-26</td>\n",
       "    </tr>\n",
       "    <tr>\n",
       "      <th>2412</th>\n",
       "      <td>TEDxFrankfurt</td>\n",
       "      <td>2016-11-29</td>\n",
       "    </tr>\n",
       "    <tr>\n",
       "      <th>1341</th>\n",
       "      <td>TED-Ed</td>\n",
       "      <td>2012-09-26</td>\n",
       "    </tr>\n",
       "    <tr>\n",
       "      <th>1474</th>\n",
       "      <td>TED2013</td>\n",
       "      <td>2013-02-26</td>\n",
       "    </tr>\n",
       "    <tr>\n",
       "      <th>1954</th>\n",
       "      <td>TED2015</td>\n",
       "      <td>2015-03-17</td>\n",
       "    </tr>\n",
       "    <tr>\n",
       "      <th>1310</th>\n",
       "      <td>TEDGlobal 2012</td>\n",
       "      <td>2012-06-26</td>\n",
       "    </tr>\n",
       "    <tr>\n",
       "      <th>2184</th>\n",
       "      <td>TED2016</td>\n",
       "      <td>2016-02-15</td>\n",
       "    </tr>\n",
       "  </tbody>\n",
       "</table>\n",
       "</div>"
      ],
      "text/plain": [
       "               event  new_dates\n",
       "773   TEDGlobal 2010 2010-07-15\n",
       "1885  TEDxNorrkoping 2014-11-11\n",
       "301          TED2003 2003-02-28\n",
       "16           TED2004 2004-02-26\n",
       "2412   TEDxFrankfurt 2016-11-29\n",
       "1341          TED-Ed 2012-09-26\n",
       "1474         TED2013 2013-02-26\n",
       "1954         TED2015 2015-03-17\n",
       "1310  TEDGlobal 2012 2012-06-26\n",
       "2184         TED2016 2016-02-15"
      ]
     },
     "execution_count": 22,
     "metadata": {},
     "output_type": "execute_result"
    }
   ],
   "source": [
    "ted[['event','new_dates']].sample(10)"
   ]
  },
  {
   "cell_type": "markdown",
   "metadata": {},
   "source": [
    "<p>When we check the data types of the dataframe, it will now indicate a new dtype: <strong>datetime64[ns]</strong></p><p>This is important because the datetime hepls us call specific timelines from the column. Eg we can call for the 'year', 'dayofweek', 'dayofyear' etc with the <strong>.dt</strong> attrbute</p> "
   ]
  },
  {
   "cell_type": "code",
   "execution_count": 23,
   "metadata": {},
   "outputs": [
    {
     "data": {
      "text/plain": [
       "comments                       int64\n",
       "description                   object\n",
       "duration                       int64\n",
       "event                         object\n",
       "film_date                      int64\n",
       "languages                      int64\n",
       "main_speaker                  object\n",
       "name                          object\n",
       "num_speaker                    int64\n",
       "published_date                 int64\n",
       "ratings                       object\n",
       "related_talks                 object\n",
       "speaker_occupation            object\n",
       "tags                          object\n",
       "title                         object\n",
       "url                           object\n",
       "views                          int64\n",
       "comments_per_view            float64\n",
       "views_per_comment            float64\n",
       "new_dates             datetime64[ns]\n",
       "dtype: object"
      ]
     },
     "execution_count": 23,
     "metadata": {},
     "output_type": "execute_result"
    }
   ],
   "source": [
    "ted.dtypes"
   ]
  },
  {
   "cell_type": "code",
   "execution_count": 24,
   "metadata": {},
   "outputs": [
    {
     "data": {
      "text/plain": [
       "0    56\n",
       "1    56\n",
       "2    55\n",
       "3    57\n",
       "4    53\n",
       "Name: new_dates, dtype: int64"
      ]
     },
     "execution_count": 24,
     "metadata": {},
     "output_type": "execute_result"
    }
   ],
   "source": [
    "ted.new_dates.dt.dayofyear.head()"
   ]
  },
  {
   "cell_type": "code",
   "execution_count": 25,
   "metadata": {},
   "outputs": [
    {
     "data": {
      "text/plain": [
       "0    2006\n",
       "1    2006\n",
       "2    2006\n",
       "3    2006\n",
       "4    2006\n",
       "Name: new_dates, dtype: int64"
      ]
     },
     "execution_count": 25,
     "metadata": {},
     "output_type": "execute_result"
    }
   ],
   "source": [
    "ted.new_dates.dt.year.head()"
   ]
  },
  {
   "cell_type": "code",
   "execution_count": 26,
   "metadata": {},
   "outputs": [
    {
     "data": {
      "text/plain": [
       "0    5\n",
       "1    5\n",
       "2    4\n",
       "3    6\n",
       "4    2\n",
       "Name: new_dates, dtype: int64"
      ]
     },
     "execution_count": 26,
     "metadata": {},
     "output_type": "execute_result"
    }
   ],
   "source": [
    "ted.new_dates.dt.dayofweek.head()"
   ]
  },
  {
   "cell_type": "markdown",
   "metadata": {},
   "source": [
    "Now that we have the dates all sorted out. We can go ahead and find the number of TED talks that happened in each year. I will use the <strong>.value_counts()</strong> method to do this. After this, I will plot it"
   ]
  },
  {
   "cell_type": "code",
   "execution_count": 27,
   "metadata": {},
   "outputs": [
    {
     "data": {
      "text/plain": [
       "2013    270\n",
       "2011    270\n",
       "2010    267\n",
       "2012    267\n",
       "2016    246\n",
       "Name: new_dates, dtype: int64"
      ]
     },
     "execution_count": 27,
     "metadata": {},
     "output_type": "execute_result"
    }
   ],
   "source": [
    "#count all ted talks that happened in each year\n",
    "ted.new_dates.dt.year.value_counts().head()"
   ]
  },
  {
   "cell_type": "code",
   "execution_count": 28,
   "metadata": {},
   "outputs": [
    {
     "data": {
      "text/plain": [
       "<matplotlib.axes._subplots.AxesSubplot at 0x212ceba8ac8>"
      ]
     },
     "execution_count": 28,
     "metadata": {},
     "output_type": "execute_result"
    },
    {
     "data": {
      "image/png": "[encoded data removed]",
      "text/plain": [
       "<Figure size 432x288 with 1 Axes>"
      ]
     },
     "metadata": {
      "needs_background": "light"
     },
     "output_type": "display_data"
    }
   ],
   "source": [
    "ted.new_dates.dt.year.value_counts().plot()"
   ]
  },
  {
   "cell_type": "markdown",
   "metadata": {},
   "source": [
    "This plot doesn't look awesome and not readily interpretable because line plots (default) for .plot() picks the values based on the dates and plots them just as it is. In order to rectify this, I will sort the index so that the values plotted follow a chronological order"
   ]
  },
  {
   "cell_type": "code",
   "execution_count": 29,
   "metadata": {},
   "outputs": [
    {
     "data": {
      "text/plain": [
       "1972      1\n",
       "1983      1\n",
       "1984      1\n",
       "1990      1\n",
       "1991      1\n",
       "1994      1\n",
       "1998      6\n",
       "2001      5\n",
       "2002     27\n",
       "2003     33\n",
       "2004     33\n",
       "2005     66\n",
       "2006     50\n",
       "2007    114\n",
       "2008     84\n",
       "2009    232\n",
       "2010    267\n",
       "2011    270\n",
       "2012    267\n",
       "2013    270\n",
       "2014    237\n",
       "2015    239\n",
       "2016    246\n",
       "2017     98\n",
       "Name: new_dates, dtype: int64"
      ]
     },
     "execution_count": 29,
     "metadata": {},
     "output_type": "execute_result"
    }
   ],
   "source": [
    "ted.new_dates.dt.year.value_counts().sort_index()"
   ]
  },
  {
   "cell_type": "code",
   "execution_count": 30,
   "metadata": {},
   "outputs": [
    {
     "data": {
      "text/plain": [
       "<matplotlib.axes._subplots.AxesSubplot at 0x212cebfee80>"
      ]
     },
     "execution_count": 30,
     "metadata": {},
     "output_type": "execute_result"
    },
    {
     "data": {
      "image/png": "[encoded data removed]",
      "text/plain": [
       "<Figure size 432x288 with 1 Axes>"
      ]
     },
     "metadata": {
      "needs_background": "light"
     },
     "output_type": "display_data"
    }
   ],
   "source": [
    "ted.new_dates.dt.year.value_counts().sort_index().plot()"
   ]
  },
  {
   "cell_type": "markdown",
   "metadata": {},
   "source": [
    "The reason why I did not use a bar plot is because it takes out years where there was no Talk and leaves a gap in the timeline."
   ]
  },
  {
   "cell_type": "code",
   "execution_count": 31,
   "metadata": {},
   "outputs": [
    {
     "data": {
      "text/plain": [
       "<matplotlib.axes._subplots.AxesSubplot at 0x212cec65eb8>"
      ]
     },
     "execution_count": 31,
     "metadata": {},
     "output_type": "execute_result"
    },
    {
     "data": {
      "image/png": "[encoded data removed]",
      "text/plain": [
       "<Figure size 432x288 with 1 Axes>"
      ]
     },
     "metadata": {
      "needs_background": "light"
     },
     "output_type": "display_data"
    }
   ],
   "source": [
    "ted.new_dates.dt.year.value_counts().plot(kind='bar')"
   ]
  },
  {
   "cell_type": "markdown",
   "metadata": {},
   "source": [
    "## Lessons learned Plotting the number of talks that took place each year\n",
    "<p>1. Read the documentation</p><p>2. Use the datetime data type for dates and times</p><p>3. Check the work as you go</p><p>4. Check excluding data if it might not be relevant</p>"
   ]
  },
  {
   "cell_type": "markdown",
   "metadata": {},
   "source": [
    "# What Were The Best Events In TED History to Attend?\n",
    "<p>This task is not about the best TED talk in history but the BEST TED Event. The BEST TED Event must have the best and the most engaging talks. To find out the best event in history, we must look out for talks which had the best audience and viewer engagements and see which particular EVENT had the most of those talks</p>\n",
    "<p>We could first see the EVENT with th highest number of talks </p>"
   ]
  },
  {
   "cell_type": "code",
   "execution_count": 32,
   "metadata": {},
   "outputs": [
    {
     "data": {
      "text/plain": [
       "TED2014    84\n",
       "TED2009    83\n",
       "TED2013    77\n",
       "TED2016    77\n",
       "TED2015    75\n",
       "Name: event, dtype: int64"
      ]
     },
     "execution_count": 32,
     "metadata": {},
     "output_type": "execute_result"
    }
   ],
   "source": [
    "ted.event.value_counts().head()"
   ]
  },
  {
   "cell_type": "markdown",
   "metadata": {},
   "source": [
    "The TED2014 had the highest number of talks but that doesn't necessarily mean it was the best EVENT in History. We could go a step further to group the events by talks and number of views per talk"
   ]
  },
  {
   "cell_type": "code",
   "execution_count": 33,
   "metadata": {},
   "outputs": [
    {
     "data": {
      "text/plain": [
       "event\n",
       "TEDxNorrkoping        6569493.0\n",
       "TEDxCreativeCoast     8444981.0\n",
       "TEDxBloomington       9484259.5\n",
       "TEDxHouston          16140250.5\n",
       "TEDxPuget Sound      34309432.0\n",
       "Name: views, dtype: float64"
      ]
     },
     "execution_count": 33,
     "metadata": {},
     "output_type": "execute_result"
    }
   ],
   "source": [
    "#group event by views and aggregate the mean\n",
    "ted.groupby('event').views.mean().sort_values().tail()"
   ]
  },
  {
   "cell_type": "markdown",
   "metadata": {},
   "source": [
    "<p>The way the groupby works is that, it aggregates a column and does some aggregation function on some column. So here, we grouped by 'event' and aggregated the 'views' column by .mean()... <strong>the mean of the views in that particular event</strong>. </p>\n",
    "<p>Sorting out the values and calling the tail, we see that <strong>TEDxPuget Sound</strong> had the best views per Talk (34million).</p><p>This does not fully tell the full story. The TEDxPugent Sound talk might not necessarily be the best event. We have to see the number of talks for each event so that we can have a better sense of the Event which was the best to attend.</p>"
   ]
  },
  {
   "cell_type": "code",
   "execution_count": 34,
   "metadata": {},
   "outputs": [
    {
     "data": {
      "text/html": [
       "<div>\n",
       "<style scoped>\n",
       "    .dataframe tbody tr th:only-of-type {\n",
       "        vertical-align: middle;\n",
       "    }\n",
       "\n",
       "    .dataframe tbody tr th {\n",
       "        vertical-align: top;\n",
       "    }\n",
       "\n",
       "    .dataframe thead th {\n",
       "        text-align: right;\n",
       "    }\n",
       "</style>\n",
       "<table border=\"1\" class=\"dataframe\">\n",
       "  <thead>\n",
       "    <tr style=\"text-align: right;\">\n",
       "      <th></th>\n",
       "      <th>count</th>\n",
       "      <th>mean</th>\n",
       "    </tr>\n",
       "    <tr>\n",
       "      <th>event</th>\n",
       "      <th></th>\n",
       "      <th></th>\n",
       "    </tr>\n",
       "  </thead>\n",
       "  <tbody>\n",
       "    <tr>\n",
       "      <th>AORN Congress</th>\n",
       "      <td>1</td>\n",
       "      <td>149818.0</td>\n",
       "    </tr>\n",
       "    <tr>\n",
       "      <th>Arbejdsglaede Live</th>\n",
       "      <td>1</td>\n",
       "      <td>971594.0</td>\n",
       "    </tr>\n",
       "    <tr>\n",
       "      <th>BBC TV</th>\n",
       "      <td>1</td>\n",
       "      <td>521974.0</td>\n",
       "    </tr>\n",
       "    <tr>\n",
       "      <th>Bowery Poetry Club</th>\n",
       "      <td>1</td>\n",
       "      <td>676741.0</td>\n",
       "    </tr>\n",
       "    <tr>\n",
       "      <th>Business Innovation Factory</th>\n",
       "      <td>3</td>\n",
       "      <td>304086.0</td>\n",
       "    </tr>\n",
       "  </tbody>\n",
       "</table>\n",
       "</div>"
      ],
      "text/plain": [
       "                             count      mean\n",
       "event                                       \n",
       "AORN Congress                    1  149818.0\n",
       "Arbejdsglaede Live               1  971594.0\n",
       "BBC TV                           1  521974.0\n",
       "Bowery Poetry Club               1  676741.0\n",
       "Business Innovation Factory      3  304086.0"
      ]
     },
     "execution_count": 34,
     "metadata": {},
     "output_type": "execute_result"
    }
   ],
   "source": [
    "#group event by views and aggregate by both mean and count the number of talks in each talk\n",
    "ted.groupby('event').views.agg(['count','mean']).head()"
   ]
  },
  {
   "cell_type": "markdown",
   "metadata": {},
   "source": [
    "We passed a list of ['count', 'mean'] to agg() function to compute both the mean views of the individual talks and also return the number of talks in those events so that we will get a real sense of the events which had the best talks and hence the Best Event in the history of TED talks."
   ]
  },
  {
   "cell_type": "code",
   "execution_count": 35,
   "metadata": {},
   "outputs": [
    {
     "data": {
      "text/html": [
       "<div>\n",
       "<style scoped>\n",
       "    .dataframe tbody tr th:only-of-type {\n",
       "        vertical-align: middle;\n",
       "    }\n",
       "\n",
       "    .dataframe tbody tr th {\n",
       "        vertical-align: top;\n",
       "    }\n",
       "\n",
       "    .dataframe thead th {\n",
       "        text-align: right;\n",
       "    }\n",
       "</style>\n",
       "<table border=\"1\" class=\"dataframe\">\n",
       "  <thead>\n",
       "    <tr style=\"text-align: right;\">\n",
       "      <th></th>\n",
       "      <th>count</th>\n",
       "      <th>mean</th>\n",
       "    </tr>\n",
       "    <tr>\n",
       "      <th>event</th>\n",
       "      <th></th>\n",
       "      <th></th>\n",
       "    </tr>\n",
       "  </thead>\n",
       "  <tbody>\n",
       "    <tr>\n",
       "      <th>The Do Lectures</th>\n",
       "      <td>1</td>\n",
       "      <td>112321.0</td>\n",
       "    </tr>\n",
       "    <tr>\n",
       "      <th>Toronto Youth Corps</th>\n",
       "      <td>1</td>\n",
       "      <td>1028630.0</td>\n",
       "    </tr>\n",
       "    <tr>\n",
       "      <th>University of California</th>\n",
       "      <td>2</td>\n",
       "      <td>261831.5</td>\n",
       "    </tr>\n",
       "    <tr>\n",
       "      <th>Web 2.0 Expo 2008</th>\n",
       "      <td>1</td>\n",
       "      <td>757791.0</td>\n",
       "    </tr>\n",
       "    <tr>\n",
       "      <th>World Science Festival</th>\n",
       "      <td>1</td>\n",
       "      <td>3302312.0</td>\n",
       "    </tr>\n",
       "  </tbody>\n",
       "</table>\n",
       "</div>"
      ],
      "text/plain": [
       "                          count       mean\n",
       "event                                     \n",
       "The Do Lectures               1   112321.0\n",
       "Toronto Youth Corps           1  1028630.0\n",
       "University of California      2   261831.5\n",
       "Web 2.0 Expo 2008             1   757791.0\n",
       "World Science Festival        1  3302312.0"
      ]
     },
     "execution_count": 35,
     "metadata": {},
     "output_type": "execute_result"
    }
   ],
   "source": [
    "#get the tail of the group data by event and aggregated by mean and count of views\n",
    "ted.groupby('event').views.agg(['count','mean']).tail()"
   ]
  },
  {
   "cell_type": "code",
   "execution_count": 36,
   "metadata": {},
   "outputs": [
    {
     "data": {
      "text/html": [
       "<div>\n",
       "<style scoped>\n",
       "    .dataframe tbody tr th:only-of-type {\n",
       "        vertical-align: middle;\n",
       "    }\n",
       "\n",
       "    .dataframe tbody tr th {\n",
       "        vertical-align: top;\n",
       "    }\n",
       "\n",
       "    .dataframe thead th {\n",
       "        text-align: right;\n",
       "    }\n",
       "</style>\n",
       "<table border=\"1\" class=\"dataframe\">\n",
       "  <thead>\n",
       "    <tr style=\"text-align: right;\">\n",
       "      <th></th>\n",
       "      <th>count</th>\n",
       "      <th>mean</th>\n",
       "    </tr>\n",
       "    <tr>\n",
       "      <th>event</th>\n",
       "      <th></th>\n",
       "      <th></th>\n",
       "    </tr>\n",
       "  </thead>\n",
       "  <tbody>\n",
       "    <tr>\n",
       "      <th>TEDxNorrkoping</th>\n",
       "      <td>1</td>\n",
       "      <td>6569493.0</td>\n",
       "    </tr>\n",
       "    <tr>\n",
       "      <th>TEDxCreativeCoast</th>\n",
       "      <td>1</td>\n",
       "      <td>8444981.0</td>\n",
       "    </tr>\n",
       "    <tr>\n",
       "      <th>TEDxBloomington</th>\n",
       "      <td>2</td>\n",
       "      <td>9484259.5</td>\n",
       "    </tr>\n",
       "    <tr>\n",
       "      <th>TEDxHouston</th>\n",
       "      <td>2</td>\n",
       "      <td>16140250.5</td>\n",
       "    </tr>\n",
       "    <tr>\n",
       "      <th>TEDxPuget Sound</th>\n",
       "      <td>1</td>\n",
       "      <td>34309432.0</td>\n",
       "    </tr>\n",
       "  </tbody>\n",
       "</table>\n",
       "</div>"
      ],
      "text/plain": [
       "                   count        mean\n",
       "event                               \n",
       "TEDxNorrkoping         1   6569493.0\n",
       "TEDxCreativeCoast      1   8444981.0\n",
       "TEDxBloomington        2   9484259.5\n",
       "TEDxHouston            2  16140250.5\n",
       "TEDxPuget Sound        1  34309432.0"
      ]
     },
     "execution_count": 36,
     "metadata": {},
     "output_type": "execute_result"
    }
   ],
   "source": [
    "#We still do not have what we are looking for so we sort by the mean\n",
    "ted.groupby('event').views.agg(['count','mean']).sort_values('mean').tail()"
   ]
  },
  {
   "cell_type": "markdown",
   "metadata": {},
   "source": [
    "## Lessons on What Were The Best Events in TED History\n",
    "<p>Think creatively about how you can use your data to answer your question. Because you will rarely have the perfect dataset for your work. Always the potential weakness of your approach</p>"
   ]
  },
  {
   "cell_type": "markdown",
   "metadata": {},
   "source": [
    "# Unpack the Ratings data\n",
    "- There used to be a way on the TED website to tag a talk as 'funny', 'boring', 'exciting' etc but it is not that case anymore. That is the ratings data. It was scrapped at the time it was still allowed on the website. \n",
    "\n",
    "- We have this ratings data to try and unpack. \n"
   ]
  },
  {
   "cell_type": "code",
   "execution_count": 37,
   "metadata": {},
   "outputs": [
    {
     "data": {
      "text/plain": [
       "0    [{'id': 7, 'name': 'Funny', 'count': 19645}, {...\n",
       "1    [{'id': 7, 'name': 'Funny', 'count': 544}, {'i...\n",
       "2    [{'id': 7, 'name': 'Funny', 'count': 964}, {'i...\n",
       "3    [{'id': 3, 'name': 'Courageous', 'count': 760}...\n",
       "4    [{'id': 9, 'name': 'Ingenious', 'count': 3202}...\n",
       "Name: ratings, dtype: object"
      ]
     },
     "execution_count": 37,
     "metadata": {},
     "output_type": "execute_result"
    }
   ],
   "source": [
    "ted.ratings.head()"
   ]
  },
  {
   "cell_type": "code",
   "execution_count": 38,
   "metadata": {},
   "outputs": [
    {
     "data": {
      "text/plain": [
       "pandas.core.series.Series"
      ]
     },
     "execution_count": 38,
     "metadata": {},
     "output_type": "execute_result"
    }
   ],
   "source": [
    "type(ted.ratings)"
   ]
  },
  {
   "cell_type": "markdown",
   "metadata": {},
   "source": [
    "We could check what every row looks like"
   ]
  },
  {
   "cell_type": "code",
   "execution_count": 39,
   "metadata": {},
   "outputs": [
    {
     "data": {
      "text/plain": [
       "\"[{'id': 7, 'name': 'Funny', 'count': 19645}, {'id': 1, 'name': 'Beautiful', 'count': 4573}, {'id': 9, 'name': 'Ingenious', 'count': 6073}, {'id': 3, 'name': 'Courageous', 'count': 3253}, {'id': 11, 'name': 'Longwinded', 'count': 387}, {'id': 2, 'name': 'Confusing', 'count': 242}, {'id': 8, 'name': 'Informative', 'count': 7346}, {'id': 22, 'name': 'Fascinating', 'count': 10581}, {'id': 21, 'name': 'Unconvincing', 'count': 300}, {'id': 24, 'name': 'Persuasive', 'count': 10704}, {'id': 23, 'name': 'Jaw-dropping', 'count': 4439}, {'id': 25, 'name': 'OK', 'count': 1174}, {'id': 26, 'name': 'Obnoxious', 'count': 209}, {'id': 10, 'name': 'Inspiring', 'count': 24924}]\""
      ]
     },
     "execution_count": 39,
     "metadata": {},
     "output_type": "execute_result"
    }
   ],
   "source": [
    "#ted.ratings[0] and ted.loc[0,'ratings'] are do the same thing. They slice the first row of the ratings data\n",
    "ted.loc[0,'ratings']"
   ]
  },
  {
   "cell_type": "code",
   "execution_count": 40,
   "metadata": {},
   "outputs": [
    {
     "data": {
      "text/plain": [
       "str"
      ]
     },
     "execution_count": 40,
     "metadata": {},
     "output_type": "execute_result"
    }
   ],
   "source": [
    "type(ted.loc[0,'ratings'])"
   ]
  },
  {
   "cell_type": "markdown",
   "metadata": {},
   "source": [
    "- type is a string. A string of dictionary. \n",
    "- one way to resolve this is to import <strong>.ast</strong> (abstract syntax tree) and call its <strong>literal_eval</strong> function to convert the string to a list"
   ]
  },
  {
   "cell_type": "code",
   "execution_count": 41,
   "metadata": {},
   "outputs": [],
   "source": [
    "#import ast\n",
    "import ast"
   ]
  },
  {
   "cell_type": "code",
   "execution_count": 42,
   "metadata": {},
   "outputs": [
    {
     "data": {
      "text/plain": [
       "[1, 2, 3]"
      ]
     },
     "execution_count": 42,
     "metadata": {},
     "output_type": "execute_result"
    }
   ],
   "source": [
    "#Eg:\n",
    "ast.literal_eval('[1,2,3]')"
   ]
  },
  {
   "cell_type": "markdown",
   "metadata": {},
   "source": [
    "It takes a string and returns only the list"
   ]
  },
  {
   "cell_type": "code",
   "execution_count": 43,
   "metadata": {},
   "outputs": [
    {
     "data": {
      "text/plain": [
       "[{'id': 7, 'name': 'Funny', 'count': 19645},\n",
       " {'id': 1, 'name': 'Beautiful', 'count': 4573},\n",
       " {'id': 9, 'name': 'Ingenious', 'count': 6073},\n",
       " {'id': 3, 'name': 'Courageous', 'count': 3253},\n",
       " {'id': 11, 'name': 'Longwinded', 'count': 387},\n",
       " {'id': 2, 'name': 'Confusing', 'count': 242},\n",
       " {'id': 8, 'name': 'Informative', 'count': 7346},\n",
       " {'id': 22, 'name': 'Fascinating', 'count': 10581},\n",
       " {'id': 21, 'name': 'Unconvincing', 'count': 300},\n",
       " {'id': 24, 'name': 'Persuasive', 'count': 10704},\n",
       " {'id': 23, 'name': 'Jaw-dropping', 'count': 4439},\n",
       " {'id': 25, 'name': 'OK', 'count': 1174},\n",
       " {'id': 26, 'name': 'Obnoxious', 'count': 209},\n",
       " {'id': 10, 'name': 'Inspiring', 'count': 24924}]"
      ]
     },
     "execution_count": 43,
     "metadata": {},
     "output_type": "execute_result"
    }
   ],
   "source": [
    "ast.literal_eval(ted.ratings[0])"
   ]
  },
  {
   "cell_type": "code",
   "execution_count": 44,
   "metadata": {},
   "outputs": [
    {
     "data": {
      "text/plain": [
       "list"
      ]
     },
     "execution_count": 44,
     "metadata": {},
     "output_type": "execute_result"
    }
   ],
   "source": [
    "type(ast.literal_eval(ted.ratings[0]))"
   ]
  },
  {
   "cell_type": "markdown",
   "metadata": {},
   "source": [
    "so we now what to extend it to the entire ratings series. \n",
    "We wil define a function to do that"
   ]
  },
  {
   "cell_type": "code",
   "execution_count": 45,
   "metadata": {},
   "outputs": [],
   "source": [
    "def str_to_list(string):\n",
    "    return ast.literal_eval(string)"
   ]
  },
  {
   "cell_type": "code",
   "execution_count": 46,
   "metadata": {},
   "outputs": [
    {
     "data": {
      "text/plain": [
       "[{'id': 7, 'name': 'Funny', 'count': 19645},\n",
       " {'id': 1, 'name': 'Beautiful', 'count': 4573},\n",
       " {'id': 9, 'name': 'Ingenious', 'count': 6073},\n",
       " {'id': 3, 'name': 'Courageous', 'count': 3253},\n",
       " {'id': 11, 'name': 'Longwinded', 'count': 387},\n",
       " {'id': 2, 'name': 'Confusing', 'count': 242},\n",
       " {'id': 8, 'name': 'Informative', 'count': 7346},\n",
       " {'id': 22, 'name': 'Fascinating', 'count': 10581},\n",
       " {'id': 21, 'name': 'Unconvincing', 'count': 300},\n",
       " {'id': 24, 'name': 'Persuasive', 'count': 10704},\n",
       " {'id': 23, 'name': 'Jaw-dropping', 'count': 4439},\n",
       " {'id': 25, 'name': 'OK', 'count': 1174},\n",
       " {'id': 26, 'name': 'Obnoxious', 'count': 209},\n",
       " {'id': 10, 'name': 'Inspiring', 'count': 24924}]"
      ]
     },
     "execution_count": 46,
     "metadata": {},
     "output_type": "execute_result"
    }
   ],
   "source": [
    "str_to_list(ted.ratings[0])"
   ]
  },
  {
   "cell_type": "code",
   "execution_count": 47,
   "metadata": {},
   "outputs": [
    {
     "data": {
      "text/plain": [
       "0    [{'id': 7, 'name': 'Funny', 'count': 19645}, {...\n",
       "1    [{'id': 7, 'name': 'Funny', 'count': 544}, {'i...\n",
       "2    [{'id': 7, 'name': 'Funny', 'count': 964}, {'i...\n",
       "3    [{'id': 3, 'name': 'Courageous', 'count': 760}...\n",
       "4    [{'id': 9, 'name': 'Ingenious', 'count': 3202}...\n",
       "Name: ratings, dtype: object"
      ]
     },
     "execution_count": 47,
     "metadata": {},
     "output_type": "execute_result"
    }
   ],
   "source": [
    "#apply to the entire ratings series\n",
    "ted.ratings.apply(str_to_list).head()"
   ]
  },
  {
   "cell_type": "markdown",
   "metadata": {},
   "source": [
    "Looked like it worked. \n",
    "- we could have also used apply straight away without defining a function\n",
    "- also we could have used a lambda function to apply it to the entire series\n",
    "<p>This is the general format of a lambda function. <strong>lambda x:</strong> ast.literat_eval(x)</p>\n",
    "- it simply says for every x in the series, do the following (ast.literal_eval) to it "
   ]
  },
  {
   "cell_type": "code",
   "execution_count": 48,
   "metadata": {},
   "outputs": [
    {
     "data": {
      "text/plain": [
       "0       [{'id': 7, 'name': 'Funny', 'count': 19645}, {...\n",
       "1       [{'id': 7, 'name': 'Funny', 'count': 544}, {'i...\n",
       "2       [{'id': 7, 'name': 'Funny', 'count': 964}, {'i...\n",
       "3       [{'id': 3, 'name': 'Courageous', 'count': 760}...\n",
       "4       [{'id': 9, 'name': 'Ingenious', 'count': 3202}...\n",
       "5       [{'id': 7, 'name': 'Funny', 'count': 1102}, {'...\n",
       "6       [{'id': 3, 'name': 'Courageous', 'count': 477}...\n",
       "7       [{'id': 9, 'name': 'Ingenious', 'count': 195},...\n",
       "8       [{'id': 3, 'name': 'Courageous', 'count': 562}...\n",
       "9       [{'id': 21, 'name': 'Unconvincing', 'count': 8...\n",
       "10      [{'id': 3, 'name': 'Courageous', 'count': 169}...\n",
       "11      [{'id': 1, 'name': 'Beautiful', 'count': 70}, ...\n",
       "12      [{'id': 8, 'name': 'Informative', 'count': 188...\n",
       "13      [{'id': 9, 'name': 'Ingenious', 'count': 1014}...\n",
       "14      [{'id': 3, 'name': 'Courageous', 'count': 83},...\n",
       "15      [{'id': 1, 'name': 'Beautiful', 'count': 1671}...\n",
       "16      [{'id': 1, 'name': 'Beautiful', 'count': 1107}...\n",
       "17      [{'id': 9, 'name': 'Ingenious', 'count': 321},...\n",
       "18      [{'id': 1, 'name': 'Beautiful', 'count': 259},...\n",
       "19      [{'id': 1, 'name': 'Beautiful', 'count': 104},...\n",
       "20      [{'id': 9, 'name': 'Ingenious', 'count': 117},...\n",
       "21      [{'id': 7, 'name': 'Funny', 'count': 2799}, {'...\n",
       "22      [{'id': 8, 'name': 'Informative', 'count': 82}...\n",
       "23      [{'id': 7, 'name': 'Funny', 'count': 780}, {'i...\n",
       "24      [{'id': 3, 'name': 'Courageous', 'count': 654}...\n",
       "25      [{'id': 9, 'name': 'Ingenious', 'count': 269},...\n",
       "26      [{'id': 1, 'name': 'Beautiful', 'count': 333},...\n",
       "27      [{'id': 7, 'name': 'Funny', 'count': 485}, {'i...\n",
       "28      [{'id': 7, 'name': 'Funny', 'count': 1668}, {'...\n",
       "29      [{'id': 7, 'name': 'Funny', 'count': 1728}, {'...\n",
       "                              ...                        \n",
       "2520    [{'id': 23, 'name': 'Jaw-dropping', 'count': 2...\n",
       "2521    [{'id': 8, 'name': 'Informative', 'count': 146...\n",
       "2522    [{'id': 1, 'name': 'Beautiful', 'count': 85}, ...\n",
       "2523    [{'id': 3, 'name': 'Courageous', 'count': 46},...\n",
       "2524    [{'id': 24, 'name': 'Persuasive', 'count': 19}...\n",
       "2525    [{'id': 10, 'name': 'Inspiring', 'count': 119}...\n",
       "2526    [{'id': 22, 'name': 'Fascinating', 'count': 11...\n",
       "2527    [{'id': 3, 'name': 'Courageous', 'count': 63},...\n",
       "2528    [{'id': 9, 'name': 'Ingenious', 'count': 16}, ...\n",
       "2529    [{'id': 9, 'name': 'Ingenious', 'count': 24}, ...\n",
       "2530    [{'id': 2, 'name': 'Confusing', 'count': 2}, {...\n",
       "2531    [{'id': 8, 'name': 'Informative', 'count': 64}...\n",
       "2532    [{'id': 25, 'name': 'OK', 'count': 26}, {'id':...\n",
       "2533    [{'id': 1, 'name': 'Beautiful', 'count': 29}, ...\n",
       "2534    [{'id': 10, 'name': 'Inspiring', 'count': 46},...\n",
       "2535    [{'id': 3, 'name': 'Courageous', 'count': 77},...\n",
       "2536    [{'id': 3, 'name': 'Courageous', 'count': 45},...\n",
       "2537    [{'id': 1, 'name': 'Beautiful', 'count': 484},...\n",
       "2538    [{'id': 10, 'name': 'Inspiring', 'count': 50},...\n",
       "2539    [{'id': 10, 'name': 'Inspiring', 'count': 73},...\n",
       "2540    [{'id': 1, 'name': 'Beautiful', 'count': 15}, ...\n",
       "2541    [{'id': 11, 'name': 'Longwinded', 'count': 29}...\n",
       "2542    [{'id': 1, 'name': 'Beautiful', 'count': 41}, ...\n",
       "2543    [{'id': 1, 'name': 'Beautiful', 'count': 13}, ...\n",
       "2544    [{'id': 1, 'name': 'Beautiful', 'count': 9}, {...\n",
       "2545    [{'id': 3, 'name': 'Courageous', 'count': 24},...\n",
       "2546    [{'id': 22, 'name': 'Fascinating', 'count': 32...\n",
       "2547    [{'id': 1, 'name': 'Beautiful', 'count': 14}, ...\n",
       "2548    [{'id': 11, 'name': 'Longwinded', 'count': 3},...\n",
       "2549    [{'id': 21, 'name': 'Unconvincing', 'count': 2...\n",
       "Name: ratings, Length: 2550, dtype: object"
      ]
     },
     "execution_count": 48,
     "metadata": {},
     "output_type": "execute_result"
    }
   ],
   "source": [
    "#lambda function\n",
    "ted.ratings.apply(lambda x:ast.literal_eval(x))\n"
   ]
  },
  {
   "cell_type": "code",
   "execution_count": 49,
   "metadata": {},
   "outputs": [],
   "source": [
    "#save it as a new column\n",
    "ted['ratings_list']=ted.ratings.apply(lambda x:ast.literal_eval(x))"
   ]
  },
  {
   "cell_type": "code",
   "execution_count": 50,
   "metadata": {},
   "outputs": [
    {
     "data": {
      "text/plain": [
       "[{'id': 7, 'name': 'Funny', 'count': 19645},\n",
       " {'id': 1, 'name': 'Beautiful', 'count': 4573},\n",
       " {'id': 9, 'name': 'Ingenious', 'count': 6073},\n",
       " {'id': 3, 'name': 'Courageous', 'count': 3253},\n",
       " {'id': 11, 'name': 'Longwinded', 'count': 387},\n",
       " {'id': 2, 'name': 'Confusing', 'count': 242},\n",
       " {'id': 8, 'name': 'Informative', 'count': 7346},\n",
       " {'id': 22, 'name': 'Fascinating', 'count': 10581},\n",
       " {'id': 21, 'name': 'Unconvincing', 'count': 300},\n",
       " {'id': 24, 'name': 'Persuasive', 'count': 10704},\n",
       " {'id': 23, 'name': 'Jaw-dropping', 'count': 4439},\n",
       " {'id': 25, 'name': 'OK', 'count': 1174},\n",
       " {'id': 26, 'name': 'Obnoxious', 'count': 209},\n",
       " {'id': 10, 'name': 'Inspiring', 'count': 24924}]"
      ]
     },
     "execution_count": 50,
     "metadata": {},
     "output_type": "execute_result"
    }
   ],
   "source": [
    "ted.ratings_list[0]"
   ]
  },
  {
   "cell_type": "code",
   "execution_count": 51,
   "metadata": {},
   "outputs": [
    {
     "data": {
      "text/plain": [
       "(list, str)"
      ]
     },
     "execution_count": 51,
     "metadata": {},
     "output_type": "execute_result"
    }
   ],
   "source": [
    "type(ted.ratings_list[0]), type(ted.ratings[0])"
   ]
  },
  {
   "cell_type": "markdown",
   "metadata": {},
   "source": [
    "As we can see, the type of <strong>ratings_list$[0]$</strong> is <strong>List</strong> while the type of <strong>ratings$[0]$</strong> is <strong>str</strong>"
   ]
  },
  {
   "cell_type": "markdown",
   "metadata": {},
   "source": [
    "The goal here was to take our ratings which was a series of strings and turn it to a series of lists"
   ]
  },
  {
   "cell_type": "markdown",
   "metadata": {},
   "source": [
    "## Lessons learned in Unpacking the Ratings data\n",
    "- Pay attention to data types in pandas\n",
    "- Use apply when it is necessary "
   ]
  },
  {
   "cell_type": "markdown",
   "metadata": {},
   "source": [
    "# Total Number of Ratings Received By Each Talk\n",
    "<p>The goal of this task is to get the total number of ratings for each talk. for instance, from the <strong>ted.ratings_list$[0]$</strong> we saw that the first talk had varying ratings from 'funny', 'beautiful', 'ingenious' etc... all of these ratings were counted in their own rights and the numbers stored as 'count'. The task here is to sum all of these ratings and have the total number of ratings for each talk.</p>\n",
    "\n",
    "<p>There are a few ways to do this. I will be exploring two of them</p>\n",
    "\n",
    "- writing a function that will sum all the counts and return a number\n",
    "- convert each dictionary of ratings into a DataFrame and then get the total number of counts from there\n",
    "\n",
    "I will be building the function bit by bit to ensure it does exactly what I want it to do\n",
    "\n",
    "\n"
   ]
  },
  {
   "cell_type": "code",
   "execution_count": 52,
   "metadata": {},
   "outputs": [],
   "source": [
    "#define a function that will return the first dictionary from the ted.ratings_list[0] list\n",
    "def dev_dict_list(list):\n",
    "    \"\"\"Returns the first dictionary of the list inputed\"\"\"\n",
    "    return list[0]"
   ]
  },
  {
   "cell_type": "code",
   "execution_count": 53,
   "metadata": {},
   "outputs": [
    {
     "data": {
      "text/plain": [
       "{'id': 7, 'name': 'Funny', 'count': 19645}"
      ]
     },
     "execution_count": 53,
     "metadata": {},
     "output_type": "execute_result"
    }
   ],
   "source": [
    "dev_dict_list(ted.ratings_list[0])"
   ]
  },
  {
   "cell_type": "markdown",
   "metadata": {},
   "source": [
    "Beautiful!!         Now that my function returns the dictionary I require, i will improve on it by making it return only the count. "
   ]
  },
  {
   "cell_type": "code",
   "execution_count": 54,
   "metadata": {},
   "outputs": [],
   "source": [
    "# def function to return the count of ratings from the first dictionary of ted.ratings_list[0]\n",
    "def derive_dict_list(list):\n",
    "    \"\"\"Returns the count of the first dictionary that is returned\"\"\"\n",
    "    return list[0]['count']"
   ]
  },
  {
   "cell_type": "code",
   "execution_count": 55,
   "metadata": {},
   "outputs": [
    {
     "data": {
      "text/plain": [
       "19645"
      ]
     },
     "execution_count": 55,
     "metadata": {},
     "output_type": "execute_result"
    }
   ],
   "source": [
    "derive_dict_list(ted.ratings_list[0])"
   ]
  },
  {
   "cell_type": "markdown",
   "metadata": {},
   "source": [
    "Brilliant! the function does just what i want it to do just that i need to expand it so that it iterates through the other dictionaries in the list and sum all the counts for me. I need to stretch it through the entire list of dictionaries"
   ]
  },
  {
   "cell_type": "code",
   "execution_count": 56,
   "metadata": {},
   "outputs": [],
   "source": [
    "# def a function to sum allcounts of the various dictionaries in the list of dictionaries\n",
    "def get_dict_list(list):\n",
    "    \"\"\"gets the counts from the dictionaries and sums them all up\"\"\"\n",
    "    num = 0\n",
    "    for i in list:\n",
    "        num = num + i['count']\n",
    "    return num"
   ]
  },
  {
   "cell_type": "code",
   "execution_count": 57,
   "metadata": {},
   "outputs": [
    {
     "data": {
      "text/plain": [
       "93850"
      ]
     },
     "execution_count": 57,
     "metadata": {},
     "output_type": "execute_result"
    }
   ],
   "source": [
    "get_dict_list(ted.ratings_list[0])"
   ]
  },
  {
   "cell_type": "markdown",
   "metadata": {},
   "source": [
    "Excellent! now that we have a function that sums up all the counts in a dictionary, we need to apply it to the entire series in the ted.ratings_list. we will use the apply() method"
   ]
  },
  {
   "cell_type": "code",
   "execution_count": 58,
   "metadata": {},
   "outputs": [
    {
     "data": {
      "text/plain": [
       "0    93850\n",
       "1     2936\n",
       "2     2824\n",
       "3     3728\n",
       "4    25620\n",
       "Name: ratings_list, dtype: int64"
      ]
     },
     "execution_count": 58,
     "metadata": {},
     "output_type": "execute_result"
    }
   ],
   "source": [
    "ted.ratings_list.apply(get_dict_list).head()"
   ]
  },
  {
   "cell_type": "code",
   "execution_count": 59,
   "metadata": {},
   "outputs": [],
   "source": [
    "ted['num_ratings']=ted.ratings_list.apply(get_dict_list)"
   ]
  },
  {
   "cell_type": "code",
   "execution_count": 60,
   "metadata": {},
   "outputs": [
    {
     "data": {
      "text/plain": [
       "count     2550.000000\n",
       "mean      2436.408235\n",
       "std       4226.795631\n",
       "min         68.000000\n",
       "25%        870.750000\n",
       "50%       1452.500000\n",
       "75%       2506.750000\n",
       "max      93850.000000\n",
       "Name: num_ratings, dtype: float64"
      ]
     },
     "execution_count": 60,
     "metadata": {},
     "output_type": "execute_result"
    }
   ],
   "source": [
    "ted['num_ratings'].describe()"
   ]
  },
  {
   "cell_type": "markdown",
   "metadata": {},
   "source": [
    "Good! Now I will explore the other option\n",
    "- create a dataframe from the list and sum the count column of it"
   ]
  },
  {
   "cell_type": "code",
   "execution_count": 61,
   "metadata": {},
   "outputs": [
    {
     "data": {
      "text/html": [
       "<div>\n",
       "<style scoped>\n",
       "    .dataframe tbody tr th:only-of-type {\n",
       "        vertical-align: middle;\n",
       "    }\n",
       "\n",
       "    .dataframe tbody tr th {\n",
       "        vertical-align: top;\n",
       "    }\n",
       "\n",
       "    .dataframe thead th {\n",
       "        text-align: right;\n",
       "    }\n",
       "</style>\n",
       "<table border=\"1\" class=\"dataframe\">\n",
       "  <thead>\n",
       "    <tr style=\"text-align: right;\">\n",
       "      <th></th>\n",
       "      <th>count</th>\n",
       "      <th>id</th>\n",
       "      <th>name</th>\n",
       "    </tr>\n",
       "  </thead>\n",
       "  <tbody>\n",
       "    <tr>\n",
       "      <th>0</th>\n",
       "      <td>19645</td>\n",
       "      <td>7</td>\n",
       "      <td>Funny</td>\n",
       "    </tr>\n",
       "    <tr>\n",
       "      <th>1</th>\n",
       "      <td>4573</td>\n",
       "      <td>1</td>\n",
       "      <td>Beautiful</td>\n",
       "    </tr>\n",
       "    <tr>\n",
       "      <th>2</th>\n",
       "      <td>6073</td>\n",
       "      <td>9</td>\n",
       "      <td>Ingenious</td>\n",
       "    </tr>\n",
       "    <tr>\n",
       "      <th>3</th>\n",
       "      <td>3253</td>\n",
       "      <td>3</td>\n",
       "      <td>Courageous</td>\n",
       "    </tr>\n",
       "    <tr>\n",
       "      <th>4</th>\n",
       "      <td>387</td>\n",
       "      <td>11</td>\n",
       "      <td>Longwinded</td>\n",
       "    </tr>\n",
       "    <tr>\n",
       "      <th>5</th>\n",
       "      <td>242</td>\n",
       "      <td>2</td>\n",
       "      <td>Confusing</td>\n",
       "    </tr>\n",
       "    <tr>\n",
       "      <th>6</th>\n",
       "      <td>7346</td>\n",
       "      <td>8</td>\n",
       "      <td>Informative</td>\n",
       "    </tr>\n",
       "    <tr>\n",
       "      <th>7</th>\n",
       "      <td>10581</td>\n",
       "      <td>22</td>\n",
       "      <td>Fascinating</td>\n",
       "    </tr>\n",
       "    <tr>\n",
       "      <th>8</th>\n",
       "      <td>300</td>\n",
       "      <td>21</td>\n",
       "      <td>Unconvincing</td>\n",
       "    </tr>\n",
       "    <tr>\n",
       "      <th>9</th>\n",
       "      <td>10704</td>\n",
       "      <td>24</td>\n",
       "      <td>Persuasive</td>\n",
       "    </tr>\n",
       "    <tr>\n",
       "      <th>10</th>\n",
       "      <td>4439</td>\n",
       "      <td>23</td>\n",
       "      <td>Jaw-dropping</td>\n",
       "    </tr>\n",
       "    <tr>\n",
       "      <th>11</th>\n",
       "      <td>1174</td>\n",
       "      <td>25</td>\n",
       "      <td>OK</td>\n",
       "    </tr>\n",
       "    <tr>\n",
       "      <th>12</th>\n",
       "      <td>209</td>\n",
       "      <td>26</td>\n",
       "      <td>Obnoxious</td>\n",
       "    </tr>\n",
       "    <tr>\n",
       "      <th>13</th>\n",
       "      <td>24924</td>\n",
       "      <td>10</td>\n",
       "      <td>Inspiring</td>\n",
       "    </tr>\n",
       "  </tbody>\n",
       "</table>\n",
       "</div>"
      ],
      "text/plain": [
       "    count  id          name\n",
       "0   19645   7         Funny\n",
       "1    4573   1     Beautiful\n",
       "2    6073   9     Ingenious\n",
       "3    3253   3    Courageous\n",
       "4     387  11    Longwinded\n",
       "5     242   2     Confusing\n",
       "6    7346   8   Informative\n",
       "7   10581  22   Fascinating\n",
       "8     300  21  Unconvincing\n",
       "9   10704  24    Persuasive\n",
       "10   4439  23  Jaw-dropping\n",
       "11   1174  25            OK\n",
       "12    209  26     Obnoxious\n",
       "13  24924  10     Inspiring"
      ]
     },
     "execution_count": 61,
     "metadata": {},
     "output_type": "execute_result"
    }
   ],
   "source": [
    "pd.DataFrame(ted.ratings_list[0])"
   ]
  },
  {
   "cell_type": "code",
   "execution_count": 62,
   "metadata": {},
   "outputs": [],
   "source": [
    "num_ratings=pd.DataFrame(ted.ratings_list[0])"
   ]
  },
  {
   "cell_type": "code",
   "execution_count": 63,
   "metadata": {},
   "outputs": [
    {
     "data": {
      "text/plain": [
       "93850"
      ]
     },
     "execution_count": 63,
     "metadata": {},
     "output_type": "execute_result"
    }
   ],
   "source": [
    "num_ratings['count'].sum()"
   ]
  },
  {
   "cell_type": "code",
   "execution_count": 64,
   "metadata": {},
   "outputs": [
    {
     "data": {
      "text/plain": [
       "0    93850\n",
       "1     2936\n",
       "2     2824\n",
       "3     3728\n",
       "4    25620\n",
       "Name: ratings_list, dtype: int64"
      ]
     },
     "execution_count": 64,
     "metadata": {},
     "output_type": "execute_result"
    }
   ],
   "source": [
    "ted.ratings_list.apply(lambda x: pd.DataFrame(x)['count'].sum()).head()\n",
    "        "
   ]
  },
  {
   "cell_type": "markdown",
   "metadata": {},
   "source": [
    "Voila! it worked! it took a while but finally lambda came to the rescue. lambda takes the x in a series and does what you need the function you call to do to every single member of that series and returns the output."
   ]
  },
  {
   "cell_type": "markdown",
   "metadata": {},
   "source": [
    "# Which Occupations Delivered the Funniest TED Talks on Average\n",
    "- first need to find the count of funny ratings for every talk. I will write a function to get that number"
   ]
  },
  {
   "cell_type": "code",
   "execution_count": 65,
   "metadata": {},
   "outputs": [],
   "source": [
    "#def a function to get number of funny ratings for every talk\n",
    "def fun_num(list):\n",
    "    \"\"\"returns the number of funny ratings a talk got\"\"\"\n",
    "    for i in list:\n",
    "        if i['name']=='Funny':\n",
    "            return i['count']\n",
    "        \n",
    "        "
   ]
  },
  {
   "cell_type": "markdown",
   "metadata": {},
   "source": [
    "- one thing to check is to make sure every talk had a 'funny' rating. We can use 'str' 'contains' to check that"
   ]
  },
  {
   "cell_type": "code",
   "execution_count": 66,
   "metadata": {},
   "outputs": [
    {
     "data": {
      "text/plain": [
       "0    True\n",
       "1    True\n",
       "2    True\n",
       "3    True\n",
       "4    True\n",
       "Name: ratings, dtype: bool"
      ]
     },
     "execution_count": 66,
     "metadata": {},
     "output_type": "execute_result"
    }
   ],
   "source": [
    "ted.ratings.str.contains('Funny').head()"
   ]
  },
  {
   "cell_type": "markdown",
   "metadata": {},
   "source": [
    "- use the value_counts to get the counts of both if they are all not True"
   ]
  },
  {
   "cell_type": "code",
   "execution_count": 67,
   "metadata": {},
   "outputs": [
    {
     "data": {
      "text/plain": [
       "True    2550\n",
       "Name: ratings, dtype: int64"
      ]
     },
     "execution_count": 67,
     "metadata": {},
     "output_type": "execute_result"
    }
   ],
   "source": [
    "ted.ratings.str.contains('Funny').value_counts()"
   ]
  },
  {
   "cell_type": "markdown",
   "metadata": {},
   "source": [
    "2550 True. It means all the talks had a Funny rating"
   ]
  },
  {
   "cell_type": "markdown",
   "metadata": {},
   "source": [
    "Apply the function we wrote to get the count of funny comments"
   ]
  },
  {
   "cell_type": "code",
   "execution_count": 68,
   "metadata": {},
   "outputs": [
    {
     "data": {
      "text/plain": [
       "0    19645\n",
       "1      544\n",
       "2      964\n",
       "3       59\n",
       "4     1390\n",
       "Name: ratings_list, dtype: int64"
      ]
     },
     "execution_count": 68,
     "metadata": {},
     "output_type": "execute_result"
    }
   ],
   "source": [
    "ted.ratings_list.apply(fun_num).head()"
   ]
  },
  {
   "cell_type": "code",
   "execution_count": 69,
   "metadata": {},
   "outputs": [],
   "source": [
    "ted['funny_ratings']=ted.ratings_list.apply(fun_num)"
   ]
  },
  {
   "cell_type": "code",
   "execution_count": 70,
   "metadata": {},
   "outputs": [
    {
     "data": {
      "text/plain": [
       "0    19645\n",
       "1      544\n",
       "2      964\n",
       "3       59\n",
       "4     1390\n",
       "Name: funny_ratings, dtype: int64"
      ]
     },
     "execution_count": 70,
     "metadata": {},
     "output_type": "execute_result"
    }
   ],
   "source": [
    "ted.funny_ratings.head()"
   ]
  },
  {
   "cell_type": "markdown",
   "metadata": {},
   "source": [
    "Now we are going to calculate the percentage of comments that were funny"
   ]
  },
  {
   "cell_type": "code",
   "execution_count": 71,
   "metadata": {},
   "outputs": [],
   "source": [
    "ted['funny_rate']=ted.funny_ratings/ted.num_ratings"
   ]
  },
  {
   "cell_type": "markdown",
   "metadata": {},
   "source": [
    "As a check, we have to sort the 'funny_rate' column and see which talks had the highest funny rate and look at their professions and use our human intuition to judge if it is accurate"
   ]
  },
  {
   "cell_type": "code",
   "execution_count": 72,
   "metadata": {},
   "outputs": [
    {
     "data": {
      "text/plain": [
       "2114            Comedian and writer\n",
       "173                        Investor\n",
       "747                        Comedian\n",
       "1398                       Comedian\n",
       "685     Actor, comedian, playwright\n",
       "Name: speaker_occupation, dtype: object"
      ]
     },
     "execution_count": 72,
     "metadata": {},
     "output_type": "execute_result"
    }
   ],
   "source": [
    "ted.sort_values('funny_rate').speaker_occupation.tail()"
   ]
  },
  {
   "cell_type": "markdown",
   "metadata": {},
   "source": [
    "These are the top 5 funniest occupations according to our sorting. It looks a tad accurate even with our human intuition"
   ]
  },
  {
   "cell_type": "code",
   "execution_count": 73,
   "metadata": {},
   "outputs": [
    {
     "data": {
      "text/plain": [
       "2549     Game designer\n",
       "1612         Biologist\n",
       "612           Sculptor\n",
       "998     Penguin expert\n",
       "593           Engineer\n",
       "Name: speaker_occupation, dtype: object"
      ]
     },
     "execution_count": 73,
     "metadata": {},
     "output_type": "execute_result"
    }
   ],
   "source": [
    "ted.sort_values('funny_rate').speaker_occupation.head()"
   ]
  },
  {
   "cell_type": "markdown",
   "metadata": {},
   "source": [
    "similarly, these are the top 5 least hilarious occupations"
   ]
  },
  {
   "cell_type": "markdown",
   "metadata": {},
   "source": [
    "## Analyze the funny rate by occupation"
   ]
  },
  {
   "cell_type": "markdown",
   "metadata": {},
   "source": [
    "Here, i will be calculating the mean funny rate by ocupation"
   ]
  },
  {
   "cell_type": "code",
   "execution_count": 74,
   "metadata": {},
   "outputs": [
    {
     "data": {
      "text/plain": [
       "speaker_occupation\n",
       "Comedian                       0.512457\n",
       "Actor, writer                  0.515152\n",
       "Actor, comedian, playwright    0.558107\n",
       "Jugglers                       0.566828\n",
       "Comedian and writer            0.602085\n",
       "Name: funny_rate, dtype: float64"
      ]
     },
     "execution_count": 74,
     "metadata": {},
     "output_type": "execute_result"
    }
   ],
   "source": [
    "ted.groupby('speaker_occupation').funny_rate.mean().sort_values().tail()"
   ]
  },
  {
   "cell_type": "markdown",
   "metadata": {},
   "source": [
    "## Focus on occupations that are well-represented in the data\n"
   ]
  },
  {
   "cell_type": "code",
   "execution_count": 75,
   "metadata": {},
   "outputs": [
    {
     "data": {
      "text/plain": [
       "Writer                                         45\n",
       "Artist                                         34\n",
       "Designer                                       34\n",
       "Journalist                                     33\n",
       "Entrepreneur                                   31\n",
       "Architect                                      30\n",
       "Inventor                                       27\n",
       "Psychologist                                   26\n",
       "Photographer                                   25\n",
       "Filmmaker                                      21\n",
       "Author                                         20\n",
       "Neuroscientist                                 20\n",
       "Economist                                      20\n",
       "Educator                                       20\n",
       "Philosopher                                    16\n",
       "Roboticist                                     16\n",
       "Biologist                                      15\n",
       "Physicist                                      14\n",
       "Musician                                       11\n",
       "Marine biologist                               11\n",
       "Global health expert; data visionary           10\n",
       "Activist                                       10\n",
       "Technologist                                   10\n",
       "Poet                                            9\n",
       "Philanthropist                                  9\n",
       "Historian                                       9\n",
       "Singer/songwriter                               9\n",
       "Astronomer                                      9\n",
       "Oceanographer                                   9\n",
       "Behavioral economist                            9\n",
       "                                               ..\n",
       "Business executive, entrepreneur                1\n",
       "Fixer                                           1\n",
       "Cultural Historian                              1\n",
       "Pediatric cardiologist                          1\n",
       "Design critic                                   1\n",
       "World-builder                                   1\n",
       "Biodiversity archivist                          1\n",
       "Urban planner, designer, author                 1\n",
       "Media exec                                      1\n",
       "CEO, Gates Foundation                           1\n",
       "Educator, author                                1\n",
       "Surf photographer                               1\n",
       "Poet, author                                    1\n",
       "Filmmaker and Remixer                           1\n",
       "Pianist, composer                               1\n",
       "Artist and photographer                         1\n",
       "Writer, coach, artist ...                       1\n",
       "Documentary photographer                        1\n",
       "Composer, inventor                              1\n",
       "Science fair winner                             1\n",
       "Singer                                          1\n",
       "Visionary                                       1\n",
       "Medical technologist                            1\n",
       "Peace expert                                    1\n",
       "Origamist                                       1\n",
       "Marketing leader                                1\n",
       "Designer, co-founder of Airbnb                  1\n",
       "Engineer, nuclear technologist                  1\n",
       "Emergency physician, public health advocate     1\n",
       "Musician and inventor                           1\n",
       "Name: speaker_occupation, Length: 1458, dtype: int64"
      ]
     },
     "execution_count": 75,
     "metadata": {},
     "output_type": "execute_result"
    }
   ],
   "source": [
    "ted.speaker_occupation.value_counts()"
   ]
  },
  {
   "cell_type": "markdown",
   "metadata": {},
   "source": [
    "I want to know return only the occupations which are fairly frequent."
   ]
  },
  {
   "cell_type": "code",
   "execution_count": 76,
   "metadata": {},
   "outputs": [],
   "source": [
    "occupation_count=ted.speaker_occupation.value_counts()"
   ]
  },
  {
   "cell_type": "code",
   "execution_count": 77,
   "metadata": {},
   "outputs": [
    {
     "data": {
      "text/plain": [
       "Writer                                        45\n",
       "Artist                                        34\n",
       "Designer                                      34\n",
       "Journalist                                    33\n",
       "Entrepreneur                                  31\n",
       "Architect                                     30\n",
       "Inventor                                      27\n",
       "Psychologist                                  26\n",
       "Photographer                                  25\n",
       "Filmmaker                                     21\n",
       "Author                                        20\n",
       "Neuroscientist                                20\n",
       "Economist                                     20\n",
       "Educator                                      20\n",
       "Philosopher                                   16\n",
       "Roboticist                                    16\n",
       "Biologist                                     15\n",
       "Physicist                                     14\n",
       "Musician                                      11\n",
       "Marine biologist                              11\n",
       "Global health expert; data visionary          10\n",
       "Activist                                      10\n",
       "Technologist                                  10\n",
       "Poet                                           9\n",
       "Philanthropist                                 9\n",
       "Historian                                      9\n",
       "Singer/songwriter                              9\n",
       "Astronomer                                     9\n",
       "Oceanographer                                  9\n",
       "Behavioral economist                           9\n",
       "                                              ..\n",
       "Techno-illusionist                             6\n",
       "Climate advocate                               6\n",
       "Reporter                                       6\n",
       "Comedian                                       6\n",
       "Social entrepreneur                            6\n",
       "Legal activist                                 6\n",
       "Evolutionary biologist                         6\n",
       "Performance poet, multimedia artist            6\n",
       "Singer-songwriter                              6\n",
       "Writer, activist                               6\n",
       "Photojournalist                                6\n",
       "Science writer                                 5\n",
       "Data scientist                                 5\n",
       "Environmentalist, futurist                     5\n",
       "Physician                                      5\n",
       "Cartoonist                                     5\n",
       "Social Media Theorist                          5\n",
       "Tech visionary                                 5\n",
       "Chemist                                        5\n",
       "Producer                                       5\n",
       "Chef                                           5\n",
       "Musician, activist                             5\n",
       "Sculptor                                       5\n",
       "Game designer                                  5\n",
       "Surgeon                                        5\n",
       "Paleontologist                                 5\n",
       "Researcher                                     5\n",
       "Violinist                                      5\n",
       "Investor and advocate for moral leadership     5\n",
       "Sound consultant                               5\n",
       "Name: speaker_occupation, Length: 68, dtype: int64"
      ]
     },
     "execution_count": 77,
     "metadata": {},
     "output_type": "execute_result"
    }
   ],
   "source": [
    "occupation_count[occupation_count>=5]"
   ]
  },
  {
   "cell_type": "code",
   "execution_count": 78,
   "metadata": {},
   "outputs": [],
   "source": [
    "top_occupations=occupation_count[occupation_count>=5].index"
   ]
  },
  {
   "cell_type": "code",
   "execution_count": 79,
   "metadata": {},
   "outputs": [
    {
     "data": {
      "text/plain": [
       "pandas.core.indexes.base.Index"
      ]
     },
     "execution_count": 79,
     "metadata": {},
     "output_type": "execute_result"
    }
   ],
   "source": [
    "type(top_occupations)"
   ]
  },
  {
   "cell_type": "markdown",
   "metadata": {},
   "source": [
    "I am now going to keep the occupations that are in top_occupations..ie appear more than 5 times"
   ]
  },
  {
   "cell_type": "code",
   "execution_count": 80,
   "metadata": {},
   "outputs": [
    {
     "data": {
      "text/html": [
       "<div>\n",
       "<style scoped>\n",
       "    .dataframe tbody tr th:only-of-type {\n",
       "        vertical-align: middle;\n",
       "    }\n",
       "\n",
       "    .dataframe tbody tr th {\n",
       "        vertical-align: top;\n",
       "    }\n",
       "\n",
       "    .dataframe thead th {\n",
       "        text-align: right;\n",
       "    }\n",
       "</style>\n",
       "<table border=\"1\" class=\"dataframe\">\n",
       "  <thead>\n",
       "    <tr style=\"text-align: right;\">\n",
       "      <th></th>\n",
       "      <th>comments</th>\n",
       "      <th>description</th>\n",
       "      <th>duration</th>\n",
       "      <th>event</th>\n",
       "      <th>film_date</th>\n",
       "      <th>languages</th>\n",
       "      <th>main_speaker</th>\n",
       "      <th>name</th>\n",
       "      <th>num_speaker</th>\n",
       "      <th>published_date</th>\n",
       "      <th>...</th>\n",
       "      <th>title</th>\n",
       "      <th>url</th>\n",
       "      <th>views</th>\n",
       "      <th>comments_per_view</th>\n",
       "      <th>views_per_comment</th>\n",
       "      <th>new_dates</th>\n",
       "      <th>ratings_list</th>\n",
       "      <th>num_ratings</th>\n",
       "      <th>funny_ratings</th>\n",
       "      <th>funny_rate</th>\n",
       "    </tr>\n",
       "  </thead>\n",
       "  <tbody>\n",
       "    <tr>\n",
       "      <th>1</th>\n",
       "      <td>265</td>\n",
       "      <td>With the same humor and humanity he exuded in ...</td>\n",
       "      <td>977</td>\n",
       "      <td>TED2006</td>\n",
       "      <td>1140825600</td>\n",
       "      <td>43</td>\n",
       "      <td>Al Gore</td>\n",
       "      <td>Al Gore: Averting the climate crisis</td>\n",
       "      <td>1</td>\n",
       "      <td>1151367060</td>\n",
       "      <td>...</td>\n",
       "      <td>Averting the climate crisis</td>\n",
       "      <td>https://www.ted.com/talks/al_gore_on_averting_...</td>\n",
       "      <td>3200520</td>\n",
       "      <td>0.000083</td>\n",
       "      <td>12077.433962</td>\n",
       "      <td>2006-02-25</td>\n",
       "      <td>[{'id': 7, 'name': 'Funny', 'count': 544}, {'i...</td>\n",
       "      <td>2936</td>\n",
       "      <td>544</td>\n",
       "      <td>0.185286</td>\n",
       "    </tr>\n",
       "    <tr>\n",
       "      <th>4</th>\n",
       "      <td>593</td>\n",
       "      <td>You've never seen data presented like this. Wi...</td>\n",
       "      <td>1190</td>\n",
       "      <td>TED2006</td>\n",
       "      <td>1140566400</td>\n",
       "      <td>48</td>\n",
       "      <td>Hans Rosling</td>\n",
       "      <td>Hans Rosling: The best stats you've ever seen</td>\n",
       "      <td>1</td>\n",
       "      <td>1151440680</td>\n",
       "      <td>...</td>\n",
       "      <td>The best stats you've ever seen</td>\n",
       "      <td>https://www.ted.com/talks/hans_rosling_shows_t...</td>\n",
       "      <td>12005869</td>\n",
       "      <td>0.000049</td>\n",
       "      <td>20245.984823</td>\n",
       "      <td>2006-02-22</td>\n",
       "      <td>[{'id': 9, 'name': 'Ingenious', 'count': 3202}...</td>\n",
       "      <td>25620</td>\n",
       "      <td>1390</td>\n",
       "      <td>0.054254</td>\n",
       "    </tr>\n",
       "    <tr>\n",
       "      <th>7</th>\n",
       "      <td>46</td>\n",
       "      <td>Architect Joshua Prince-Ramus takes the audien...</td>\n",
       "      <td>1198</td>\n",
       "      <td>TED2006</td>\n",
       "      <td>1140652800</td>\n",
       "      <td>19</td>\n",
       "      <td>Joshua Prince-Ramus</td>\n",
       "      <td>Joshua Prince-Ramus: Behind the design of Seat...</td>\n",
       "      <td>1</td>\n",
       "      <td>1152490260</td>\n",
       "      <td>...</td>\n",
       "      <td>Behind the design of Seattle's library</td>\n",
       "      <td>https://www.ted.com/talks/joshua_prince_ramus_...</td>\n",
       "      <td>967741</td>\n",
       "      <td>0.000048</td>\n",
       "      <td>21037.847826</td>\n",
       "      <td>2006-02-23</td>\n",
       "      <td>[{'id': 9, 'name': 'Ingenious', 'count': 195},...</td>\n",
       "      <td>1024</td>\n",
       "      <td>9</td>\n",
       "      <td>0.008789</td>\n",
       "    </tr>\n",
       "    <tr>\n",
       "      <th>11</th>\n",
       "      <td>55</td>\n",
       "      <td>Jehane Noujaim unveils her 2006 TED Prize wish...</td>\n",
       "      <td>1538</td>\n",
       "      <td>TED2006</td>\n",
       "      <td>1140912000</td>\n",
       "      <td>20</td>\n",
       "      <td>Jehane Noujaim</td>\n",
       "      <td>Jehane Noujaim: My wish: A global day of film</td>\n",
       "      <td>1</td>\n",
       "      <td>1153786260</td>\n",
       "      <td>...</td>\n",
       "      <td>My wish: A global day of film</td>\n",
       "      <td>https://www.ted.com/talks/jehane_noujaim_inspi...</td>\n",
       "      <td>387877</td>\n",
       "      <td>0.000142</td>\n",
       "      <td>7052.309091</td>\n",
       "      <td>2006-02-26</td>\n",
       "      <td>[{'id': 1, 'name': 'Beautiful', 'count': 70}, ...</td>\n",
       "      <td>592</td>\n",
       "      <td>5</td>\n",
       "      <td>0.008446</td>\n",
       "    </tr>\n",
       "    <tr>\n",
       "      <th>14</th>\n",
       "      <td>99</td>\n",
       "      <td>Nicholas Negroponte, founder of the MIT Media ...</td>\n",
       "      <td>1057</td>\n",
       "      <td>TED2006</td>\n",
       "      <td>1140652800</td>\n",
       "      <td>25</td>\n",
       "      <td>Nicholas Negroponte</td>\n",
       "      <td>Nicholas Negroponte: One Laptop per Child</td>\n",
       "      <td>1</td>\n",
       "      <td>1154391060</td>\n",
       "      <td>...</td>\n",
       "      <td>One Laptop per Child</td>\n",
       "      <td>https://www.ted.com/talks/nicholas_negroponte_...</td>\n",
       "      <td>358304</td>\n",
       "      <td>0.000276</td>\n",
       "      <td>3619.232323</td>\n",
       "      <td>2006-02-23</td>\n",
       "      <td>[{'id': 3, 'name': 'Courageous', 'count': 83},...</td>\n",
       "      <td>781</td>\n",
       "      <td>14</td>\n",
       "      <td>0.017926</td>\n",
       "    </tr>\n",
       "    <tr>\n",
       "      <th>15</th>\n",
       "      <td>325</td>\n",
       "      <td>Violinist Sirena Huang gives a technically bri...</td>\n",
       "      <td>1481</td>\n",
       "      <td>TED2006</td>\n",
       "      <td>1140652800</td>\n",
       "      <td>31</td>\n",
       "      <td>Sirena Huang</td>\n",
       "      <td>Sirena Huang: An 11-year-old's magical violin</td>\n",
       "      <td>1</td>\n",
       "      <td>1154995860</td>\n",
       "      <td>...</td>\n",
       "      <td>An 11-year-old's magical violin</td>\n",
       "      <td>https://www.ted.com/talks/sirena_huang_dazzles...</td>\n",
       "      <td>2702470</td>\n",
       "      <td>0.000120</td>\n",
       "      <td>8315.292308</td>\n",
       "      <td>2006-02-23</td>\n",
       "      <td>[{'id': 1, 'name': 'Beautiful', 'count': 1671}...</td>\n",
       "      <td>6239</td>\n",
       "      <td>190</td>\n",
       "      <td>0.030454</td>\n",
       "    </tr>\n",
       "    <tr>\n",
       "      <th>26</th>\n",
       "      <td>507</td>\n",
       "      <td>Biologist Richard Dawkins makes a case for \"th...</td>\n",
       "      <td>1316</td>\n",
       "      <td>TEDGlobal 2005</td>\n",
       "      <td>1120694400</td>\n",
       "      <td>36</td>\n",
       "      <td>Richard Dawkins</td>\n",
       "      <td>Richard Dawkins: Why the universe seems so str...</td>\n",
       "      <td>1</td>\n",
       "      <td>1158019860</td>\n",
       "      <td>...</td>\n",
       "      <td>Why the universe seems so strange</td>\n",
       "      <td>https://www.ted.com/talks/richard_dawkins_on_o...</td>\n",
       "      <td>2885999</td>\n",
       "      <td>0.000176</td>\n",
       "      <td>5692.305720</td>\n",
       "      <td>2005-07-07</td>\n",
       "      <td>[{'id': 1, 'name': 'Beautiful', 'count': 333},...</td>\n",
       "      <td>4594</td>\n",
       "      <td>127</td>\n",
       "      <td>0.027645</td>\n",
       "    </tr>\n",
       "    <tr>\n",
       "      <th>27</th>\n",
       "      <td>95</td>\n",
       "      <td>\"Freakonomics\" author Steven Levitt presents n...</td>\n",
       "      <td>1275</td>\n",
       "      <td>TED2004</td>\n",
       "      <td>1077840000</td>\n",
       "      <td>25</td>\n",
       "      <td>Steven Levitt</td>\n",
       "      <td>Steven Levitt: The freakonomics of crack dealing</td>\n",
       "      <td>1</td>\n",
       "      <td>1158624660</td>\n",
       "      <td>...</td>\n",
       "      <td>The freakonomics of crack dealing</td>\n",
       "      <td>https://www.ted.com/talks/steven_levitt_analyz...</td>\n",
       "      <td>2863214</td>\n",
       "      <td>0.000033</td>\n",
       "      <td>30139.094737</td>\n",
       "      <td>2004-02-27</td>\n",
       "      <td>[{'id': 7, 'name': 'Funny', 'count': 485}, {'i...</td>\n",
       "      <td>2036</td>\n",
       "      <td>485</td>\n",
       "      <td>0.238212</td>\n",
       "    </tr>\n",
       "    <tr>\n",
       "      <th>28</th>\n",
       "      <td>355</td>\n",
       "      <td>\"Tipping Point\" author Malcolm Gladwell gets i...</td>\n",
       "      <td>1050</td>\n",
       "      <td>TED2004</td>\n",
       "      <td>1077753600</td>\n",
       "      <td>37</td>\n",
       "      <td>Malcolm Gladwell</td>\n",
       "      <td>Malcolm Gladwell: Choice, happiness and spaghe...</td>\n",
       "      <td>1</td>\n",
       "      <td>1158624660</td>\n",
       "      <td>...</td>\n",
       "      <td>Choice, happiness and spaghetti sauce</td>\n",
       "      <td>https://www.ted.com/talks/malcolm_gladwell_on_...</td>\n",
       "      <td>7023562</td>\n",
       "      <td>0.000051</td>\n",
       "      <td>19784.681690</td>\n",
       "      <td>2004-02-26</td>\n",
       "      <td>[{'id': 7, 'name': 'Funny', 'count': 1668}, {'...</td>\n",
       "      <td>10678</td>\n",
       "      <td>1668</td>\n",
       "      <td>0.156209</td>\n",
       "    </tr>\n",
       "    <tr>\n",
       "      <th>30</th>\n",
       "      <td>991</td>\n",
       "      <td>Psychologist Barry Schwartz takes aim at a cen...</td>\n",
       "      <td>1177</td>\n",
       "      <td>TEDGlobal 2005</td>\n",
       "      <td>1121385600</td>\n",
       "      <td>45</td>\n",
       "      <td>Barry Schwartz</td>\n",
       "      <td>Barry Schwartz: The paradox of choice</td>\n",
       "      <td>1</td>\n",
       "      <td>1159229460</td>\n",
       "      <td>...</td>\n",
       "      <td>The paradox of choice</td>\n",
       "      <td>https://www.ted.com/talks/barry_schwartz_on_th...</td>\n",
       "      <td>10000702</td>\n",
       "      <td>0.000099</td>\n",
       "      <td>10091.525732</td>\n",
       "      <td>2005-07-15</td>\n",
       "      <td>[{'id': 7, 'name': 'Funny', 'count': 1526}, {'...</td>\n",
       "      <td>14945</td>\n",
       "      <td>1526</td>\n",
       "      <td>0.102108</td>\n",
       "    </tr>\n",
       "    <tr>\n",
       "      <th>34</th>\n",
       "      <td>58</td>\n",
       "      <td>Jacqueline Novogratz applauds the world's heig...</td>\n",
       "      <td>773</td>\n",
       "      <td>TEDGlobal 2005</td>\n",
       "      <td>1120176000</td>\n",
       "      <td>26</td>\n",
       "      <td>Jacqueline Novogratz</td>\n",
       "      <td>Jacqueline Novogratz: Invest in Africa's own s...</td>\n",
       "      <td>1</td>\n",
       "      <td>1160439060</td>\n",
       "      <td>...</td>\n",
       "      <td>Invest in Africa's own solutions</td>\n",
       "      <td>https://www.ted.com/talks/jacqueline_novogratz...</td>\n",
       "      <td>705389</td>\n",
       "      <td>0.000082</td>\n",
       "      <td>12161.879310</td>\n",
       "      <td>2005-07-01</td>\n",
       "      <td>[{'id': 1, 'name': 'Beautiful', 'count': 60}, ...</td>\n",
       "      <td>755</td>\n",
       "      <td>5</td>\n",
       "      <td>0.006623</td>\n",
       "    </tr>\n",
       "    <tr>\n",
       "      <th>39</th>\n",
       "      <td>112</td>\n",
       "      <td>Musician and activist Bono accepts the 2005 TE...</td>\n",
       "      <td>1672</td>\n",
       "      <td>TED2005</td>\n",
       "      <td>1109203200</td>\n",
       "      <td>24</td>\n",
       "      <td>Bono</td>\n",
       "      <td>Bono: My wish: Three actions for Africa</td>\n",
       "      <td>1</td>\n",
       "      <td>1162253460</td>\n",
       "      <td>...</td>\n",
       "      <td>My wish: Three actions for Africa</td>\n",
       "      <td>https://www.ted.com/talks/bono_s_call_to_actio...</td>\n",
       "      <td>718649</td>\n",
       "      <td>0.000156</td>\n",
       "      <td>6416.508929</td>\n",
       "      <td>2005-02-24</td>\n",
       "      <td>[{'id': 11, 'name': 'Longwinded', 'count': 41}...</td>\n",
       "      <td>969</td>\n",
       "      <td>26</td>\n",
       "      <td>0.026832</td>\n",
       "    </tr>\n",
       "    <tr>\n",
       "      <th>40</th>\n",
       "      <td>58</td>\n",
       "      <td>Accepting his 2005 TED Prize, photographer Edw...</td>\n",
       "      <td>2065</td>\n",
       "      <td>TED2005</td>\n",
       "      <td>1108598400</td>\n",
       "      <td>22</td>\n",
       "      <td>Edward Burtynsky</td>\n",
       "      <td>Edward Burtynsky: My wish: Manufactured landsc...</td>\n",
       "      <td>1</td>\n",
       "      <td>1162253460</td>\n",
       "      <td>...</td>\n",
       "      <td>My wish: Manufactured landscapes and green edu...</td>\n",
       "      <td>https://www.ted.com/talks/edward_burtynsky_on_...</td>\n",
       "      <td>975107</td>\n",
       "      <td>0.000059</td>\n",
       "      <td>16812.189655</td>\n",
       "      <td>2005-02-17</td>\n",
       "      <td>[{'id': 1, 'name': 'Beautiful', 'count': 106},...</td>\n",
       "      <td>952</td>\n",
       "      <td>8</td>\n",
       "      <td>0.008403</td>\n",
       "    </tr>\n",
       "    <tr>\n",
       "      <th>46</th>\n",
       "      <td>52</td>\n",
       "      <td>Musician and activist Peter Gabriel shares his...</td>\n",
       "      <td>848</td>\n",
       "      <td>TED2006</td>\n",
       "      <td>1140652800</td>\n",
       "      <td>24</td>\n",
       "      <td>Peter Gabriel</td>\n",
       "      <td>Peter Gabriel: Fight injustice with raw video</td>\n",
       "      <td>1</td>\n",
       "      <td>1165363860</td>\n",
       "      <td>...</td>\n",
       "      <td>Fight injustice with raw video</td>\n",
       "      <td>https://www.ted.com/talks/peter_gabriel_fights...</td>\n",
       "      <td>904215</td>\n",
       "      <td>0.000058</td>\n",
       "      <td>17388.750000</td>\n",
       "      <td>2006-02-23</td>\n",
       "      <td>[{'id': 3, 'name': 'Courageous', 'count': 180}...</td>\n",
       "      <td>849</td>\n",
       "      <td>5</td>\n",
       "      <td>0.005889</td>\n",
       "    </tr>\n",
       "    <tr>\n",
       "      <th>48</th>\n",
       "      <td>95</td>\n",
       "      <td>How many poets could cram eBay, Friendster and...</td>\n",
       "      <td>247</td>\n",
       "      <td>TEDSalon 2006</td>\n",
       "      <td>1164844800</td>\n",
       "      <td>34</td>\n",
       "      <td>Rives</td>\n",
       "      <td>Rives: If I controlled the Internet</td>\n",
       "      <td>1</td>\n",
       "      <td>1166055060</td>\n",
       "      <td>...</td>\n",
       "      <td>If I controlled the Internet</td>\n",
       "      <td>https://www.ted.com/talks/rives_controls_the_i...</td>\n",
       "      <td>1813665</td>\n",
       "      <td>0.000052</td>\n",
       "      <td>19091.210526</td>\n",
       "      <td>2006-11-30</td>\n",
       "      <td>[{'id': 7, 'name': 'Funny', 'count': 949}, {'i...</td>\n",
       "      <td>2649</td>\n",
       "      <td>949</td>\n",
       "      <td>0.358248</td>\n",
       "    </tr>\n",
       "    <tr>\n",
       "      <th>50</th>\n",
       "      <td>85</td>\n",
       "      <td>Robert Neuwirth, author of \"Shadow Cities,\" fi...</td>\n",
       "      <td>843</td>\n",
       "      <td>TEDGlobal 2005</td>\n",
       "      <td>1121299200</td>\n",
       "      <td>22</td>\n",
       "      <td>Robert Neuwirth</td>\n",
       "      <td>Robert Neuwirth: The hidden world of shadow ci...</td>\n",
       "      <td>1</td>\n",
       "      <td>1167696660</td>\n",
       "      <td>...</td>\n",
       "      <td>The hidden world of shadow cities</td>\n",
       "      <td>https://www.ted.com/talks/robert_neuwirth_on_o...</td>\n",
       "      <td>673036</td>\n",
       "      <td>0.000126</td>\n",
       "      <td>7918.070588</td>\n",
       "      <td>2005-07-14</td>\n",
       "      <td>[{'id': 8, 'name': 'Informative', 'count': 265...</td>\n",
       "      <td>1004</td>\n",
       "      <td>3</td>\n",
       "      <td>0.002988</td>\n",
       "    </tr>\n",
       "    <tr>\n",
       "      <th>53</th>\n",
       "      <td>59</td>\n",
       "      <td>Photographer Phil Borges shows rarely seen ima...</td>\n",
       "      <td>1115</td>\n",
       "      <td>TED2006</td>\n",
       "      <td>1140652800</td>\n",
       "      <td>29</td>\n",
       "      <td>Phil Borges</td>\n",
       "      <td>Phil Borges: Photos of endangered cultures</td>\n",
       "      <td>1</td>\n",
       "      <td>1168301460</td>\n",
       "      <td>...</td>\n",
       "      <td>Photos of endangered cultures</td>\n",
       "      <td>https://www.ted.com/talks/phil_borges_on_endan...</td>\n",
       "      <td>882034</td>\n",
       "      <td>0.000067</td>\n",
       "      <td>14949.728814</td>\n",
       "      <td>2006-02-23</td>\n",
       "      <td>[{'id': 1, 'name': 'Beautiful', 'count': 126},...</td>\n",
       "      <td>719</td>\n",
       "      <td>5</td>\n",
       "      <td>0.006954</td>\n",
       "    </tr>\n",
       "    <tr>\n",
       "      <th>54</th>\n",
       "      <td>203</td>\n",
       "      <td>Speaking as both an astronomer and \"a concerne...</td>\n",
       "      <td>1046</td>\n",
       "      <td>TEDGlobal 2005</td>\n",
       "      <td>1121299200</td>\n",
       "      <td>29</td>\n",
       "      <td>Martin Rees</td>\n",
       "      <td>Martin Rees: Is this our final century?</td>\n",
       "      <td>1</td>\n",
       "      <td>1168992660</td>\n",
       "      <td>...</td>\n",
       "      <td>Is this our final century?</td>\n",
       "      <td>https://www.ted.com/talks/martin_rees_asks_is_...</td>\n",
       "      <td>2121177</td>\n",
       "      <td>0.000096</td>\n",
       "      <td>10449.147783</td>\n",
       "      <td>2005-07-14</td>\n",
       "      <td>[{'id': 1, 'name': 'Beautiful', 'count': 214},...</td>\n",
       "      <td>2957</td>\n",
       "      <td>47</td>\n",
       "      <td>0.015894</td>\n",
       "    </tr>\n",
       "    <tr>\n",
       "      <th>56</th>\n",
       "      <td>47</td>\n",
       "      <td>Author Steven Johnson takes us on a 10-minute ...</td>\n",
       "      <td>603</td>\n",
       "      <td>TEDSalon 2006</td>\n",
       "      <td>1164844800</td>\n",
       "      <td>29</td>\n",
       "      <td>Steven Johnson</td>\n",
       "      <td>Steven Johnson: How the \"ghost map\" helped end...</td>\n",
       "      <td>1</td>\n",
       "      <td>1170202260</td>\n",
       "      <td>...</td>\n",
       "      <td>How the \"ghost map\" helped end a killer disease</td>\n",
       "      <td>https://www.ted.com/talks/steven_johnson_tours...</td>\n",
       "      <td>684519</td>\n",
       "      <td>0.000069</td>\n",
       "      <td>14564.234043</td>\n",
       "      <td>2006-11-30</td>\n",
       "      <td>[{'id': 10, 'name': 'Inspiring', 'count': 94},...</td>\n",
       "      <td>918</td>\n",
       "      <td>20</td>\n",
       "      <td>0.021786</td>\n",
       "    </tr>\n",
       "    <tr>\n",
       "      <th>60</th>\n",
       "      <td>28</td>\n",
       "      <td>Inventor and MacArthur fellow Saul Griffith sh...</td>\n",
       "      <td>869</td>\n",
       "      <td>TED2006</td>\n",
       "      <td>1140652800</td>\n",
       "      <td>18</td>\n",
       "      <td>Saul Griffith</td>\n",
       "      <td>Saul Griffith: Everyday inventions</td>\n",
       "      <td>1</td>\n",
       "      <td>1171843860</td>\n",
       "      <td>...</td>\n",
       "      <td>Everyday inventions</td>\n",
       "      <td>https://www.ted.com/talks/saul_griffith_on_eve...</td>\n",
       "      <td>442553</td>\n",
       "      <td>0.000063</td>\n",
       "      <td>15805.464286</td>\n",
       "      <td>2006-02-23</td>\n",
       "      <td>[{'id': 9, 'name': 'Ingenious', 'count': 89}, ...</td>\n",
       "      <td>571</td>\n",
       "      <td>3</td>\n",
       "      <td>0.005254</td>\n",
       "    </tr>\n",
       "    <tr>\n",
       "      <th>62</th>\n",
       "      <td>226</td>\n",
       "      <td>Journalist Carl Honore believes the Western wo...</td>\n",
       "      <td>1155</td>\n",
       "      <td>TEDGlobal 2005</td>\n",
       "      <td>1120694400</td>\n",
       "      <td>30</td>\n",
       "      <td>Carl Honoré</td>\n",
       "      <td>Carl Honoré: In praise of slowness</td>\n",
       "      <td>1</td>\n",
       "      <td>1172621460</td>\n",
       "      <td>...</td>\n",
       "      <td>In praise of slowness</td>\n",
       "      <td>https://www.ted.com/talks/carl_honore_praises_...</td>\n",
       "      <td>2441805</td>\n",
       "      <td>0.000093</td>\n",
       "      <td>10804.446903</td>\n",
       "      <td>2005-07-07</td>\n",
       "      <td>[{'id': 7, 'name': 'Funny', 'count': 199}, {'i...</td>\n",
       "      <td>3605</td>\n",
       "      <td>199</td>\n",
       "      <td>0.055201</td>\n",
       "    </tr>\n",
       "    <tr>\n",
       "      <th>63</th>\n",
       "      <td>97</td>\n",
       "      <td>Accepting the 2007 TED Prize, Bill Clinton ask...</td>\n",
       "      <td>1447</td>\n",
       "      <td>TED2007</td>\n",
       "      <td>1173312000</td>\n",
       "      <td>26</td>\n",
       "      <td>Bill Clinton</td>\n",
       "      <td>Bill Clinton: My wish: Rebuilding Rwanda</td>\n",
       "      <td>1</td>\n",
       "      <td>1175559060</td>\n",
       "      <td>...</td>\n",
       "      <td>My wish: Rebuilding Rwanda</td>\n",
       "      <td>https://www.ted.com/talks/bill_clinton_on_rebu...</td>\n",
       "      <td>849859</td>\n",
       "      <td>0.000114</td>\n",
       "      <td>8761.432990</td>\n",
       "      <td>2007-03-08</td>\n",
       "      <td>[{'id': 9, 'name': 'Ingenious', 'count': 37}, ...</td>\n",
       "      <td>1182</td>\n",
       "      <td>11</td>\n",
       "      <td>0.009306</td>\n",
       "    </tr>\n",
       "    <tr>\n",
       "      <th>64</th>\n",
       "      <td>89</td>\n",
       "      <td>As E.O. Wilson accepts his 2007 TED Prize, he ...</td>\n",
       "      <td>1355</td>\n",
       "      <td>TED2007</td>\n",
       "      <td>1173312000</td>\n",
       "      <td>26</td>\n",
       "      <td>E.O. Wilson</td>\n",
       "      <td>E.O. Wilson: My wish: Build the Encyclopedia o...</td>\n",
       "      <td>1</td>\n",
       "      <td>1175559060</td>\n",
       "      <td>...</td>\n",
       "      <td>My wish: Build the Encyclopedia of Life</td>\n",
       "      <td>https://www.ted.com/talks/e_o_wilson_on_saving...</td>\n",
       "      <td>1335732</td>\n",
       "      <td>0.000067</td>\n",
       "      <td>15008.224719</td>\n",
       "      <td>2007-03-08</td>\n",
       "      <td>[{'id': 9, 'name': 'Ingenious', 'count': 60}, ...</td>\n",
       "      <td>1747</td>\n",
       "      <td>44</td>\n",
       "      <td>0.025186</td>\n",
       "    </tr>\n",
       "    <tr>\n",
       "      <th>65</th>\n",
       "      <td>107</td>\n",
       "      <td>Accepting his 2007 TED Prize, war photographer...</td>\n",
       "      <td>1316</td>\n",
       "      <td>TED2007</td>\n",
       "      <td>1173312000</td>\n",
       "      <td>23</td>\n",
       "      <td>James Nachtwey</td>\n",
       "      <td>James Nachtwey: My wish: Let my photographs be...</td>\n",
       "      <td>1</td>\n",
       "      <td>1175559060</td>\n",
       "      <td>...</td>\n",
       "      <td>My wish: Let my photographs bear witness</td>\n",
       "      <td>https://www.ted.com/talks/james_nachtwey_s_sea...</td>\n",
       "      <td>1262674</td>\n",
       "      <td>0.000085</td>\n",
       "      <td>11800.691589</td>\n",
       "      <td>2007-03-08</td>\n",
       "      <td>[{'id': 3, 'name': 'Courageous', 'count': 637}...</td>\n",
       "      <td>2367</td>\n",
       "      <td>3</td>\n",
       "      <td>0.001267</td>\n",
       "    </tr>\n",
       "    <tr>\n",
       "      <th>70</th>\n",
       "      <td>130</td>\n",
       "      <td>Inventor Dean Kamen lays out his argument for ...</td>\n",
       "      <td>1207</td>\n",
       "      <td>TED2002</td>\n",
       "      <td>1012608000</td>\n",
       "      <td>18</td>\n",
       "      <td>Dean Kamen</td>\n",
       "      <td>Dean Kamen: To invent is to give</td>\n",
       "      <td>1</td>\n",
       "      <td>1175731860</td>\n",
       "      <td>...</td>\n",
       "      <td>To invent is to give</td>\n",
       "      <td>https://www.ted.com/talks/dean_kamen_on_invent...</td>\n",
       "      <td>680134</td>\n",
       "      <td>0.000191</td>\n",
       "      <td>5231.800000</td>\n",
       "      <td>2002-02-02</td>\n",
       "      <td>[{'id': 9, 'name': 'Ingenious', 'count': 121},...</td>\n",
       "      <td>676</td>\n",
       "      <td>15</td>\n",
       "      <td>0.022189</td>\n",
       "    </tr>\n",
       "    <tr>\n",
       "      <th>71</th>\n",
       "      <td>49</td>\n",
       "      <td>Scientific discoveries, futurist Juan Enriquez...</td>\n",
       "      <td>1340</td>\n",
       "      <td>TED2003</td>\n",
       "      <td>1044144000</td>\n",
       "      <td>20</td>\n",
       "      <td>Juan Enriquez</td>\n",
       "      <td>Juan Enriquez: The life code that will reshape...</td>\n",
       "      <td>1</td>\n",
       "      <td>1175731860</td>\n",
       "      <td>...</td>\n",
       "      <td>The life code that will reshape the future</td>\n",
       "      <td>https://www.ted.com/talks/juan_enriquez_on_gen...</td>\n",
       "      <td>690928</td>\n",
       "      <td>0.000071</td>\n",
       "      <td>14100.571429</td>\n",
       "      <td>2003-02-02</td>\n",
       "      <td>[{'id': 1, 'name': 'Beautiful', 'count': 27}, ...</td>\n",
       "      <td>1374</td>\n",
       "      <td>35</td>\n",
       "      <td>0.025473</td>\n",
       "    </tr>\n",
       "    <tr>\n",
       "      <th>72</th>\n",
       "      <td>86</td>\n",
       "      <td>Graphic designer Stefan Sagmeister takes the a...</td>\n",
       "      <td>930</td>\n",
       "      <td>TED2004</td>\n",
       "      <td>1075680000</td>\n",
       "      <td>26</td>\n",
       "      <td>Stefan Sagmeister</td>\n",
       "      <td>Stefan Sagmeister: Happiness by design</td>\n",
       "      <td>1</td>\n",
       "      <td>1175731860</td>\n",
       "      <td>...</td>\n",
       "      <td>Happiness by design</td>\n",
       "      <td>https://www.ted.com/talks/stefan_sagmeister_sh...</td>\n",
       "      <td>1762302</td>\n",
       "      <td>0.000049</td>\n",
       "      <td>20491.883721</td>\n",
       "      <td>2004-02-02</td>\n",
       "      <td>[{'id': 2, 'name': 'Confusing', 'count': 31}, ...</td>\n",
       "      <td>2001</td>\n",
       "      <td>468</td>\n",
       "      <td>0.233883</td>\n",
       "    </tr>\n",
       "    <tr>\n",
       "      <th>74</th>\n",
       "      <td>50</td>\n",
       "      <td>Architect Thom Mayne has never been one to tak...</td>\n",
       "      <td>1240</td>\n",
       "      <td>TED2005</td>\n",
       "      <td>1109289600</td>\n",
       "      <td>16</td>\n",
       "      <td>Thom Mayne</td>\n",
       "      <td>Thom Mayne: How architecture can connect us</td>\n",
       "      <td>1</td>\n",
       "      <td>1175731860</td>\n",
       "      <td>...</td>\n",
       "      <td>How architecture can connect us</td>\n",
       "      <td>https://www.ted.com/talks/thom_mayne_on_archit...</td>\n",
       "      <td>660909</td>\n",
       "      <td>0.000076</td>\n",
       "      <td>13218.180000</td>\n",
       "      <td>2005-02-25</td>\n",
       "      <td>[{'id': 2, 'name': 'Confusing', 'count': 69}, ...</td>\n",
       "      <td>556</td>\n",
       "      <td>7</td>\n",
       "      <td>0.012590</td>\n",
       "    </tr>\n",
       "    <tr>\n",
       "      <th>78</th>\n",
       "      <td>84</td>\n",
       "      <td>Vik Muniz makes art from pretty much anything,...</td>\n",
       "      <td>891</td>\n",
       "      <td>TED2003</td>\n",
       "      <td>1046304000</td>\n",
       "      <td>23</td>\n",
       "      <td>Vik Muniz</td>\n",
       "      <td>Vik Muniz: Art with wire, sugar, chocolate and...</td>\n",
       "      <td>1</td>\n",
       "      <td>1175731860</td>\n",
       "      <td>...</td>\n",
       "      <td>Art with wire, sugar, chocolate and string</td>\n",
       "      <td>https://www.ted.com/talks/vik_muniz_makes_art_...</td>\n",
       "      <td>1149090</td>\n",
       "      <td>0.000073</td>\n",
       "      <td>13679.642857</td>\n",
       "      <td>2003-02-27</td>\n",
       "      <td>[{'id': 9, 'name': 'Ingenious', 'count': 448},...</td>\n",
       "      <td>2438</td>\n",
       "      <td>507</td>\n",
       "      <td>0.207957</td>\n",
       "    </tr>\n",
       "    <tr>\n",
       "      <th>79</th>\n",
       "      <td>131</td>\n",
       "      <td>Oxford philosopher and transhumanist Nick Bost...</td>\n",
       "      <td>1012</td>\n",
       "      <td>TEDGlobal 2005</td>\n",
       "      <td>1121299200</td>\n",
       "      <td>24</td>\n",
       "      <td>Nick Bostrom</td>\n",
       "      <td>Nick Bostrom: A philosophical quest for our bi...</td>\n",
       "      <td>1</td>\n",
       "      <td>1175731860</td>\n",
       "      <td>...</td>\n",
       "      <td>A philosophical quest for our biggest problems</td>\n",
       "      <td>https://www.ted.com/talks/nick_bostrom_on_our_...</td>\n",
       "      <td>762264</td>\n",
       "      <td>0.000172</td>\n",
       "      <td>5818.809160</td>\n",
       "      <td>2005-07-14</td>\n",
       "      <td>[{'id': 9, 'name': 'Ingenious', 'count': 78}, ...</td>\n",
       "      <td>1331</td>\n",
       "      <td>15</td>\n",
       "      <td>0.011270</td>\n",
       "    </tr>\n",
       "    <tr>\n",
       "      <th>...</th>\n",
       "      <td>...</td>\n",
       "      <td>...</td>\n",
       "      <td>...</td>\n",
       "      <td>...</td>\n",
       "      <td>...</td>\n",
       "      <td>...</td>\n",
       "      <td>...</td>\n",
       "      <td>...</td>\n",
       "      <td>...</td>\n",
       "      <td>...</td>\n",
       "      <td>...</td>\n",
       "      <td>...</td>\n",
       "      <td>...</td>\n",
       "      <td>...</td>\n",
       "      <td>...</td>\n",
       "      <td>...</td>\n",
       "      <td>...</td>\n",
       "      <td>...</td>\n",
       "      <td>...</td>\n",
       "      <td>...</td>\n",
       "      <td>...</td>\n",
       "    </tr>\n",
       "    <tr>\n",
       "      <th>2431</th>\n",
       "      <td>27</td>\n",
       "      <td>To design the Bahá'í Temple of South America, ...</td>\n",
       "      <td>766</td>\n",
       "      <td>TEDNYC</td>\n",
       "      <td>1488931200</td>\n",
       "      <td>20</td>\n",
       "      <td>Siamak Hariri</td>\n",
       "      <td>Siamak Hariri: How do you build a sacred space?</td>\n",
       "      <td>1</td>\n",
       "      <td>1492440513</td>\n",
       "      <td>...</td>\n",
       "      <td>How do you build a sacred space?</td>\n",
       "      <td>https://www.ted.com/talks/siamak_hariri_how_do...</td>\n",
       "      <td>1098436</td>\n",
       "      <td>0.000025</td>\n",
       "      <td>40682.814815</td>\n",
       "      <td>2017-03-08</td>\n",
       "      <td>[{'id': 1, 'name': 'Beautiful', 'count': 344},...</td>\n",
       "      <td>858</td>\n",
       "      <td>5</td>\n",
       "      <td>0.005828</td>\n",
       "    </tr>\n",
       "    <tr>\n",
       "      <th>2432</th>\n",
       "      <td>30</td>\n",
       "      <td>Our universe is strange, wonderful and vast, s...</td>\n",
       "      <td>925</td>\n",
       "      <td>TEDxPerth</td>\n",
       "      <td>1476403200</td>\n",
       "      <td>17</td>\n",
       "      <td>Natasha Hurley-Walker</td>\n",
       "      <td>Natasha Hurley-Walker: How radio telescopes sh...</td>\n",
       "      <td>1</td>\n",
       "      <td>1492527759</td>\n",
       "      <td>...</td>\n",
       "      <td>How radio telescopes show us unseen galaxies</td>\n",
       "      <td>https://www.ted.com/talks/natasha_hurley_walke...</td>\n",
       "      <td>970115</td>\n",
       "      <td>0.000031</td>\n",
       "      <td>32337.166667</td>\n",
       "      <td>2016-10-14</td>\n",
       "      <td>[{'id': 8, 'name': 'Informative', 'count': 201...</td>\n",
       "      <td>806</td>\n",
       "      <td>9</td>\n",
       "      <td>0.011166</td>\n",
       "    </tr>\n",
       "    <tr>\n",
       "      <th>2434</th>\n",
       "      <td>32</td>\n",
       "      <td>Physician David Casarett was tired of hearing ...</td>\n",
       "      <td>907</td>\n",
       "      <td>TEDMED 2016</td>\n",
       "      <td>1480464000</td>\n",
       "      <td>13</td>\n",
       "      <td>David Casarett</td>\n",
       "      <td>David Casarett: A doctor's case for medical ma...</td>\n",
       "      <td>1</td>\n",
       "      <td>1492700670</td>\n",
       "      <td>...</td>\n",
       "      <td>A doctor's case for medical marijuana</td>\n",
       "      <td>https://www.ted.com/talks/david_casarett_a_doc...</td>\n",
       "      <td>1114319</td>\n",
       "      <td>0.000029</td>\n",
       "      <td>34822.468750</td>\n",
       "      <td>2016-11-30</td>\n",
       "      <td>[{'id': 24, 'name': 'Persuasive', 'count': 133...</td>\n",
       "      <td>763</td>\n",
       "      <td>6</td>\n",
       "      <td>0.007864</td>\n",
       "    </tr>\n",
       "    <tr>\n",
       "      <th>2436</th>\n",
       "      <td>53</td>\n",
       "      <td>On April 14, 2014, the terrorist organization ...</td>\n",
       "      <td>386</td>\n",
       "      <td>TEDLagos Ideas Search</td>\n",
       "      <td>1486771200</td>\n",
       "      <td>29</td>\n",
       "      <td>Stephanie Busari</td>\n",
       "      <td>Stephanie Busari: How fake news does real harm</td>\n",
       "      <td>1</td>\n",
       "      <td>1493046727</td>\n",
       "      <td>...</td>\n",
       "      <td>How fake news does real harm</td>\n",
       "      <td>https://www.ted.com/talks/stephanie_busari_how...</td>\n",
       "      <td>1036236</td>\n",
       "      <td>0.000051</td>\n",
       "      <td>19551.622642</td>\n",
       "      <td>2017-02-11</td>\n",
       "      <td>[{'id': 3, 'name': 'Courageous', 'count': 121}...</td>\n",
       "      <td>655</td>\n",
       "      <td>2</td>\n",
       "      <td>0.003053</td>\n",
       "    </tr>\n",
       "    <tr>\n",
       "      <th>2442</th>\n",
       "      <td>92</td>\n",
       "      <td>\"There are facts, there are opinions, and ther...</td>\n",
       "      <td>930</td>\n",
       "      <td>TEDxSkoll</td>\n",
       "      <td>1491523200</td>\n",
       "      <td>16</td>\n",
       "      <td>Deborah Lipstadt</td>\n",
       "      <td>Deborah Lipstadt: Behind the lies of Holocaust...</td>\n",
       "      <td>1</td>\n",
       "      <td>1493738150</td>\n",
       "      <td>...</td>\n",
       "      <td>Behind the lies of Holocaust denial</td>\n",
       "      <td>https://www.ted.com/talks/deborah_lipstadt_beh...</td>\n",
       "      <td>918385</td>\n",
       "      <td>0.000100</td>\n",
       "      <td>9982.445652</td>\n",
       "      <td>2017-04-07</td>\n",
       "      <td>[{'id': 3, 'name': 'Courageous', 'count': 220}...</td>\n",
       "      <td>1108</td>\n",
       "      <td>10</td>\n",
       "      <td>0.009025</td>\n",
       "    </tr>\n",
       "    <tr>\n",
       "      <th>2444</th>\n",
       "      <td>35</td>\n",
       "      <td>When stress got to be too much for TED Fellow ...</td>\n",
       "      <td>546</td>\n",
       "      <td>TEDLagos Ideas Search</td>\n",
       "      <td>1486771200</td>\n",
       "      <td>23</td>\n",
       "      <td>Sangu Delle</td>\n",
       "      <td>Sangu Delle: There's no shame in taking care o...</td>\n",
       "      <td>1</td>\n",
       "      <td>1493909824</td>\n",
       "      <td>...</td>\n",
       "      <td>There's no shame in taking care of your mental...</td>\n",
       "      <td>https://www.ted.com/talks/sangu_delle_there_s_...</td>\n",
       "      <td>1460852</td>\n",
       "      <td>0.000024</td>\n",
       "      <td>41738.628571</td>\n",
       "      <td>2017-02-11</td>\n",
       "      <td>[{'id': 1, 'name': 'Beautiful', 'count': 197},...</td>\n",
       "      <td>1421</td>\n",
       "      <td>10</td>\n",
       "      <td>0.007037</td>\n",
       "    </tr>\n",
       "    <tr>\n",
       "      <th>2449</th>\n",
       "      <td>15</td>\n",
       "      <td>Oceanographer Kate Stafford lowers us into the...</td>\n",
       "      <td>711</td>\n",
       "      <td>TEDxCERN</td>\n",
       "      <td>1478304000</td>\n",
       "      <td>15</td>\n",
       "      <td>Kate Stafford</td>\n",
       "      <td>Kate Stafford: How human noise affects ocean h...</td>\n",
       "      <td>1</td>\n",
       "      <td>1494601475</td>\n",
       "      <td>...</td>\n",
       "      <td>How human noise affects ocean habitats</td>\n",
       "      <td>https://www.ted.com/talks/kate_stafford_how_hu...</td>\n",
       "      <td>975412</td>\n",
       "      <td>0.000015</td>\n",
       "      <td>65027.466667</td>\n",
       "      <td>2016-11-05</td>\n",
       "      <td>[{'id': 8, 'name': 'Informative', 'count': 171...</td>\n",
       "      <td>448</td>\n",
       "      <td>11</td>\n",
       "      <td>0.024554</td>\n",
       "    </tr>\n",
       "    <tr>\n",
       "      <th>2456</th>\n",
       "      <td>183</td>\n",
       "      <td>\"Ideas can and do change the world,\" says hist...</td>\n",
       "      <td>898</td>\n",
       "      <td>TED2017</td>\n",
       "      <td>1492992000</td>\n",
       "      <td>20</td>\n",
       "      <td>Rutger Bregman</td>\n",
       "      <td>Rutger Bregman: Poverty isn't a lack of charac...</td>\n",
       "      <td>1</td>\n",
       "      <td>1495465574</td>\n",
       "      <td>...</td>\n",
       "      <td>Poverty isn't a lack of character; it's a lack...</td>\n",
       "      <td>https://www.ted.com/talks/rutger_bregman_pover...</td>\n",
       "      <td>1419314</td>\n",
       "      <td>0.000129</td>\n",
       "      <td>7755.814208</td>\n",
       "      <td>2017-04-24</td>\n",
       "      <td>[{'id': 10, 'name': 'Inspiring', 'count': 950}...</td>\n",
       "      <td>2967</td>\n",
       "      <td>40</td>\n",
       "      <td>0.013482</td>\n",
       "    </tr>\n",
       "    <tr>\n",
       "      <th>2464</th>\n",
       "      <td>18</td>\n",
       "      <td>Illness is universal -- but access to care is ...</td>\n",
       "      <td>1230</td>\n",
       "      <td>TED2017</td>\n",
       "      <td>1492992000</td>\n",
       "      <td>14</td>\n",
       "      <td>Raj Panjabi</td>\n",
       "      <td>Raj Panjabi: No one should die because they li...</td>\n",
       "      <td>1</td>\n",
       "      <td>1496327443</td>\n",
       "      <td>...</td>\n",
       "      <td>No one should die because they live too far fr...</td>\n",
       "      <td>https://www.ted.com/talks/raj_panjabi_no_one_s...</td>\n",
       "      <td>874817</td>\n",
       "      <td>0.000021</td>\n",
       "      <td>48600.944444</td>\n",
       "      <td>2017-04-24</td>\n",
       "      <td>[{'id': 10, 'name': 'Inspiring', 'count': 196}...</td>\n",
       "      <td>509</td>\n",
       "      <td>0</td>\n",
       "      <td>0.000000</td>\n",
       "    </tr>\n",
       "    <tr>\n",
       "      <th>2465</th>\n",
       "      <td>10</td>\n",
       "      <td>Rhiannon Giddens pours the emotional weight of...</td>\n",
       "      <td>885</td>\n",
       "      <td>TED2016</td>\n",
       "      <td>1455494400</td>\n",
       "      <td>8</td>\n",
       "      <td>Rhiannon Giddens</td>\n",
       "      <td>Rhiannon Giddens: Songs that bring history to ...</td>\n",
       "      <td>1</td>\n",
       "      <td>1496400857</td>\n",
       "      <td>...</td>\n",
       "      <td>Songs that bring history to life</td>\n",
       "      <td>https://www.ted.com/talks/rhiannon_giddens_3_s...</td>\n",
       "      <td>946815</td>\n",
       "      <td>0.000011</td>\n",
       "      <td>94681.500000</td>\n",
       "      <td>2016-02-15</td>\n",
       "      <td>[{'id': 1, 'name': 'Beautiful', 'count': 151},...</td>\n",
       "      <td>334</td>\n",
       "      <td>5</td>\n",
       "      <td>0.014970</td>\n",
       "    </tr>\n",
       "    <tr>\n",
       "      <th>2467</th>\n",
       "      <td>35</td>\n",
       "      <td>The more we read and watch online, the harder ...</td>\n",
       "      <td>866</td>\n",
       "      <td>TED2017</td>\n",
       "      <td>1492992000</td>\n",
       "      <td>18</td>\n",
       "      <td>Michael Patrick Lynch</td>\n",
       "      <td>Michael Patrick Lynch: How to see past your ow...</td>\n",
       "      <td>1</td>\n",
       "      <td>1496674795</td>\n",
       "      <td>...</td>\n",
       "      <td>How to see past your own perspective and find ...</td>\n",
       "      <td>https://www.ted.com/talks/michael_patrick_lync...</td>\n",
       "      <td>1264166</td>\n",
       "      <td>0.000028</td>\n",
       "      <td>36119.028571</td>\n",
       "      <td>2017-04-24</td>\n",
       "      <td>[{'id': 10, 'name': 'Inspiring', 'count': 188}...</td>\n",
       "      <td>981</td>\n",
       "      <td>5</td>\n",
       "      <td>0.005097</td>\n",
       "    </tr>\n",
       "    <tr>\n",
       "      <th>2470</th>\n",
       "      <td>28</td>\n",
       "      <td>Attention isn't just about what we focus on --...</td>\n",
       "      <td>392</td>\n",
       "      <td>TED2017</td>\n",
       "      <td>1492992000</td>\n",
       "      <td>29</td>\n",
       "      <td>Mehdi Ordikhani-Seyedlar</td>\n",
       "      <td>Mehdi Ordikhani-Seyedlar: What happens in your...</td>\n",
       "      <td>1</td>\n",
       "      <td>1496933333</td>\n",
       "      <td>...</td>\n",
       "      <td>What happens in your brain when you pay attent...</td>\n",
       "      <td>https://www.ted.com/talks/mehdi_ordikhani_seye...</td>\n",
       "      <td>1781721</td>\n",
       "      <td>0.000016</td>\n",
       "      <td>63632.892857</td>\n",
       "      <td>2017-04-24</td>\n",
       "      <td>[{'id': 8, 'name': 'Informative', 'count': 374...</td>\n",
       "      <td>1438</td>\n",
       "      <td>8</td>\n",
       "      <td>0.005563</td>\n",
       "    </tr>\n",
       "    <tr>\n",
       "      <th>2487</th>\n",
       "      <td>29</td>\n",
       "      <td>What are our screens and devices doing to us? ...</td>\n",
       "      <td>569</td>\n",
       "      <td>TED2017</td>\n",
       "      <td>1492992000</td>\n",
       "      <td>19</td>\n",
       "      <td>Adam Alter</td>\n",
       "      <td>Adam Alter: Why our screens make us less happy</td>\n",
       "      <td>1</td>\n",
       "      <td>1500044323</td>\n",
       "      <td>...</td>\n",
       "      <td>Why our screens make us less happy</td>\n",
       "      <td>https://www.ted.com/talks/adam_alter_why_our_s...</td>\n",
       "      <td>1858990</td>\n",
       "      <td>0.000016</td>\n",
       "      <td>64103.103448</td>\n",
       "      <td>2017-04-24</td>\n",
       "      <td>[{'id': 24, 'name': 'Persuasive', 'count': 293...</td>\n",
       "      <td>1412</td>\n",
       "      <td>39</td>\n",
       "      <td>0.027620</td>\n",
       "    </tr>\n",
       "    <tr>\n",
       "      <th>2493</th>\n",
       "      <td>59</td>\n",
       "      <td>Loneliness doesn't always stem from being alon...</td>\n",
       "      <td>615</td>\n",
       "      <td>TED2017</td>\n",
       "      <td>1492992000</td>\n",
       "      <td>10</td>\n",
       "      <td>Grace Kim</td>\n",
       "      <td>Grace Kim: How cohousing can make us happier (...</td>\n",
       "      <td>1</td>\n",
       "      <td>1500907957</td>\n",
       "      <td>...</td>\n",
       "      <td>How cohousing can make us happier (and live lo...</td>\n",
       "      <td>https://www.ted.com/talks/grace_kim_how_cohous...</td>\n",
       "      <td>1363680</td>\n",
       "      <td>0.000043</td>\n",
       "      <td>23113.220339</td>\n",
       "      <td>2017-04-24</td>\n",
       "      <td>[{'id': 10, 'name': 'Inspiring', 'count': 130}...</td>\n",
       "      <td>427</td>\n",
       "      <td>5</td>\n",
       "      <td>0.011710</td>\n",
       "    </tr>\n",
       "    <tr>\n",
       "      <th>2498</th>\n",
       "      <td>40</td>\n",
       "      <td>That science fiction future where robots can d...</td>\n",
       "      <td>873</td>\n",
       "      <td>TED2017</td>\n",
       "      <td>1492992000</td>\n",
       "      <td>6</td>\n",
       "      <td>Marc Raibert</td>\n",
       "      <td>Marc Raibert: Meet Spot, the robot dog that ca...</td>\n",
       "      <td>1</td>\n",
       "      <td>1501513721</td>\n",
       "      <td>...</td>\n",
       "      <td>Meet Spot, the robot dog that can run, hop and...</td>\n",
       "      <td>https://www.ted.com/talks/marc_raibert_meet_sp...</td>\n",
       "      <td>1475823</td>\n",
       "      <td>0.000027</td>\n",
       "      <td>36895.575000</td>\n",
       "      <td>2017-04-24</td>\n",
       "      <td>[{'id': 3, 'name': 'Courageous', 'count': 27},...</td>\n",
       "      <td>365</td>\n",
       "      <td>30</td>\n",
       "      <td>0.082192</td>\n",
       "    </tr>\n",
       "    <tr>\n",
       "      <th>2499</th>\n",
       "      <td>46</td>\n",
       "      <td>Artist Titus Kaphar makes paintings and sculpt...</td>\n",
       "      <td>772</td>\n",
       "      <td>TED2017</td>\n",
       "      <td>1492992000</td>\n",
       "      <td>12</td>\n",
       "      <td>Titus Kaphar</td>\n",
       "      <td>Titus Kaphar: Can art amend history?</td>\n",
       "      <td>1</td>\n",
       "      <td>1501599710</td>\n",
       "      <td>...</td>\n",
       "      <td>Can art amend history?</td>\n",
       "      <td>https://www.ted.com/talks/titus_kaphar_can_art...</td>\n",
       "      <td>890748</td>\n",
       "      <td>0.000052</td>\n",
       "      <td>19364.086957</td>\n",
       "      <td>2017-04-24</td>\n",
       "      <td>[{'id': 10, 'name': 'Inspiring', 'count': 94},...</td>\n",
       "      <td>382</td>\n",
       "      <td>18</td>\n",
       "      <td>0.047120</td>\n",
       "    </tr>\n",
       "    <tr>\n",
       "      <th>2502</th>\n",
       "      <td>20</td>\n",
       "      <td>Ten years ago, researchers thought that gettin...</td>\n",
       "      <td>457</td>\n",
       "      <td>TED2017</td>\n",
       "      <td>1492992000</td>\n",
       "      <td>8</td>\n",
       "      <td>Joseph Redmon</td>\n",
       "      <td>Joseph Redmon: How computers learn to recogniz...</td>\n",
       "      <td>1</td>\n",
       "      <td>1501859800</td>\n",
       "      <td>...</td>\n",
       "      <td>How computers learn to recognize objects insta...</td>\n",
       "      <td>https://www.ted.com/talks/joseph_redmon_how_a_...</td>\n",
       "      <td>1164777</td>\n",
       "      <td>0.000017</td>\n",
       "      <td>58238.850000</td>\n",
       "      <td>2017-04-24</td>\n",
       "      <td>[{'id': 10, 'name': 'Inspiring', 'count': 72},...</td>\n",
       "      <td>426</td>\n",
       "      <td>7</td>\n",
       "      <td>0.016432</td>\n",
       "    </tr>\n",
       "    <tr>\n",
       "      <th>2506</th>\n",
       "      <td>36</td>\n",
       "      <td>On August 21, 2017, the moon's shadow raced fr...</td>\n",
       "      <td>736</td>\n",
       "      <td>TEDxMileHigh</td>\n",
       "      <td>1499472000</td>\n",
       "      <td>10</td>\n",
       "      <td>David Baron</td>\n",
       "      <td>David Baron: You owe it to yourself to experie...</td>\n",
       "      <td>1</td>\n",
       "      <td>1502375863</td>\n",
       "      <td>...</td>\n",
       "      <td>You owe it to yourself to experience a total s...</td>\n",
       "      <td>https://www.ted.com/talks/david_baron_you_owe_...</td>\n",
       "      <td>1319327</td>\n",
       "      <td>0.000027</td>\n",
       "      <td>36647.972222</td>\n",
       "      <td>2017-07-08</td>\n",
       "      <td>[{'id': 1, 'name': 'Beautiful', 'count': 174},...</td>\n",
       "      <td>817</td>\n",
       "      <td>17</td>\n",
       "      <td>0.020808</td>\n",
       "    </tr>\n",
       "    <tr>\n",
       "      <th>2523</th>\n",
       "      <td>20</td>\n",
       "      <td>Another economic reality is possible -- one th...</td>\n",
       "      <td>747</td>\n",
       "      <td>TEDxCrenshaw</td>\n",
       "      <td>1475884800</td>\n",
       "      <td>3</td>\n",
       "      <td>Niki Okuk</td>\n",
       "      <td>Niki Okuk: When workers own companies, the eco...</td>\n",
       "      <td>1</td>\n",
       "      <td>1503932075</td>\n",
       "      <td>...</td>\n",
       "      <td>When workers own companies, the economy is mor...</td>\n",
       "      <td>https://www.ted.com/talks/niki_okuk_when_worke...</td>\n",
       "      <td>744793</td>\n",
       "      <td>0.000027</td>\n",
       "      <td>37239.650000</td>\n",
       "      <td>2016-10-08</td>\n",
       "      <td>[{'id': 3, 'name': 'Courageous', 'count': 46},...</td>\n",
       "      <td>367</td>\n",
       "      <td>3</td>\n",
       "      <td>0.008174</td>\n",
       "    </tr>\n",
       "    <tr>\n",
       "      <th>2530</th>\n",
       "      <td>12</td>\n",
       "      <td>Daan Roosegaarde uses technology and creative ...</td>\n",
       "      <td>738</td>\n",
       "      <td>TED2017</td>\n",
       "      <td>1492992000</td>\n",
       "      <td>3</td>\n",
       "      <td>Daan Roosegaarde</td>\n",
       "      <td>Daan Roosegaarde: A smog vacuum cleaner and ot...</td>\n",
       "      <td>1</td>\n",
       "      <td>1504623555</td>\n",
       "      <td>...</td>\n",
       "      <td>A smog vacuum cleaner and other magical city d...</td>\n",
       "      <td>https://www.ted.com/talks/daan_roosegaarde_a_s...</td>\n",
       "      <td>591131</td>\n",
       "      <td>0.000020</td>\n",
       "      <td>49260.916667</td>\n",
       "      <td>2017-04-24</td>\n",
       "      <td>[{'id': 2, 'name': 'Confusing', 'count': 2}, {...</td>\n",
       "      <td>468</td>\n",
       "      <td>32</td>\n",
       "      <td>0.068376</td>\n",
       "    </tr>\n",
       "    <tr>\n",
       "      <th>2533</th>\n",
       "      <td>9</td>\n",
       "      <td>In a mind-bending talk that blurs the line bet...</td>\n",
       "      <td>663</td>\n",
       "      <td>TED2017</td>\n",
       "      <td>1492992000</td>\n",
       "      <td>2</td>\n",
       "      <td>Tomás Saraceno</td>\n",
       "      <td>Tomás Saraceno: Would you live in a floating ...</td>\n",
       "      <td>1</td>\n",
       "      <td>1504796048</td>\n",
       "      <td>...</td>\n",
       "      <td>Would you live in a floating city in the sky?</td>\n",
       "      <td>https://www.ted.com/talks/tomas_saraceno_would...</td>\n",
       "      <td>248411</td>\n",
       "      <td>0.000036</td>\n",
       "      <td>27601.222222</td>\n",
       "      <td>2017-04-24</td>\n",
       "      <td>[{'id': 1, 'name': 'Beautiful', 'count': 29}, ...</td>\n",
       "      <td>183</td>\n",
       "      <td>2</td>\n",
       "      <td>0.010929</td>\n",
       "    </tr>\n",
       "    <tr>\n",
       "      <th>2534</th>\n",
       "      <td>2</td>\n",
       "      <td>What the astronauts felt when they saw Earth f...</td>\n",
       "      <td>725</td>\n",
       "      <td>TEDxSkoll</td>\n",
       "      <td>1491523200</td>\n",
       "      <td>1</td>\n",
       "      <td>Benjamin Grant</td>\n",
       "      <td>Benjamin Grant: What it feels like to see Eart...</td>\n",
       "      <td>1</td>\n",
       "      <td>1504814438</td>\n",
       "      <td>...</td>\n",
       "      <td>What it feels like to see Earth from space</td>\n",
       "      <td>https://www.ted.com/talks/benjamin_grant_what_...</td>\n",
       "      <td>646174</td>\n",
       "      <td>0.000003</td>\n",
       "      <td>323087.000000</td>\n",
       "      <td>2017-04-07</td>\n",
       "      <td>[{'id': 10, 'name': 'Inspiring', 'count': 46},...</td>\n",
       "      <td>221</td>\n",
       "      <td>4</td>\n",
       "      <td>0.018100</td>\n",
       "    </tr>\n",
       "    <tr>\n",
       "      <th>2535</th>\n",
       "      <td>8</td>\n",
       "      <td>Underneath every shiny new megacity, there's o...</td>\n",
       "      <td>723</td>\n",
       "      <td>TEDGlobal 2017</td>\n",
       "      <td>1503792000</td>\n",
       "      <td>4</td>\n",
       "      <td>OluTimehin Adegbeye</td>\n",
       "      <td>OluTimehin Adegbeye: Who belongs in a city?</td>\n",
       "      <td>1</td>\n",
       "      <td>1504882266</td>\n",
       "      <td>...</td>\n",
       "      <td>Who belongs in a city?</td>\n",
       "      <td>https://www.ted.com/talks/olutimehin_adegbeye_...</td>\n",
       "      <td>707788</td>\n",
       "      <td>0.000011</td>\n",
       "      <td>88473.500000</td>\n",
       "      <td>2017-08-27</td>\n",
       "      <td>[{'id': 3, 'name': 'Courageous', 'count': 77},...</td>\n",
       "      <td>431</td>\n",
       "      <td>19</td>\n",
       "      <td>0.044084</td>\n",
       "    </tr>\n",
       "    <tr>\n",
       "      <th>2537</th>\n",
       "      <td>39</td>\n",
       "      <td>Our culture is obsessed with happiness, but wh...</td>\n",
       "      <td>738</td>\n",
       "      <td>TED2017</td>\n",
       "      <td>1492992000</td>\n",
       "      <td>2</td>\n",
       "      <td>Emily Esfahani Smith</td>\n",
       "      <td>Emily Esfahani Smith: There's more to life tha...</td>\n",
       "      <td>1</td>\n",
       "      <td>1505227376</td>\n",
       "      <td>...</td>\n",
       "      <td>There's more to life than being happy</td>\n",
       "      <td>https://www.ted.com/talks/emily_esfahani_smith...</td>\n",
       "      <td>1009069</td>\n",
       "      <td>0.000039</td>\n",
       "      <td>25873.564103</td>\n",
       "      <td>2017-04-24</td>\n",
       "      <td>[{'id': 1, 'name': 'Beautiful', 'count': 484},...</td>\n",
       "      <td>2009</td>\n",
       "      <td>3</td>\n",
       "      <td>0.001493</td>\n",
       "    </tr>\n",
       "    <tr>\n",
       "      <th>2538</th>\n",
       "      <td>7</td>\n",
       "      <td>Each year, one in seven large corporations com...</td>\n",
       "      <td>808</td>\n",
       "      <td>TEDxZurich</td>\n",
       "      <td>1478822400</td>\n",
       "      <td>1</td>\n",
       "      <td>Alexander Wagner</td>\n",
       "      <td>Alexander Wagner: What really motivates people...</td>\n",
       "      <td>1</td>\n",
       "      <td>1505246451</td>\n",
       "      <td>...</td>\n",
       "      <td>What really motivates people to be honest in b...</td>\n",
       "      <td>https://www.ted.com/talks/alexander_wagner_wha...</td>\n",
       "      <td>621431</td>\n",
       "      <td>0.000011</td>\n",
       "      <td>88775.857143</td>\n",
       "      <td>2016-11-11</td>\n",
       "      <td>[{'id': 10, 'name': 'Inspiring', 'count': 50},...</td>\n",
       "      <td>231</td>\n",
       "      <td>5</td>\n",
       "      <td>0.021645</td>\n",
       "    </tr>\n",
       "    <tr>\n",
       "      <th>2539</th>\n",
       "      <td>10</td>\n",
       "      <td>Forget quinoa. Meet fonio, an ancient \"miracle...</td>\n",
       "      <td>934</td>\n",
       "      <td>TED2017</td>\n",
       "      <td>1503792000</td>\n",
       "      <td>2</td>\n",
       "      <td>Pierre Thiam</td>\n",
       "      <td>Pierre Thiam: A forgotten ancient grain that c...</td>\n",
       "      <td>1</td>\n",
       "      <td>1505313942</td>\n",
       "      <td>...</td>\n",
       "      <td>A forgotten ancient grain that could help Afri...</td>\n",
       "      <td>https://www.ted.com/talks/pierre_thiam_a_forgo...</td>\n",
       "      <td>527314</td>\n",
       "      <td>0.000019</td>\n",
       "      <td>52731.400000</td>\n",
       "      <td>2017-08-27</td>\n",
       "      <td>[{'id': 10, 'name': 'Inspiring', 'count': 73},...</td>\n",
       "      <td>256</td>\n",
       "      <td>2</td>\n",
       "      <td>0.007812</td>\n",
       "    </tr>\n",
       "    <tr>\n",
       "      <th>2541</th>\n",
       "      <td>12</td>\n",
       "      <td>Physics doesn't just happen in a fancy lab -- ...</td>\n",
       "      <td>957</td>\n",
       "      <td>TEDxManchester</td>\n",
       "      <td>1487462400</td>\n",
       "      <td>2</td>\n",
       "      <td>Helen Czerski</td>\n",
       "      <td>Helen Czerski: The fascinating physics of ever...</td>\n",
       "      <td>1</td>\n",
       "      <td>1505419202</td>\n",
       "      <td>...</td>\n",
       "      <td>The fascinating physics of everyday life</td>\n",
       "      <td>https://www.ted.com/talks/helen_czerski_fun_ho...</td>\n",
       "      <td>656791</td>\n",
       "      <td>0.000018</td>\n",
       "      <td>54732.583333</td>\n",
       "      <td>2017-02-19</td>\n",
       "      <td>[{'id': 11, 'name': 'Longwinded', 'count': 29}...</td>\n",
       "      <td>378</td>\n",
       "      <td>39</td>\n",
       "      <td>0.103175</td>\n",
       "    </tr>\n",
       "    <tr>\n",
       "      <th>2542</th>\n",
       "      <td>3</td>\n",
       "      <td>In the century-old statues that occupy Cape To...</td>\n",
       "      <td>795</td>\n",
       "      <td>TEDGlobal 2017</td>\n",
       "      <td>1503792000</td>\n",
       "      <td>1</td>\n",
       "      <td>Sethembile Msezane</td>\n",
       "      <td>Sethembile Msezane: Living sculptures that sta...</td>\n",
       "      <td>1</td>\n",
       "      <td>1505488093</td>\n",
       "      <td>...</td>\n",
       "      <td>Living sculptures that stand for history's truths</td>\n",
       "      <td>https://www.ted.com/talks/sethembile_msezane_l...</td>\n",
       "      <td>542088</td>\n",
       "      <td>0.000006</td>\n",
       "      <td>180696.000000</td>\n",
       "      <td>2017-08-27</td>\n",
       "      <td>[{'id': 1, 'name': 'Beautiful', 'count': 41}, ...</td>\n",
       "      <td>181</td>\n",
       "      <td>6</td>\n",
       "      <td>0.033149</td>\n",
       "    </tr>\n",
       "    <tr>\n",
       "      <th>2545</th>\n",
       "      <td>17</td>\n",
       "      <td>Between 2008 and 2016, the United States depor...</td>\n",
       "      <td>476</td>\n",
       "      <td>TED2017</td>\n",
       "      <td>1496707200</td>\n",
       "      <td>4</td>\n",
       "      <td>Duarte Geraldino</td>\n",
       "      <td>Duarte Geraldino: What we're missing in the de...</td>\n",
       "      <td>1</td>\n",
       "      <td>1505851216</td>\n",
       "      <td>...</td>\n",
       "      <td>What we're missing in the debate about immigra...</td>\n",
       "      <td>https://www.ted.com/talks/duarte_geraldino_wha...</td>\n",
       "      <td>450430</td>\n",
       "      <td>0.000038</td>\n",
       "      <td>26495.882353</td>\n",
       "      <td>2017-06-06</td>\n",
       "      <td>[{'id': 3, 'name': 'Courageous', 'count': 24},...</td>\n",
       "      <td>192</td>\n",
       "      <td>1</td>\n",
       "      <td>0.005208</td>\n",
       "    </tr>\n",
       "    <tr>\n",
       "      <th>2549</th>\n",
       "      <td>8</td>\n",
       "      <td>With more than half of the world population li...</td>\n",
       "      <td>519</td>\n",
       "      <td>TED2017</td>\n",
       "      <td>1492992000</td>\n",
       "      <td>1</td>\n",
       "      <td>Karoliina Korppoo</td>\n",
       "      <td>Karoliina Korppoo: How a video game might help...</td>\n",
       "      <td>1</td>\n",
       "      <td>1506092422</td>\n",
       "      <td>...</td>\n",
       "      <td>How a video game might help us build better ci...</td>\n",
       "      <td>https://www.ted.com/talks/karoliina_korppoo_ho...</td>\n",
       "      <td>391721</td>\n",
       "      <td>0.000020</td>\n",
       "      <td>48965.125000</td>\n",
       "      <td>2017-04-24</td>\n",
       "      <td>[{'id': 21, 'name': 'Unconvincing', 'count': 2...</td>\n",
       "      <td>142</td>\n",
       "      <td>0</td>\n",
       "      <td>0.000000</td>\n",
       "    </tr>\n",
       "  </tbody>\n",
       "</table>\n",
       "<p>786 rows × 24 columns</p>\n",
       "</div>"
      ],
      "text/plain": [
       "      comments                                        description  duration  \\\n",
       "1          265  With the same humor and humanity he exuded in ...       977   \n",
       "4          593  You've never seen data presented like this. Wi...      1190   \n",
       "7           46  Architect Joshua Prince-Ramus takes the audien...      1198   \n",
       "11          55  Jehane Noujaim unveils her 2006 TED Prize wish...      1538   \n",
       "14          99  Nicholas Negroponte, founder of the MIT Media ...      1057   \n",
       "15         325  Violinist Sirena Huang gives a technically bri...      1481   \n",
       "26         507  Biologist Richard Dawkins makes a case for \"th...      1316   \n",
       "27          95  \"Freakonomics\" author Steven Levitt presents n...      1275   \n",
       "28         355  \"Tipping Point\" author Malcolm Gladwell gets i...      1050   \n",
       "30         991  Psychologist Barry Schwartz takes aim at a cen...      1177   \n",
       "34          58  Jacqueline Novogratz applauds the world's heig...       773   \n",
       "39         112  Musician and activist Bono accepts the 2005 TE...      1672   \n",
       "40          58  Accepting his 2005 TED Prize, photographer Edw...      2065   \n",
       "46          52  Musician and activist Peter Gabriel shares his...       848   \n",
       "48          95  How many poets could cram eBay, Friendster and...       247   \n",
       "50          85  Robert Neuwirth, author of \"Shadow Cities,\" fi...       843   \n",
       "53          59  Photographer Phil Borges shows rarely seen ima...      1115   \n",
       "54         203  Speaking as both an astronomer and \"a concerne...      1046   \n",
       "56          47  Author Steven Johnson takes us on a 10-minute ...       603   \n",
       "60          28  Inventor and MacArthur fellow Saul Griffith sh...       869   \n",
       "62         226  Journalist Carl Honore believes the Western wo...      1155   \n",
       "63          97  Accepting the 2007 TED Prize, Bill Clinton ask...      1447   \n",
       "64          89  As E.O. Wilson accepts his 2007 TED Prize, he ...      1355   \n",
       "65         107  Accepting his 2007 TED Prize, war photographer...      1316   \n",
       "70         130  Inventor Dean Kamen lays out his argument for ...      1207   \n",
       "71          49  Scientific discoveries, futurist Juan Enriquez...      1340   \n",
       "72          86  Graphic designer Stefan Sagmeister takes the a...       930   \n",
       "74          50  Architect Thom Mayne has never been one to tak...      1240   \n",
       "78          84  Vik Muniz makes art from pretty much anything,...       891   \n",
       "79         131  Oxford philosopher and transhumanist Nick Bost...      1012   \n",
       "...        ...                                                ...       ...   \n",
       "2431        27  To design the Bahá'í Temple of South America, ...       766   \n",
       "2432        30  Our universe is strange, wonderful and vast, s...       925   \n",
       "2434        32  Physician David Casarett was tired of hearing ...       907   \n",
       "2436        53  On April 14, 2014, the terrorist organization ...       386   \n",
       "2442        92  \"There are facts, there are opinions, and ther...       930   \n",
       "2444        35  When stress got to be too much for TED Fellow ...       546   \n",
       "2449        15  Oceanographer Kate Stafford lowers us into the...       711   \n",
       "2456       183  \"Ideas can and do change the world,\" says hist...       898   \n",
       "2464        18  Illness is universal -- but access to care is ...      1230   \n",
       "2465        10  Rhiannon Giddens pours the emotional weight of...       885   \n",
       "2467        35  The more we read and watch online, the harder ...       866   \n",
       "2470        28  Attention isn't just about what we focus on --...       392   \n",
       "2487        29  What are our screens and devices doing to us? ...       569   \n",
       "2493        59  Loneliness doesn't always stem from being alon...       615   \n",
       "2498        40  That science fiction future where robots can d...       873   \n",
       "2499        46  Artist Titus Kaphar makes paintings and sculpt...       772   \n",
       "2502        20  Ten years ago, researchers thought that gettin...       457   \n",
       "2506        36  On August 21, 2017, the moon's shadow raced fr...       736   \n",
       "2523        20  Another economic reality is possible -- one th...       747   \n",
       "2530        12  Daan Roosegaarde uses technology and creative ...       738   \n",
       "2533         9  In a mind-bending talk that blurs the line bet...       663   \n",
       "2534         2  What the astronauts felt when they saw Earth f...       725   \n",
       "2535         8  Underneath every shiny new megacity, there's o...       723   \n",
       "2537        39  Our culture is obsessed with happiness, but wh...       738   \n",
       "2538         7  Each year, one in seven large corporations com...       808   \n",
       "2539        10  Forget quinoa. Meet fonio, an ancient \"miracle...       934   \n",
       "2541        12  Physics doesn't just happen in a fancy lab -- ...       957   \n",
       "2542         3  In the century-old statues that occupy Cape To...       795   \n",
       "2545        17  Between 2008 and 2016, the United States depor...       476   \n",
       "2549         8  With more than half of the world population li...       519   \n",
       "\n",
       "                      event   film_date  languages              main_speaker  \\\n",
       "1                   TED2006  1140825600         43                   Al Gore   \n",
       "4                   TED2006  1140566400         48              Hans Rosling   \n",
       "7                   TED2006  1140652800         19       Joshua Prince-Ramus   \n",
       "11                  TED2006  1140912000         20            Jehane Noujaim   \n",
       "14                  TED2006  1140652800         25       Nicholas Negroponte   \n",
       "15                  TED2006  1140652800         31              Sirena Huang   \n",
       "26           TEDGlobal 2005  1120694400         36           Richard Dawkins   \n",
       "27                  TED2004  1077840000         25             Steven Levitt   \n",
       "28                  TED2004  1077753600         37          Malcolm Gladwell   \n",
       "30           TEDGlobal 2005  1121385600         45            Barry Schwartz   \n",
       "34           TEDGlobal 2005  1120176000         26      Jacqueline Novogratz   \n",
       "39                  TED2005  1109203200         24                      Bono   \n",
       "40                  TED2005  1108598400         22          Edward Burtynsky   \n",
       "46                  TED2006  1140652800         24             Peter Gabriel   \n",
       "48            TEDSalon 2006  1164844800         34                     Rives   \n",
       "50           TEDGlobal 2005  1121299200         22           Robert Neuwirth   \n",
       "53                  TED2006  1140652800         29               Phil Borges   \n",
       "54           TEDGlobal 2005  1121299200         29               Martin Rees   \n",
       "56            TEDSalon 2006  1164844800         29            Steven Johnson   \n",
       "60                  TED2006  1140652800         18             Saul Griffith   \n",
       "62           TEDGlobal 2005  1120694400         30               Carl Honoré   \n",
       "63                  TED2007  1173312000         26              Bill Clinton   \n",
       "64                  TED2007  1173312000         26               E.O. Wilson   \n",
       "65                  TED2007  1173312000         23            James Nachtwey   \n",
       "70                  TED2002  1012608000         18                Dean Kamen   \n",
       "71                  TED2003  1044144000         20             Juan Enriquez   \n",
       "72                  TED2004  1075680000         26         Stefan Sagmeister   \n",
       "74                  TED2005  1109289600         16                Thom Mayne   \n",
       "78                  TED2003  1046304000         23                 Vik Muniz   \n",
       "79           TEDGlobal 2005  1121299200         24              Nick Bostrom   \n",
       "...                     ...         ...        ...                       ...   \n",
       "2431                 TEDNYC  1488931200         20             Siamak Hariri   \n",
       "2432              TEDxPerth  1476403200         17     Natasha Hurley-Walker   \n",
       "2434            TEDMED 2016  1480464000         13            David Casarett   \n",
       "2436  TEDLagos Ideas Search  1486771200         29          Stephanie Busari   \n",
       "2442              TEDxSkoll  1491523200         16          Deborah Lipstadt   \n",
       "2444  TEDLagos Ideas Search  1486771200         23               Sangu Delle   \n",
       "2449               TEDxCERN  1478304000         15             Kate Stafford   \n",
       "2456                TED2017  1492992000         20            Rutger Bregman   \n",
       "2464                TED2017  1492992000         14               Raj Panjabi   \n",
       "2465                TED2016  1455494400          8          Rhiannon Giddens   \n",
       "2467                TED2017  1492992000         18     Michael Patrick Lynch   \n",
       "2470                TED2017  1492992000         29  Mehdi Ordikhani-Seyedlar   \n",
       "2487                TED2017  1492992000         19                Adam Alter   \n",
       "2493                TED2017  1492992000         10                 Grace Kim   \n",
       "2498                TED2017  1492992000          6              Marc Raibert   \n",
       "2499                TED2017  1492992000         12              Titus Kaphar   \n",
       "2502                TED2017  1492992000          8             Joseph Redmon   \n",
       "2506           TEDxMileHigh  1499472000         10               David Baron   \n",
       "2523           TEDxCrenshaw  1475884800          3                 Niki Okuk   \n",
       "2530                TED2017  1492992000          3          Daan Roosegaarde   \n",
       "2533                TED2017  1492992000          2           Tomás Saraceno   \n",
       "2534              TEDxSkoll  1491523200          1            Benjamin Grant   \n",
       "2535         TEDGlobal 2017  1503792000          4       OluTimehin Adegbeye   \n",
       "2537                TED2017  1492992000          2      Emily Esfahani Smith   \n",
       "2538             TEDxZurich  1478822400          1          Alexander Wagner   \n",
       "2539                TED2017  1503792000          2              Pierre Thiam   \n",
       "2541         TEDxManchester  1487462400          2             Helen Czerski   \n",
       "2542         TEDGlobal 2017  1503792000          1        Sethembile Msezane   \n",
       "2545                TED2017  1496707200          4          Duarte Geraldino   \n",
       "2549                TED2017  1492992000          1         Karoliina Korppoo   \n",
       "\n",
       "                                                   name  num_speaker  \\\n",
       "1                  Al Gore: Averting the climate crisis            1   \n",
       "4         Hans Rosling: The best stats you've ever seen            1   \n",
       "7     Joshua Prince-Ramus: Behind the design of Seat...            1   \n",
       "11        Jehane Noujaim: My wish: A global day of film            1   \n",
       "14            Nicholas Negroponte: One Laptop per Child            1   \n",
       "15        Sirena Huang: An 11-year-old's magical violin            1   \n",
       "26    Richard Dawkins: Why the universe seems so str...            1   \n",
       "27     Steven Levitt: The freakonomics of crack dealing            1   \n",
       "28    Malcolm Gladwell: Choice, happiness and spaghe...            1   \n",
       "30                Barry Schwartz: The paradox of choice            1   \n",
       "34    Jacqueline Novogratz: Invest in Africa's own s...            1   \n",
       "39              Bono: My wish: Three actions for Africa            1   \n",
       "40    Edward Burtynsky: My wish: Manufactured landsc...            1   \n",
       "46        Peter Gabriel: Fight injustice with raw video            1   \n",
       "48                  Rives: If I controlled the Internet            1   \n",
       "50    Robert Neuwirth: The hidden world of shadow ci...            1   \n",
       "53           Phil Borges: Photos of endangered cultures            1   \n",
       "54              Martin Rees: Is this our final century?            1   \n",
       "56    Steven Johnson: How the \"ghost map\" helped end...            1   \n",
       "60                   Saul Griffith: Everyday inventions            1   \n",
       "62                   Carl Honoré: In praise of slowness            1   \n",
       "63             Bill Clinton: My wish: Rebuilding Rwanda            1   \n",
       "64    E.O. Wilson: My wish: Build the Encyclopedia o...            1   \n",
       "65    James Nachtwey: My wish: Let my photographs be...            1   \n",
       "70                     Dean Kamen: To invent is to give            1   \n",
       "71    Juan Enriquez: The life code that will reshape...            1   \n",
       "72               Stefan Sagmeister: Happiness by design            1   \n",
       "74          Thom Mayne: How architecture can connect us            1   \n",
       "78    Vik Muniz: Art with wire, sugar, chocolate and...            1   \n",
       "79    Nick Bostrom: A philosophical quest for our bi...            1   \n",
       "...                                                 ...          ...   \n",
       "2431    Siamak Hariri: How do you build a sacred space?            1   \n",
       "2432  Natasha Hurley-Walker: How radio telescopes sh...            1   \n",
       "2434  David Casarett: A doctor's case for medical ma...            1   \n",
       "2436     Stephanie Busari: How fake news does real harm            1   \n",
       "2442  Deborah Lipstadt: Behind the lies of Holocaust...            1   \n",
       "2444  Sangu Delle: There's no shame in taking care o...            1   \n",
       "2449  Kate Stafford: How human noise affects ocean h...            1   \n",
       "2456  Rutger Bregman: Poverty isn't a lack of charac...            1   \n",
       "2464  Raj Panjabi: No one should die because they li...            1   \n",
       "2465  Rhiannon Giddens: Songs that bring history to ...            1   \n",
       "2467  Michael Patrick Lynch: How to see past your ow...            1   \n",
       "2470  Mehdi Ordikhani-Seyedlar: What happens in your...            1   \n",
       "2487     Adam Alter: Why our screens make us less happy            1   \n",
       "2493  Grace Kim: How cohousing can make us happier (...            1   \n",
       "2498  Marc Raibert: Meet Spot, the robot dog that ca...            1   \n",
       "2499               Titus Kaphar: Can art amend history?            1   \n",
       "2502  Joseph Redmon: How computers learn to recogniz...            1   \n",
       "2506  David Baron: You owe it to yourself to experie...            1   \n",
       "2523  Niki Okuk: When workers own companies, the eco...            1   \n",
       "2530  Daan Roosegaarde: A smog vacuum cleaner and ot...            1   \n",
       "2533  Tomás Saraceno: Would you live in a floating ...            1   \n",
       "2534  Benjamin Grant: What it feels like to see Eart...            1   \n",
       "2535        OluTimehin Adegbeye: Who belongs in a city?            1   \n",
       "2537  Emily Esfahani Smith: There's more to life tha...            1   \n",
       "2538  Alexander Wagner: What really motivates people...            1   \n",
       "2539  Pierre Thiam: A forgotten ancient grain that c...            1   \n",
       "2541  Helen Czerski: The fascinating physics of ever...            1   \n",
       "2542  Sethembile Msezane: Living sculptures that sta...            1   \n",
       "2545  Duarte Geraldino: What we're missing in the de...            1   \n",
       "2549  Karoliina Korppoo: How a video game might help...            1   \n",
       "\n",
       "      published_date  ...                                              title  \\\n",
       "1         1151367060  ...                        Averting the climate crisis   \n",
       "4         1151440680  ...                    The best stats you've ever seen   \n",
       "7         1152490260  ...             Behind the design of Seattle's library   \n",
       "11        1153786260  ...                      My wish: A global day of film   \n",
       "14        1154391060  ...                               One Laptop per Child   \n",
       "15        1154995860  ...                    An 11-year-old's magical violin   \n",
       "26        1158019860  ...                  Why the universe seems so strange   \n",
       "27        1158624660  ...                  The freakonomics of crack dealing   \n",
       "28        1158624660  ...              Choice, happiness and spaghetti sauce   \n",
       "30        1159229460  ...                              The paradox of choice   \n",
       "34        1160439060  ...                   Invest in Africa's own solutions   \n",
       "39        1162253460  ...                  My wish: Three actions for Africa   \n",
       "40        1162253460  ...  My wish: Manufactured landscapes and green edu...   \n",
       "46        1165363860  ...                     Fight injustice with raw video   \n",
       "48        1166055060  ...                       If I controlled the Internet   \n",
       "50        1167696660  ...                  The hidden world of shadow cities   \n",
       "53        1168301460  ...                      Photos of endangered cultures   \n",
       "54        1168992660  ...                         Is this our final century?   \n",
       "56        1170202260  ...    How the \"ghost map\" helped end a killer disease   \n",
       "60        1171843860  ...                                Everyday inventions   \n",
       "62        1172621460  ...                              In praise of slowness   \n",
       "63        1175559060  ...                         My wish: Rebuilding Rwanda   \n",
       "64        1175559060  ...            My wish: Build the Encyclopedia of Life   \n",
       "65        1175559060  ...           My wish: Let my photographs bear witness   \n",
       "70        1175731860  ...                               To invent is to give   \n",
       "71        1175731860  ...         The life code that will reshape the future   \n",
       "72        1175731860  ...                                Happiness by design   \n",
       "74        1175731860  ...                    How architecture can connect us   \n",
       "78        1175731860  ...         Art with wire, sugar, chocolate and string   \n",
       "79        1175731860  ...     A philosophical quest for our biggest problems   \n",
       "...              ...  ...                                                ...   \n",
       "2431      1492440513  ...                   How do you build a sacred space?   \n",
       "2432      1492527759  ...       How radio telescopes show us unseen galaxies   \n",
       "2434      1492700670  ...              A doctor's case for medical marijuana   \n",
       "2436      1493046727  ...                       How fake news does real harm   \n",
       "2442      1493738150  ...                Behind the lies of Holocaust denial   \n",
       "2444      1493909824  ...  There's no shame in taking care of your mental...   \n",
       "2449      1494601475  ...             How human noise affects ocean habitats   \n",
       "2456      1495465574  ...  Poverty isn't a lack of character; it's a lack...   \n",
       "2464      1496327443  ...  No one should die because they live too far fr...   \n",
       "2465      1496400857  ...                   Songs that bring history to life   \n",
       "2467      1496674795  ...  How to see past your own perspective and find ...   \n",
       "2470      1496933333  ...  What happens in your brain when you pay attent...   \n",
       "2487      1500044323  ...                 Why our screens make us less happy   \n",
       "2493      1500907957  ...  How cohousing can make us happier (and live lo...   \n",
       "2498      1501513721  ...  Meet Spot, the robot dog that can run, hop and...   \n",
       "2499      1501599710  ...                             Can art amend history?   \n",
       "2502      1501859800  ...  How computers learn to recognize objects insta...   \n",
       "2506      1502375863  ...  You owe it to yourself to experience a total s...   \n",
       "2523      1503932075  ...  When workers own companies, the economy is mor...   \n",
       "2530      1504623555  ...  A smog vacuum cleaner and other magical city d...   \n",
       "2533      1504796048  ...      Would you live in a floating city in the sky?   \n",
       "2534      1504814438  ...         What it feels like to see Earth from space   \n",
       "2535      1504882266  ...                             Who belongs in a city?   \n",
       "2537      1505227376  ...              There's more to life than being happy   \n",
       "2538      1505246451  ...  What really motivates people to be honest in b...   \n",
       "2539      1505313942  ...  A forgotten ancient grain that could help Afri...   \n",
       "2541      1505419202  ...           The fascinating physics of everyday life   \n",
       "2542      1505488093  ...  Living sculptures that stand for history's truths   \n",
       "2545      1505851216  ...  What we're missing in the debate about immigra...   \n",
       "2549      1506092422  ...  How a video game might help us build better ci...   \n",
       "\n",
       "                                                    url     views  \\\n",
       "1     https://www.ted.com/talks/al_gore_on_averting_...   3200520   \n",
       "4     https://www.ted.com/talks/hans_rosling_shows_t...  12005869   \n",
       "7     https://www.ted.com/talks/joshua_prince_ramus_...    967741   \n",
       "11    https://www.ted.com/talks/jehane_noujaim_inspi...    387877   \n",
       "14    https://www.ted.com/talks/nicholas_negroponte_...    358304   \n",
       "15    https://www.ted.com/talks/sirena_huang_dazzles...   2702470   \n",
       "26    https://www.ted.com/talks/richard_dawkins_on_o...   2885999   \n",
       "27    https://www.ted.com/talks/steven_levitt_analyz...   2863214   \n",
       "28    https://www.ted.com/talks/malcolm_gladwell_on_...   7023562   \n",
       "30    https://www.ted.com/talks/barry_schwartz_on_th...  10000702   \n",
       "34    https://www.ted.com/talks/jacqueline_novogratz...    705389   \n",
       "39    https://www.ted.com/talks/bono_s_call_to_actio...    718649   \n",
       "40    https://www.ted.com/talks/edward_burtynsky_on_...    975107   \n",
       "46    https://www.ted.com/talks/peter_gabriel_fights...    904215   \n",
       "48    https://www.ted.com/talks/rives_controls_the_i...   1813665   \n",
       "50    https://www.ted.com/talks/robert_neuwirth_on_o...    673036   \n",
       "53    https://www.ted.com/talks/phil_borges_on_endan...    882034   \n",
       "54    https://www.ted.com/talks/martin_rees_asks_is_...   2121177   \n",
       "56    https://www.ted.com/talks/steven_johnson_tours...    684519   \n",
       "60    https://www.ted.com/talks/saul_griffith_on_eve...    442553   \n",
       "62    https://www.ted.com/talks/carl_honore_praises_...   2441805   \n",
       "63    https://www.ted.com/talks/bill_clinton_on_rebu...    849859   \n",
       "64    https://www.ted.com/talks/e_o_wilson_on_saving...   1335732   \n",
       "65    https://www.ted.com/talks/james_nachtwey_s_sea...   1262674   \n",
       "70    https://www.ted.com/talks/dean_kamen_on_invent...    680134   \n",
       "71    https://www.ted.com/talks/juan_enriquez_on_gen...    690928   \n",
       "72    https://www.ted.com/talks/stefan_sagmeister_sh...   1762302   \n",
       "74    https://www.ted.com/talks/thom_mayne_on_archit...    660909   \n",
       "78    https://www.ted.com/talks/vik_muniz_makes_art_...   1149090   \n",
       "79    https://www.ted.com/talks/nick_bostrom_on_our_...    762264   \n",
       "...                                                 ...       ...   \n",
       "2431  https://www.ted.com/talks/siamak_hariri_how_do...   1098436   \n",
       "2432  https://www.ted.com/talks/natasha_hurley_walke...    970115   \n",
       "2434  https://www.ted.com/talks/david_casarett_a_doc...   1114319   \n",
       "2436  https://www.ted.com/talks/stephanie_busari_how...   1036236   \n",
       "2442  https://www.ted.com/talks/deborah_lipstadt_beh...    918385   \n",
       "2444  https://www.ted.com/talks/sangu_delle_there_s_...   1460852   \n",
       "2449  https://www.ted.com/talks/kate_stafford_how_hu...    975412   \n",
       "2456  https://www.ted.com/talks/rutger_bregman_pover...   1419314   \n",
       "2464  https://www.ted.com/talks/raj_panjabi_no_one_s...    874817   \n",
       "2465  https://www.ted.com/talks/rhiannon_giddens_3_s...    946815   \n",
       "2467  https://www.ted.com/talks/michael_patrick_lync...   1264166   \n",
       "2470  https://www.ted.com/talks/mehdi_ordikhani_seye...   1781721   \n",
       "2487  https://www.ted.com/talks/adam_alter_why_our_s...   1858990   \n",
       "2493  https://www.ted.com/talks/grace_kim_how_cohous...   1363680   \n",
       "2498  https://www.ted.com/talks/marc_raibert_meet_sp...   1475823   \n",
       "2499  https://www.ted.com/talks/titus_kaphar_can_art...    890748   \n",
       "2502  https://www.ted.com/talks/joseph_redmon_how_a_...   1164777   \n",
       "2506  https://www.ted.com/talks/david_baron_you_owe_...   1319327   \n",
       "2523  https://www.ted.com/talks/niki_okuk_when_worke...    744793   \n",
       "2530  https://www.ted.com/talks/daan_roosegaarde_a_s...    591131   \n",
       "2533  https://www.ted.com/talks/tomas_saraceno_would...    248411   \n",
       "2534  https://www.ted.com/talks/benjamin_grant_what_...    646174   \n",
       "2535  https://www.ted.com/talks/olutimehin_adegbeye_...    707788   \n",
       "2537  https://www.ted.com/talks/emily_esfahani_smith...   1009069   \n",
       "2538  https://www.ted.com/talks/alexander_wagner_wha...    621431   \n",
       "2539  https://www.ted.com/talks/pierre_thiam_a_forgo...    527314   \n",
       "2541  https://www.ted.com/talks/helen_czerski_fun_ho...    656791   \n",
       "2542  https://www.ted.com/talks/sethembile_msezane_l...    542088   \n",
       "2545  https://www.ted.com/talks/duarte_geraldino_wha...    450430   \n",
       "2549  https://www.ted.com/talks/karoliina_korppoo_ho...    391721   \n",
       "\n",
       "     comments_per_view views_per_comment  new_dates  \\\n",
       "1             0.000083      12077.433962 2006-02-25   \n",
       "4             0.000049      20245.984823 2006-02-22   \n",
       "7             0.000048      21037.847826 2006-02-23   \n",
       "11            0.000142       7052.309091 2006-02-26   \n",
       "14            0.000276       3619.232323 2006-02-23   \n",
       "15            0.000120       8315.292308 2006-02-23   \n",
       "26            0.000176       5692.305720 2005-07-07   \n",
       "27            0.000033      30139.094737 2004-02-27   \n",
       "28            0.000051      19784.681690 2004-02-26   \n",
       "30            0.000099      10091.525732 2005-07-15   \n",
       "34            0.000082      12161.879310 2005-07-01   \n",
       "39            0.000156       6416.508929 2005-02-24   \n",
       "40            0.000059      16812.189655 2005-02-17   \n",
       "46            0.000058      17388.750000 2006-02-23   \n",
       "48            0.000052      19091.210526 2006-11-30   \n",
       "50            0.000126       7918.070588 2005-07-14   \n",
       "53            0.000067      14949.728814 2006-02-23   \n",
       "54            0.000096      10449.147783 2005-07-14   \n",
       "56            0.000069      14564.234043 2006-11-30   \n",
       "60            0.000063      15805.464286 2006-02-23   \n",
       "62            0.000093      10804.446903 2005-07-07   \n",
       "63            0.000114       8761.432990 2007-03-08   \n",
       "64            0.000067      15008.224719 2007-03-08   \n",
       "65            0.000085      11800.691589 2007-03-08   \n",
       "70            0.000191       5231.800000 2002-02-02   \n",
       "71            0.000071      14100.571429 2003-02-02   \n",
       "72            0.000049      20491.883721 2004-02-02   \n",
       "74            0.000076      13218.180000 2005-02-25   \n",
       "78            0.000073      13679.642857 2003-02-27   \n",
       "79            0.000172       5818.809160 2005-07-14   \n",
       "...                ...               ...        ...   \n",
       "2431          0.000025      40682.814815 2017-03-08   \n",
       "2432          0.000031      32337.166667 2016-10-14   \n",
       "2434          0.000029      34822.468750 2016-11-30   \n",
       "2436          0.000051      19551.622642 2017-02-11   \n",
       "2442          0.000100       9982.445652 2017-04-07   \n",
       "2444          0.000024      41738.628571 2017-02-11   \n",
       "2449          0.000015      65027.466667 2016-11-05   \n",
       "2456          0.000129       7755.814208 2017-04-24   \n",
       "2464          0.000021      48600.944444 2017-04-24   \n",
       "2465          0.000011      94681.500000 2016-02-15   \n",
       "2467          0.000028      36119.028571 2017-04-24   \n",
       "2470          0.000016      63632.892857 2017-04-24   \n",
       "2487          0.000016      64103.103448 2017-04-24   \n",
       "2493          0.000043      23113.220339 2017-04-24   \n",
       "2498          0.000027      36895.575000 2017-04-24   \n",
       "2499          0.000052      19364.086957 2017-04-24   \n",
       "2502          0.000017      58238.850000 2017-04-24   \n",
       "2506          0.000027      36647.972222 2017-07-08   \n",
       "2523          0.000027      37239.650000 2016-10-08   \n",
       "2530          0.000020      49260.916667 2017-04-24   \n",
       "2533          0.000036      27601.222222 2017-04-24   \n",
       "2534          0.000003     323087.000000 2017-04-07   \n",
       "2535          0.000011      88473.500000 2017-08-27   \n",
       "2537          0.000039      25873.564103 2017-04-24   \n",
       "2538          0.000011      88775.857143 2016-11-11   \n",
       "2539          0.000019      52731.400000 2017-08-27   \n",
       "2541          0.000018      54732.583333 2017-02-19   \n",
       "2542          0.000006     180696.000000 2017-08-27   \n",
       "2545          0.000038      26495.882353 2017-06-06   \n",
       "2549          0.000020      48965.125000 2017-04-24   \n",
       "\n",
       "                                           ratings_list  num_ratings  \\\n",
       "1     [{'id': 7, 'name': 'Funny', 'count': 544}, {'i...         2936   \n",
       "4     [{'id': 9, 'name': 'Ingenious', 'count': 3202}...        25620   \n",
       "7     [{'id': 9, 'name': 'Ingenious', 'count': 195},...         1024   \n",
       "11    [{'id': 1, 'name': 'Beautiful', 'count': 70}, ...          592   \n",
       "14    [{'id': 3, 'name': 'Courageous', 'count': 83},...          781   \n",
       "15    [{'id': 1, 'name': 'Beautiful', 'count': 1671}...         6239   \n",
       "26    [{'id': 1, 'name': 'Beautiful', 'count': 333},...         4594   \n",
       "27    [{'id': 7, 'name': 'Funny', 'count': 485}, {'i...         2036   \n",
       "28    [{'id': 7, 'name': 'Funny', 'count': 1668}, {'...        10678   \n",
       "30    [{'id': 7, 'name': 'Funny', 'count': 1526}, {'...        14945   \n",
       "34    [{'id': 1, 'name': 'Beautiful', 'count': 60}, ...          755   \n",
       "39    [{'id': 11, 'name': 'Longwinded', 'count': 41}...          969   \n",
       "40    [{'id': 1, 'name': 'Beautiful', 'count': 106},...          952   \n",
       "46    [{'id': 3, 'name': 'Courageous', 'count': 180}...          849   \n",
       "48    [{'id': 7, 'name': 'Funny', 'count': 949}, {'i...         2649   \n",
       "50    [{'id': 8, 'name': 'Informative', 'count': 265...         1004   \n",
       "53    [{'id': 1, 'name': 'Beautiful', 'count': 126},...          719   \n",
       "54    [{'id': 1, 'name': 'Beautiful', 'count': 214},...         2957   \n",
       "56    [{'id': 10, 'name': 'Inspiring', 'count': 94},...          918   \n",
       "60    [{'id': 9, 'name': 'Ingenious', 'count': 89}, ...          571   \n",
       "62    [{'id': 7, 'name': 'Funny', 'count': 199}, {'i...         3605   \n",
       "63    [{'id': 9, 'name': 'Ingenious', 'count': 37}, ...         1182   \n",
       "64    [{'id': 9, 'name': 'Ingenious', 'count': 60}, ...         1747   \n",
       "65    [{'id': 3, 'name': 'Courageous', 'count': 637}...         2367   \n",
       "70    [{'id': 9, 'name': 'Ingenious', 'count': 121},...          676   \n",
       "71    [{'id': 1, 'name': 'Beautiful', 'count': 27}, ...         1374   \n",
       "72    [{'id': 2, 'name': 'Confusing', 'count': 31}, ...         2001   \n",
       "74    [{'id': 2, 'name': 'Confusing', 'count': 69}, ...          556   \n",
       "78    [{'id': 9, 'name': 'Ingenious', 'count': 448},...         2438   \n",
       "79    [{'id': 9, 'name': 'Ingenious', 'count': 78}, ...         1331   \n",
       "...                                                 ...          ...   \n",
       "2431  [{'id': 1, 'name': 'Beautiful', 'count': 344},...          858   \n",
       "2432  [{'id': 8, 'name': 'Informative', 'count': 201...          806   \n",
       "2434  [{'id': 24, 'name': 'Persuasive', 'count': 133...          763   \n",
       "2436  [{'id': 3, 'name': 'Courageous', 'count': 121}...          655   \n",
       "2442  [{'id': 3, 'name': 'Courageous', 'count': 220}...         1108   \n",
       "2444  [{'id': 1, 'name': 'Beautiful', 'count': 197},...         1421   \n",
       "2449  [{'id': 8, 'name': 'Informative', 'count': 171...          448   \n",
       "2456  [{'id': 10, 'name': 'Inspiring', 'count': 950}...         2967   \n",
       "2464  [{'id': 10, 'name': 'Inspiring', 'count': 196}...          509   \n",
       "2465  [{'id': 1, 'name': 'Beautiful', 'count': 151},...          334   \n",
       "2467  [{'id': 10, 'name': 'Inspiring', 'count': 188}...          981   \n",
       "2470  [{'id': 8, 'name': 'Informative', 'count': 374...         1438   \n",
       "2487  [{'id': 24, 'name': 'Persuasive', 'count': 293...         1412   \n",
       "2493  [{'id': 10, 'name': 'Inspiring', 'count': 130}...          427   \n",
       "2498  [{'id': 3, 'name': 'Courageous', 'count': 27},...          365   \n",
       "2499  [{'id': 10, 'name': 'Inspiring', 'count': 94},...          382   \n",
       "2502  [{'id': 10, 'name': 'Inspiring', 'count': 72},...          426   \n",
       "2506  [{'id': 1, 'name': 'Beautiful', 'count': 174},...          817   \n",
       "2523  [{'id': 3, 'name': 'Courageous', 'count': 46},...          367   \n",
       "2530  [{'id': 2, 'name': 'Confusing', 'count': 2}, {...          468   \n",
       "2533  [{'id': 1, 'name': 'Beautiful', 'count': 29}, ...          183   \n",
       "2534  [{'id': 10, 'name': 'Inspiring', 'count': 46},...          221   \n",
       "2535  [{'id': 3, 'name': 'Courageous', 'count': 77},...          431   \n",
       "2537  [{'id': 1, 'name': 'Beautiful', 'count': 484},...         2009   \n",
       "2538  [{'id': 10, 'name': 'Inspiring', 'count': 50},...          231   \n",
       "2539  [{'id': 10, 'name': 'Inspiring', 'count': 73},...          256   \n",
       "2541  [{'id': 11, 'name': 'Longwinded', 'count': 29}...          378   \n",
       "2542  [{'id': 1, 'name': 'Beautiful', 'count': 41}, ...          181   \n",
       "2545  [{'id': 3, 'name': 'Courageous', 'count': 24},...          192   \n",
       "2549  [{'id': 21, 'name': 'Unconvincing', 'count': 2...          142   \n",
       "\n",
       "      funny_ratings funny_rate  \n",
       "1               544   0.185286  \n",
       "4              1390   0.054254  \n",
       "7                 9   0.008789  \n",
       "11                5   0.008446  \n",
       "14               14   0.017926  \n",
       "15              190   0.030454  \n",
       "26              127   0.027645  \n",
       "27              485   0.238212  \n",
       "28             1668   0.156209  \n",
       "30             1526   0.102108  \n",
       "34                5   0.006623  \n",
       "39               26   0.026832  \n",
       "40                8   0.008403  \n",
       "46                5   0.005889  \n",
       "48              949   0.358248  \n",
       "50                3   0.002988  \n",
       "53                5   0.006954  \n",
       "54               47   0.015894  \n",
       "56               20   0.021786  \n",
       "60                3   0.005254  \n",
       "62              199   0.055201  \n",
       "63               11   0.009306  \n",
       "64               44   0.025186  \n",
       "65                3   0.001267  \n",
       "70               15   0.022189  \n",
       "71               35   0.025473  \n",
       "72              468   0.233883  \n",
       "74                7   0.012590  \n",
       "78              507   0.207957  \n",
       "79               15   0.011270  \n",
       "...             ...        ...  \n",
       "2431              5   0.005828  \n",
       "2432              9   0.011166  \n",
       "2434              6   0.007864  \n",
       "2436              2   0.003053  \n",
       "2442             10   0.009025  \n",
       "2444             10   0.007037  \n",
       "2449             11   0.024554  \n",
       "2456             40   0.013482  \n",
       "2464              0   0.000000  \n",
       "2465              5   0.014970  \n",
       "2467              5   0.005097  \n",
       "2470              8   0.005563  \n",
       "2487             39   0.027620  \n",
       "2493              5   0.011710  \n",
       "2498             30   0.082192  \n",
       "2499             18   0.047120  \n",
       "2502              7   0.016432  \n",
       "2506             17   0.020808  \n",
       "2523              3   0.008174  \n",
       "2530             32   0.068376  \n",
       "2533              2   0.010929  \n",
       "2534              4   0.018100  \n",
       "2535             19   0.044084  \n",
       "2537              3   0.001493  \n",
       "2538              5   0.021645  \n",
       "2539              2   0.007812  \n",
       "2541             39   0.103175  \n",
       "2542              6   0.033149  \n",
       "2545              1   0.005208  \n",
       "2549              0   0.000000  \n",
       "\n",
       "[786 rows x 24 columns]"
      ]
     },
     "execution_count": 80,
     "metadata": {},
     "output_type": "execute_result"
    }
   ],
   "source": [
    "ted[ted.speaker_occupation.isin(top_occupations)]"
   ]
  },
  {
   "cell_type": "markdown",
   "metadata": {},
   "source": [
    "Let me assign it to a variable and check its shape "
   ]
  },
  {
   "cell_type": "code",
   "execution_count": 81,
   "metadata": {},
   "outputs": [],
   "source": [
    "ted_top_occupation=ted[ted.speaker_occupation.isin(top_occupations)]"
   ]
  },
  {
   "cell_type": "code",
   "execution_count": 82,
   "metadata": {},
   "outputs": [
    {
     "data": {
      "text/plain": [
       "(786, 24)"
      ]
     },
     "execution_count": 82,
     "metadata": {},
     "output_type": "execute_result"
    }
   ],
   "source": [
    "ted_top_occupation.shape"
   ]
  },
  {
   "cell_type": "code",
   "execution_count": 83,
   "metadata": {},
   "outputs": [
    {
     "data": {
      "text/plain": [
       "speaker_occupation\n",
       "Surgeon                                       0.002465\n",
       "Physician                                     0.004515\n",
       "Photojournalist                               0.004908\n",
       "Investor and advocate for moral leadership    0.005198\n",
       "Photographer                                  0.007152\n",
       "Environmentalist, futurist                    0.007317\n",
       "Violinist                                     0.009534\n",
       "Singer-songwriter                             0.010597\n",
       "Chemist                                       0.010970\n",
       "Philanthropist                                0.012522\n",
       "Activist                                      0.012539\n",
       "Astrophysicist                                0.013147\n",
       "Oceanographer                                 0.014596\n",
       "Paleontologist                                0.015780\n",
       "Social psychologist                           0.015887\n",
       "Tech visionary                                0.016654\n",
       "Sculptor                                      0.016960\n",
       "Social Media Theorist                         0.017450\n",
       "Social entrepreneur                           0.017921\n",
       "Inventor                                      0.021801\n",
       "Sound consultant                              0.022011\n",
       "Legal activist                                0.022303\n",
       "Historian                                     0.023215\n",
       "Musician, activist                            0.023395\n",
       "Economist                                     0.025488\n",
       "Writer, activist                              0.026665\n",
       "Journalist                                    0.027997\n",
       "Computer scientist                            0.029070\n",
       "Architect                                     0.030579\n",
       "Engineer                                      0.031711\n",
       "                                                ...   \n",
       "Roboticist                                    0.042777\n",
       "Astronomer                                    0.044581\n",
       "Psychologist                                  0.044984\n",
       "Musician                                      0.045336\n",
       "Physicist                                     0.046302\n",
       "Filmmaker                                     0.048603\n",
       "Futurist                                      0.050460\n",
       "Behavioral economist                          0.050460\n",
       "Technologist                                  0.050965\n",
       "Chef                                          0.054207\n",
       "Science writer                                0.055993\n",
       "Designer                                      0.059287\n",
       "Writer                                        0.060745\n",
       "Game designer                                 0.062317\n",
       "Reporter                                      0.066250\n",
       "Evolutionary biologist                        0.069157\n",
       "Novelist                                      0.070876\n",
       "Entrepreneur                                  0.073295\n",
       "Author                                        0.075508\n",
       "Artist                                        0.078939\n",
       "Global health expert; data visionary          0.090306\n",
       "Poet                                          0.107398\n",
       "Graphic designer                              0.135718\n",
       "Techno-illusionist                            0.152171\n",
       "Cartoonist                                    0.162120\n",
       "Data scientist                                0.184076\n",
       "Producer                                      0.202531\n",
       "Singer/songwriter                             0.252205\n",
       "Performance poet, multimedia artist           0.306468\n",
       "Comedian                                      0.512457\n",
       "Name: funny_rate, Length: 68, dtype: float64"
      ]
     },
     "execution_count": 83,
     "metadata": {},
     "output_type": "execute_result"
    }
   ],
   "source": [
    "ted_top_occupation.groupby('speaker_occupation').funny_rate.mean().sort_values()"
   ]
  },
  {
   "cell_type": "markdown",
   "metadata": {},
   "source": [
    "## Lessons on Which occupations Deliver the funniest TED talks on average?\n",
    "\n",
    "- Check your assumptions about your data\n",
    "- Check whether your results are reasonable\n",
    "- Take advantage of the fact that pandas operations often output a DataFrame or a Series\n",
    "- Watch out for small sample sizes\n",
    "- Consider the inpact of missing data\n",
    "- Data Scientists are hilarious"
   ]
  }
 ],
 "metadata": {
  "kernelspec": {
   "display_name": "Python 3",
   "language": "python",
   "name": "python3"
  },
  "language_info": {
   "codemirror_mode": {
    "name": "ipython",
    "version": 3
   },
   "file_extension": ".py",
   "mimetype": "text/x-python",
   "name": "python",
   "nbconvert_exporter": "python",
   "pygments_lexer": "ipython3",
   "version": "3.7.3"
  },
  "toc": {
   "base_numbering": 1,
   "nav_menu": {},
   "number_sections": true,
   "sideBar": true,
   "skip_h1_title": false,
   "title_cell": "Table of Contents",
   "title_sidebar": "Contents",
   "toc_cell": true,
   "toc_position": {
    "height": "calc(100% - 180px)",
    "left": "10px",
    "top": "150px",
    "width": "180.67px"
   },
   "toc_section_display": true,
   "toc_window_display": true
  }
 },
 "nbformat": 4,
 "nbformat_minor": 2
}
